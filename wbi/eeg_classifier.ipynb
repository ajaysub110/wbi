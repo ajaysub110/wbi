{
 "cells": [
  {
   "cell_type": "code",
   "execution_count": null,
   "metadata": {},
   "outputs": [],
   "source": [
    "import pandas as pd\n",
    "import numpy as np\n",
    "import mne\n",
    "import re\n",
    "import matplotlib.pyplot as plt\n",
    "\n",
    "import torch\n",
    "import torch.nn as nn\n",
    "import torch.nn.functional as F\n",
    "import torch.optim as opt\n",
    "from torch.utils.data import Dataset, DataLoader"
   ]
  },
  {
   "cell_type": "code",
   "execution_count": null,
   "metadata": {},
   "outputs": [],
   "source": [
    "DATA_PATH = './data/event_data.csv'\n",
    "MFF_DIR = '/home/ajays/Desktop/WBI-data/'\n",
    "STIM_CHANNEL_NAMES = ['201' + str(i) for i in range(10)]\n",
    "EEG_CHANNEL_NAMES = ['E'+ str(i) for i in range(1,33)]"
   ]
  },
  {
   "cell_type": "code",
   "execution_count": null,
   "metadata": {},
   "outputs": [],
   "source": [
    "class EEGDataset(Dataset):\n",
    "    def __init__(self):\n",
    "        self.df = pd.read_csv(DATA_PATH)\n",
    "        self.current_file = None\n",
    "        self.current_raw = None\n",
    "        self.current_events = None\n",
    "        \n",
    "    def __len__(self):\n",
    "        return len(self.df)\n",
    "    \n",
    "    def __getitem__(self, idx):\n",
    "        fname = self.df.iloc[idx]['fname']\n",
    "        if self.current_file != fname or self.current_file is None:\n",
    "            self.current_file = fname\n",
    "            self.current_raw = mne.io.read_raw_egi(MFF_DIR + fname,verbose=False,preload=True).pick_channels(\n",
    "                STIM_CHANNEL_NAMES+EEG_CHANNEL_NAMES)\n",
    "            self.current_events = mne.find_events(self.current_raw,verbose=False)\n",
    "        s_time = self.df.iloc[idx]['s_time']/1000.0\n",
    "        epoch = mne.Epochs(\n",
    "            self.current_raw.copy().pick_types(eeg=True),\n",
    "            self.current_events[idx].reshape(1,-1),tmin=s_time,tmax=s_time+2.0-1.0/self.current_raw.info['sfreq'],\n",
    "            baseline=None,verbose=False)\n",
    "        # TODO: apply filter to eeg data\n",
    "        X = epoch.get_data()\n",
    "        y = self.df.iloc[idx]['label']\n",
    "        \n",
    "        return X, y"
   ]
  },
  {
   "cell_type": "code",
   "execution_count": null,
   "metadata": {},
   "outputs": [],
   "source": [
    "eeg_dataset = EEGDataset()"
   ]
  },
  {
   "cell_type": "code",
   "execution_count": null,
   "metadata": {},
   "outputs": [],
   "source": [
    "\"\"\"\n",
    "Issues:\n",
    "- a few data values are empty\n",
    "- there are only 200 examples in the dataset\n",
    "\"\"\""
   ]
  },
  {
   "cell_type": "code",
   "execution_count": null,
   "metadata": {},
   "outputs": [],
   "source": [
    "# build model\n",
    "class EEGEncoder(nn.Module):\n",
    "    def __init__(self, n_i):\n",
    "        super(EEGEncoder,self).__init__();\n",
    "        self.lstm1 = nn.LSTM(n_i, n_i, 1, bidirectional=False)\n",
    "        self.linear2 = nn.Linear(n_i, n_i)\n",
    "        self.linear3 = nn.Linear(n_i,n_i)\n",
    "        self.linear4 = nn.Linear(n_i,10)\n",
    "        \n",
    "    def forward(self, x, hidden):\n",
    "        x, (hn,cn) = self.lstm1(x,hidden)\n",
    "        enc = self.linear2(hn)\n",
    "        x = F.relu(enc)\n",
    "        x = self.linear3(x)\n",
    "        x = self.linear4(x)\n",
    "        x = torch.sigmoid(x)\n",
    "        \n",
    "        return x"
   ]
  }
 ],
 "metadata": {
  "kernelspec": {
   "display_name": "Python 3",
   "language": "python",
   "name": "python3"
  },
  "language_info": {
   "codemirror_mode": {
    "name": "ipython",
    "version": 3
   },
   "file_extension": ".py",
   "mimetype": "text/x-python",
   "name": "python",
   "nbconvert_exporter": "python",
   "pygments_lexer": "ipython3",
   "version": "3.7.4"
  }
 },
 "nbformat": 4,
 "nbformat_minor": 2
}
