{
 "cells": [
  {
   "cell_type": "code",
   "execution_count": null,
   "metadata": {},
   "outputs": [],
   "source": [
    "import mne\n",
    "import re\n",
    "import numpy as np\n",
    "import matplotlib.pyplot as plt\n",
    "import os\n",
    "import pickle\n",
    "import pandas as pd\n",
    "\n",
    "import torch\n",
    "from torch.utils.data import Dataset, DataLoader\n",
    "from torchvision import transforms, utils\n",
    "\n",
    "plt.ion()"
   ]
  },
  {
   "cell_type": "code",
   "execution_count": null,
   "metadata": {},
   "outputs": [],
   "source": [
    "MFF_DIR = '/home/ajays/Desktop/WBI-data/'\n",
    "STIM_CHANNEL_NAMES = ['201' + str(i) for i in range(10)]"
   ]
  },
  {
   "cell_type": "code",
   "execution_count": null,
   "metadata": {},
   "outputs": [],
   "source": [
    "def get_mapping(raw):    \n",
    "    \"\"\"\n",
    "    algorithm to map ids to strings\n",
    "    - create individual raw copies for each stimulus channel i\n",
    "    - for each raw copy, find events and set id = events[0,:2]\n",
    "    - id_list[i] = id\n",
    "    \"\"\"\n",
    "    id_list = [0]*10\n",
    "    for i,sc in enumerate(STIM_CHANNEL_NAMES):\n",
    "        raw_temp = raw.copy()\n",
    "        raw_temp.pick([sc])\n",
    "        events = mne.find_events(raw_temp, verbose=False)\n",
    "        id_list[i] = events[0,2]\n",
    "        \n",
    "    raw_temp = raw.copy()\n",
    "    picks = raw_temp.pick(STIM_CHANNEL_NAMES)\n",
    "    events = mne.find_events(raw_temp, verbose=False)\n",
    "        \n",
    "    return id_list, events, picks"
   ]
  },
  {
   "cell_type": "code",
   "execution_count": null,
   "metadata": {},
   "outputs": [],
   "source": [
    "fnames = sorted(filter(re.compile(\"[a-zA-Z0-9_-]*.mff\").match, os.listdir(MFF_DIR)))\n",
    "print(fnames)"
   ]
  },
  {
   "cell_type": "code",
   "execution_count": null,
   "metadata": {},
   "outputs": [],
   "source": [
    "\"\"\"\n",
    "algorithm to create dataframe\n",
    "DF = nothing dataframe\n",
    "for file in files:\n",
    "    read raw file\n",
    "    id_list, events, picks = get_mapping(raw)\n",
    "    new_events = convert_labels(id_list,events){\n",
    "        replace each event with index val in id_list array\n",
    "    }\n",
    "    df = prepare_df(file,raw,new_events){\n",
    "        dset = new_events[0 and 2]\n",
    "        make dset into df\n",
    "        add filename col = file\n",
    "        return df\n",
    "    }\n",
    "    append df to DF\n",
    "\"\"\"\n",
    "def convert_labels(id_list,events):\n",
    "    events[:,-1] = np.array([id_list.index(events[i,-1]) for i in range(len(events))])\n",
    "    return events\n",
    "\n",
    "def prepare_df(fname,raw,new_events):\n",
    "    dset = new_events[:,[0,2]]\n",
    "    df = pd.DataFrame(dset,columns=['s_time','label'])\n",
    "    df['fname'] = [fname]*len(df)\n",
    "    return df\n",
    "    \n",
    "data_df = []\n",
    "for i,fname in enumerate(fnames):\n",
    "    raw = mne.io.read_raw_egi(MFF_DIR + fname, preload=True, verbose=False)\n",
    "    id_list, events, picks = get_mapping(raw)\n",
    "    new_events = convert_labels(id_list,events)\n",
    "    df = prepare_df(fname,raw,new_events)\n",
    "    if len(data_df) == 0:\n",
    "        data_df = df\n",
    "    else:\n",
    "        data_df = data_df.append(df)\n",
    "    print(i,fname)"
   ]
  },
  {
   "cell_type": "code",
   "execution_count": null,
   "metadata": {},
   "outputs": [],
   "source": [
    "print(data_df.to_csv('./event_data.csv',index=False))"
   ]
  },
  {
   "cell_type": "code",
   "execution_count": null,
   "metadata": {},
   "outputs": [],
   "source": [
    "print(data_df.head())"
   ]
  },
  {
   "cell_type": "code",
   "execution_count": null,
   "metadata": {},
   "outputs": [],
   "source": []
  }
 ],
 "metadata": {
  "kernelspec": {
   "display_name": "Python 3",
   "language": "python",
   "name": "python3"
  },
  "language_info": {
   "codemirror_mode": {
    "name": "ipython",
    "version": 3
   },
   "file_extension": ".py",
   "mimetype": "text/x-python",
   "name": "python",
   "nbconvert_exporter": "python",
   "pygments_lexer": "ipython3",
   "version": "3.7.4"
  }
 },
 "nbformat": 4,
 "nbformat_minor": 2
}
