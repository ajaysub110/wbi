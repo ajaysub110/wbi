{
 "cells": [
  {
   "cell_type": "code",
   "execution_count": 1,
   "metadata": {},
   "outputs": [],
   "source": [
    "import mne\n",
    "import numpy as np\n",
    "import os\n",
    "import re\n",
    "import matplotlib.pyplot as pl\n",
    "%matplotlib inline"
   ]
  },
  {
   "cell_type": "code",
   "execution_count": 2,
   "metadata": {},
   "outputs": [],
   "source": [
    "raw_files = set(filter(re.compile(\".*.mff\").match, os.listdir(\"./VRCP\")))\n",
    "fil_files = set(filter(re.compile(\".*fil.mff\").match, os.listdir(\"./VRCP\")))\n",
    "seg_files = set(filter(re.compile(\".*seg.mff\").match, os.listdir(\"./VRCP\")))\n",
    "mat_files = set(filter(re.compile(\".*.mat\").match, os.listdir(\"./VRCP\")))\n",
    "raw_files = raw_files - fil_files - seg_files - mat_files"
   ]
  },
  {
   "cell_type": "code",
   "execution_count": 3,
   "metadata": {},
   "outputs": [
    {
     "name": "stdout",
     "output_type": "stream",
     "text": [
      "{'VRCP-CYM-Atharva-April12_20190412_044115_fil.mff', 'VRCP-CYM-HarshaW-27-3-19_20190327_120035_fil.mff', 'VRCP-RGB-Atharva-April12_20190412_042629_fil.mff', 'VRCP-RGB-HarshaW-27-3-19_20190327_114603_fil.mff'}\n"
     ]
    }
   ],
   "source": [
    "print(fil_files)"
   ]
  },
  {
   "cell_type": "code",
   "execution_count": 4,
   "metadata": {},
   "outputs": [],
   "source": [
    "data_ = []\n",
    "psd_data_ = []\n",
    "freqs_ = []\n",
    "labels_ = []\n",
    "\n",
    "time_of_event = 5 # colour was shown for 5 seconds\n",
    "stride_split = 0.1 # stride of 0.2 seconds while splitting events\n",
    "time_of_split = 1 # size of one window is 1 second i.e. 1000ms\n",
    "num_splits = (time_of_event - time_of_split)/stride_split + 1\n",
    "h_freq = 30\n",
    "\n",
    "channels = ['E9', 'E10', 'E20']"
   ]
  },
  {
   "cell_type": "code",
   "execution_count": 5,
   "metadata": {},
   "outputs": [
    {
     "name": "stdout",
     "output_type": "stream",
     "text": [
      "41.0 1\n"
     ]
    }
   ],
   "source": [
    "print(num_splits, time_of_split)"
   ]
  },
  {
   "cell_type": "code",
   "execution_count": 6,
   "metadata": {},
   "outputs": [],
   "source": [
    "x = 0\n",
    "num_ev_fil = np.zeros(4, dtype = np.int32)"
   ]
  },
  {
   "cell_type": "code",
   "execution_count": 7,
   "metadata": {},
   "outputs": [],
   "source": [
    "for ff in fil_files:\n",
    "    fil_egi = mne.io.read_raw_egi(\"VRCP/\" + ff, verbose = False)\n",
    "    sfreq = fil_egi.info['sfreq']\n",
    "    ev = mne.find_events(fil_egi, verbose = False)\n",
    "    ev = ev[:-1] # dont use the last event as it may not be sampled for 5 seconds, epoch creation will give error\n",
    "    \n",
    "    tmin = 0\n",
    "    tmax = time_of_split - 1/sfreq\n",
    "    s = 0\n",
    "    for i in range((int)(num_splits)):\n",
    "        shifted_ev = mne.event.shift_time_events(ev, [1, 2, 3], i*stride_split, sfreq)\n",
    "        ep = mne.Epochs(fil_egi, shifted_ev, tmin = tmin, tmax = tmax, picks = channels, baseline = (None, None), verbose = False)\n",
    "        ep_fil = ep.load_data().filter(l_freq = 0, h_freq = 30)\n",
    "        psd, freq = mne.time_frequency.psd_multitaper(ep_fil, fmax = 30, verbose = False)\n",
    "        \n",
    "        psd_data_.append(psd)\n",
    "        freqs_.append(np.expand_dims(freq, axis = 1))\n",
    "        labels_.append(shifted_ev[ep.selection, 2])\n",
    "        s = s + len(ep.selection)\n",
    "    num_ev_fil[x] = s\n",
    "    x = x + 1;"
   ]
  },
  {
   "cell_type": "code",
   "execution_count": 8,
   "metadata": {},
   "outputs": [
    {
     "name": "stdout",
     "output_type": "stream",
     "text": [
      "41.0\n",
      "10373\n",
      "[2337 2419 3198 2419]\n",
      "164 164\n"
     ]
    }
   ],
   "source": [
    "print(num_splits)\n",
    "print(num_ev_fil.sum())\n",
    "print(num_ev_fil)\n",
    "print(len(psd_data_), len(labels_))"
   ]
  },
  {
   "cell_type": "code",
   "execution_count": 9,
   "metadata": {},
   "outputs": [],
   "source": [
    "# # add features - sums of delta(0-4), theta(4-7), alpha(8-15), beta(16-31)\n",
    "\n",
    "# d_max = 4\n",
    "# t_max = 8\n",
    "# a_max = 14\n",
    "# b_max = 30\n",
    "\n",
    "# d_r = np.searchsorted(freqs, d_max, side = 'left') \n",
    "# t_r = np.searchsorted(freqs, t_max, side = 'left') \n",
    "# a_r = np.searchsorted(freqs, a_max, side = 'left') \n",
    "# b_r = np.searchsorted(freqs, b_max, side = 'left') \n",
    "\n",
    "# print(psd_data.shape)\n",
    "\n",
    "# d_sums = np.expand_dims(psd_data[:, :, :d_r].sum(2), axis = 2)\n",
    "# t_sums = np.expand_dims(psd_data[:, :, d_r:t_r].sum(2), axis = 2)\n",
    "# a_sums = np.expand_dims(psd_data[:, :, t_r:a_r].sum(2), axis = 2)\n",
    "# b_sums = np.expand_dims(psd_data[:, :, a_r:b_r].sum(2), axis = 2)\n",
    "# print(d_sums.shape, t_sums.shape, a_sums.shape, b_sums.shape)\n",
    "# band_sums = np.concatenate([d_sums, t_sums, a_sums, b_sums], axis = 2)\n",
    "# print(band_sums.shape)\n",
    "\n",
    "# psd_band_data = np.concatenate([psd_data, band_sums], axis = 2)\n",
    "# print(psd_band_data.shape)"
   ]
  },
  {
   "cell_type": "code",
   "execution_count": 10,
   "metadata": {},
   "outputs": [
    {
     "name": "stderr",
     "output_type": "stream",
     "text": [
      "Using TensorFlow backend.\n",
      "/Users/advaitrane/anaconda3/lib/python3.6/site-packages/tensorflow/python/framework/dtypes.py:526: FutureWarning: Passing (type, 1) or '1type' as a synonym of type is deprecated; in a future version of numpy, it will be understood as (type, (1,)) / '(1,)type'.\n",
      "  _np_qint8 = np.dtype([(\"qint8\", np.int8, 1)])\n",
      "/Users/advaitrane/anaconda3/lib/python3.6/site-packages/tensorflow/python/framework/dtypes.py:527: FutureWarning: Passing (type, 1) or '1type' as a synonym of type is deprecated; in a future version of numpy, it will be understood as (type, (1,)) / '(1,)type'.\n",
      "  _np_quint8 = np.dtype([(\"quint8\", np.uint8, 1)])\n",
      "/Users/advaitrane/anaconda3/lib/python3.6/site-packages/tensorflow/python/framework/dtypes.py:528: FutureWarning: Passing (type, 1) or '1type' as a synonym of type is deprecated; in a future version of numpy, it will be understood as (type, (1,)) / '(1,)type'.\n",
      "  _np_qint16 = np.dtype([(\"qint16\", np.int16, 1)])\n",
      "/Users/advaitrane/anaconda3/lib/python3.6/site-packages/tensorflow/python/framework/dtypes.py:529: FutureWarning: Passing (type, 1) or '1type' as a synonym of type is deprecated; in a future version of numpy, it will be understood as (type, (1,)) / '(1,)type'.\n",
      "  _np_quint16 = np.dtype([(\"quint16\", np.uint16, 1)])\n",
      "/Users/advaitrane/anaconda3/lib/python3.6/site-packages/tensorflow/python/framework/dtypes.py:530: FutureWarning: Passing (type, 1) or '1type' as a synonym of type is deprecated; in a future version of numpy, it will be understood as (type, (1,)) / '(1,)type'.\n",
      "  _np_qint32 = np.dtype([(\"qint32\", np.int32, 1)])\n",
      "/Users/advaitrane/anaconda3/lib/python3.6/site-packages/tensorflow/python/framework/dtypes.py:535: FutureWarning: Passing (type, 1) or '1type' as a synonym of type is deprecated; in a future version of numpy, it will be understood as (type, (1,)) / '(1,)type'.\n",
      "  np_resource = np.dtype([(\"resource\", np.ubyte, 1)])\n"
     ]
    }
   ],
   "source": [
    "import keras\n",
    "from keras.models import Sequential\n",
    "from keras.layers import Dense, Flatten, LeakyReLU, BatchNormalization, Dropout\n",
    "from keras.utils import to_categorical\n",
    "from sklearn.model_selection import train_test_split"
   ]
  },
  {
   "cell_type": "code",
   "execution_count": 11,
   "metadata": {},
   "outputs": [],
   "source": [
    "def get_model():\n",
    "    model = Sequential()\n",
    "    model.add(Flatten())\n",
    "    model.add(Dense(64, activation = 'relu'))\n",
    "    model.add(BatchNormalization())\n",
    "    model.add(Dense(32, activation = 'relu'))\n",
    "    model.add(Dense(16, activation = 'relu'))\n",
    "    model.add(Dense(8, activation = 'relu'))\n",
    "    model.add(Dense(3, activation = 'softmax'))\n",
    "    \n",
    "    return model"
   ]
  },
  {
   "cell_type": "code",
   "execution_count": 12,
   "metadata": {},
   "outputs": [],
   "source": [
    "def get_data(file_no):\n",
    "    start_index = (int)(num_splits * file_no)\n",
    "    end_index = (int)(start_index + num_splits)\n",
    "    \n",
    "    labels = np.concatenate(labels_[start_index:end_index])\n",
    "    psd_data = np.concatenate(psd_data_[start_index:end_index])\n",
    "    freqs = freq\n",
    "\n",
    "    labels_cat = to_categorical(labels)\n",
    "    labels_cat = labels_cat[:, 1:]\n",
    "\n",
    "    psd_train, psd_test, labels_train, labels_test = train_test_split(psd_data, \n",
    "                                                                labels_cat, test_size = 0.2, stratify = labels_cat)\n",
    "\n",
    "    psd_train_amp = psd_train*1e9\n",
    "    psd_test_amp = psd_test*1e9\n",
    "    \n",
    "    return psd_train_amp, psd_test_amp, labels_train, labels_test, freqs\n"
   ]
  },
  {
   "cell_type": "code",
   "execution_count": 47,
   "metadata": {},
   "outputs": [],
   "source": [
    "def plot_channel_colours(psd_cym, psd_rgb, labels_cym, labels_rgb, freqs_cym, freqs_rgb, channel):\n",
    "    c1 = {0 : 'cyan', 1 : 'yellow', 2 : 'magenta'}\n",
    "    c2 = {0 : 'red', 1 : 'green', 2 : 'blue'}\n",
    "\n",
    "    for col in range(3):\n",
    "        pl.subplot(2, 3, col+1)#, figsize = (15, 15))\n",
    "        for i, psd in enumerate(psd_cym):\n",
    "            if(labels_cym[i, col] == 1):\n",
    "                pl.plot(freqs_cym[5:], psd[channel, 5:], color = c1[col])\n",
    "\n",
    "    for col in range(3):\n",
    "        pl.subplot(2, 3, 3+col+1)#, figsize = (15, 15))\n",
    "        for i, psd in enumerate(psd_rgb):\n",
    "            if(labels_rgb[i, col] == 1):\n",
    "                pl.plot(freqs_rgb[5:], psd[channel, 5:], color = c2[col])\n",
    "\n",
    "    pl.show()"
   ]
  },
  {
   "cell_type": "code",
   "execution_count": 14,
   "metadata": {},
   "outputs": [],
   "source": [
    "# model_a_cym = Sequential()\n",
    "# model_a_cym.add(Flatten())\n",
    "# # model.add(Dense(128, activation = 'relu'))\n",
    "# model_a_cym.add(Dense(64, activation = 'relu'))\n",
    "# model_a_cym.add(BatchNormalization())\n",
    "# model_a_cym.add(Dense(32, activation = 'relu'))\n",
    "# # model_a_cym.add(BatchNormalization())\n",
    "# model_a_cym.add(Dense(16, activation = 'relu'))\n",
    "# # model.add(BatchNormalization())\n",
    "# model_a_cym.add(Dense(8, activation = 'relu'))\n",
    "# # model.add(BatchNormalization())\n",
    "# # model.add(LeakyReLU())\n",
    "# model_a_cym.add(Dense(3, activation = 'softmax'))\n",
    "\n",
    "psd_acym_train, psd_acym_test, labels_acym_train, labels_acym_test, freqs_acym = get_data(0) \n",
    "model_acym = get_model()"
   ]
  },
  {
   "cell_type": "code",
   "execution_count": 15,
   "metadata": {},
   "outputs": [
    {
     "name": "stdout",
     "output_type": "stream",
     "text": [
      "WARNING:tensorflow:From /Users/advaitrane/anaconda3/lib/python3.6/site-packages/tensorflow/python/framework/op_def_library.py:263: colocate_with (from tensorflow.python.framework.ops) is deprecated and will be removed in a future version.\n",
      "Instructions for updating:\n",
      "Colocations handled automatically by placer.\n"
     ]
    }
   ],
   "source": [
    "model_acym.compile(loss = 'categorical_crossentropy', optimizer = 'adam', metrics = ['accuracy'])"
   ]
  },
  {
   "cell_type": "code",
   "execution_count": 16,
   "metadata": {},
   "outputs": [
    {
     "name": "stdout",
     "output_type": "stream",
     "text": [
      "WARNING:tensorflow:From /Users/advaitrane/anaconda3/lib/python3.6/site-packages/tensorflow/python/ops/math_ops.py:3066: to_int32 (from tensorflow.python.ops.math_ops) is deprecated and will be removed in a future version.\n",
      "Instructions for updating:\n",
      "Use tf.cast instead.\n",
      "Train on 1495 samples, validate on 374 samples\n",
      "Epoch 1/120\n",
      " - 1s - loss: 1.0948 - acc: 0.3679 - val_loss: 1.0758 - val_acc: 0.4385\n",
      "Epoch 2/120\n",
      " - 0s - loss: 1.0679 - acc: 0.4194 - val_loss: 1.0760 - val_acc: 0.4492\n",
      "Epoch 3/120\n",
      " - 0s - loss: 1.0513 - acc: 0.4368 - val_loss: 1.0680 - val_acc: 0.4439\n",
      "Epoch 4/120\n",
      " - 0s - loss: 1.0349 - acc: 0.4569 - val_loss: 1.0546 - val_acc: 0.4813\n",
      "Epoch 5/120\n",
      " - 0s - loss: 1.0218 - acc: 0.4716 - val_loss: 1.0351 - val_acc: 0.4920\n",
      "Epoch 6/120\n",
      " - 0s - loss: 1.0158 - acc: 0.4669 - val_loss: 1.0434 - val_acc: 0.4733\n",
      "Epoch 7/120\n",
      " - 0s - loss: 1.0263 - acc: 0.4609 - val_loss: 1.0285 - val_acc: 0.4465\n",
      "Epoch 8/120\n",
      " - 0s - loss: 1.0201 - acc: 0.4749 - val_loss: 1.0077 - val_acc: 0.5000\n",
      "Epoch 9/120\n",
      " - 0s - loss: 1.0013 - acc: 0.4856 - val_loss: 1.0082 - val_acc: 0.4893\n",
      "Epoch 10/120\n",
      " - 0s - loss: 1.0077 - acc: 0.4836 - val_loss: 1.0135 - val_acc: 0.4840\n",
      "Epoch 11/120\n",
      " - 0s - loss: 1.0062 - acc: 0.4729 - val_loss: 1.0132 - val_acc: 0.4947\n",
      "Epoch 12/120\n",
      " - 0s - loss: 0.9755 - acc: 0.5137 - val_loss: 1.0017 - val_acc: 0.4920\n",
      "Epoch 13/120\n",
      " - 0s - loss: 0.9854 - acc: 0.4957 - val_loss: 0.9772 - val_acc: 0.5348\n",
      "Epoch 14/120\n",
      " - 0s - loss: 0.9926 - acc: 0.4883 - val_loss: 0.9794 - val_acc: 0.5508\n",
      "Epoch 15/120\n",
      " - 0s - loss: 0.9808 - acc: 0.4910 - val_loss: 0.9934 - val_acc: 0.4947\n",
      "Epoch 16/120\n",
      " - 0s - loss: 0.9615 - acc: 0.5124 - val_loss: 0.9616 - val_acc: 0.5535\n",
      "Epoch 17/120\n",
      " - 0s - loss: 0.9526 - acc: 0.5492 - val_loss: 0.9771 - val_acc: 0.5080\n",
      "Epoch 18/120\n",
      " - 0s - loss: 0.9564 - acc: 0.5284 - val_loss: 0.9824 - val_acc: 0.4947\n",
      "Epoch 19/120\n",
      " - 0s - loss: 0.9501 - acc: 0.5144 - val_loss: 0.9713 - val_acc: 0.5294\n",
      "Epoch 20/120\n",
      " - 0s - loss: 0.9396 - acc: 0.5398 - val_loss: 0.9378 - val_acc: 0.5481\n",
      "Epoch 21/120\n",
      " - 0s - loss: 0.9438 - acc: 0.5358 - val_loss: 0.9793 - val_acc: 0.5107\n",
      "Epoch 22/120\n",
      " - 0s - loss: 0.9363 - acc: 0.5391 - val_loss: 0.9627 - val_acc: 0.5160\n",
      "Epoch 23/120\n",
      " - 0s - loss: 0.9457 - acc: 0.5344 - val_loss: 0.9525 - val_acc: 0.5348\n",
      "Epoch 24/120\n",
      " - 0s - loss: 0.9124 - acc: 0.5639 - val_loss: 0.9588 - val_acc: 0.5321\n",
      "Epoch 25/120\n",
      " - 0s - loss: 0.9112 - acc: 0.5619 - val_loss: 0.9503 - val_acc: 0.5508\n",
      "Epoch 26/120\n",
      " - 0s - loss: 0.9254 - acc: 0.5532 - val_loss: 0.9505 - val_acc: 0.5241\n",
      "Epoch 27/120\n",
      " - 0s - loss: 0.9190 - acc: 0.5512 - val_loss: 0.9859 - val_acc: 0.5000\n",
      "Epoch 28/120\n",
      " - 0s - loss: 0.9197 - acc: 0.5579 - val_loss: 0.9798 - val_acc: 0.4893\n",
      "Epoch 29/120\n",
      " - 0s - loss: 0.9161 - acc: 0.5532 - val_loss: 0.9724 - val_acc: 0.5374\n",
      "Epoch 30/120\n",
      " - 0s - loss: 0.9139 - acc: 0.5699 - val_loss: 0.9506 - val_acc: 0.5214\n",
      "Epoch 31/120\n",
      " - 0s - loss: 0.9019 - acc: 0.5692 - val_loss: 0.9701 - val_acc: 0.5321\n",
      "Epoch 32/120\n",
      " - 0s - loss: 0.9038 - acc: 0.5666 - val_loss: 0.9504 - val_acc: 0.5374\n",
      "Epoch 33/120\n",
      " - 0s - loss: 0.9183 - acc: 0.5438 - val_loss: 0.9502 - val_acc: 0.5428\n",
      "Epoch 34/120\n",
      " - 0s - loss: 0.8992 - acc: 0.5639 - val_loss: 0.9313 - val_acc: 0.5588\n",
      "Epoch 35/120\n",
      " - 0s - loss: 0.9057 - acc: 0.5472 - val_loss: 0.9218 - val_acc: 0.5481\n",
      "Epoch 36/120\n",
      " - 0s - loss: 0.8836 - acc: 0.5846 - val_loss: 0.9329 - val_acc: 0.5428\n",
      "Epoch 37/120\n",
      " - 0s - loss: 0.8965 - acc: 0.5679 - val_loss: 0.9510 - val_acc: 0.5187\n",
      "Epoch 38/120\n",
      " - 0s - loss: 0.8977 - acc: 0.5686 - val_loss: 0.9268 - val_acc: 0.5428\n",
      "Epoch 39/120\n",
      " - 0s - loss: 0.9029 - acc: 0.5605 - val_loss: 0.9446 - val_acc: 0.5267\n",
      "Epoch 40/120\n",
      " - 0s - loss: 0.8887 - acc: 0.5779 - val_loss: 0.9177 - val_acc: 0.5829\n",
      "Epoch 41/120\n",
      " - 0s - loss: 0.8735 - acc: 0.5880 - val_loss: 0.8886 - val_acc: 0.5856\n",
      "Epoch 42/120\n",
      " - 0s - loss: 0.8936 - acc: 0.5706 - val_loss: 0.9553 - val_acc: 0.5428\n",
      "Epoch 43/120\n",
      " - 0s - loss: 0.8826 - acc: 0.5886 - val_loss: 0.9375 - val_acc: 0.5401\n",
      "Epoch 44/120\n",
      " - 0s - loss: 0.8844 - acc: 0.5766 - val_loss: 0.9382 - val_acc: 0.5160\n",
      "Epoch 45/120\n",
      " - 0s - loss: 0.8837 - acc: 0.5706 - val_loss: 0.9411 - val_acc: 0.5481\n",
      "Epoch 46/120\n",
      " - 0s - loss: 0.8654 - acc: 0.5967 - val_loss: 0.9664 - val_acc: 0.5294\n",
      "Epoch 47/120\n",
      " - 0s - loss: 0.8675 - acc: 0.6013 - val_loss: 0.9151 - val_acc: 0.5642\n",
      "Epoch 48/120\n",
      " - 0s - loss: 0.8445 - acc: 0.5946 - val_loss: 0.9421 - val_acc: 0.5615\n",
      "Epoch 49/120\n",
      " - 0s - loss: 0.8574 - acc: 0.5980 - val_loss: 0.9095 - val_acc: 0.5695\n",
      "Epoch 50/120\n",
      " - 0s - loss: 0.8469 - acc: 0.6094 - val_loss: 0.9255 - val_acc: 0.5401\n",
      "Epoch 51/120\n",
      " - 0s - loss: 0.8657 - acc: 0.5920 - val_loss: 0.8955 - val_acc: 0.5749\n",
      "Epoch 52/120\n",
      " - 0s - loss: 0.8270 - acc: 0.6274 - val_loss: 0.8941 - val_acc: 0.5882\n",
      "Epoch 53/120\n",
      " - 0s - loss: 0.8372 - acc: 0.6167 - val_loss: 0.8716 - val_acc: 0.5963\n",
      "Epoch 54/120\n",
      " - 0s - loss: 0.8191 - acc: 0.6247 - val_loss: 0.9018 - val_acc: 0.5722\n",
      "Epoch 55/120\n",
      " - 0s - loss: 0.8351 - acc: 0.6013 - val_loss: 0.8912 - val_acc: 0.5749\n",
      "Epoch 56/120\n",
      " - 0s - loss: 0.8257 - acc: 0.6060 - val_loss: 0.9246 - val_acc: 0.5508\n",
      "Epoch 57/120\n",
      " - 0s - loss: 0.8175 - acc: 0.6361 - val_loss: 0.8879 - val_acc: 0.5535\n",
      "Epoch 58/120\n",
      " - 0s - loss: 0.8083 - acc: 0.6167 - val_loss: 0.8974 - val_acc: 0.5749\n",
      "Epoch 59/120\n",
      " - 0s - loss: 0.8216 - acc: 0.6140 - val_loss: 0.8813 - val_acc: 0.6043\n",
      "Epoch 60/120\n",
      " - 0s - loss: 0.7996 - acc: 0.6408 - val_loss: 0.8955 - val_acc: 0.5802\n",
      "Epoch 61/120\n",
      " - 0s - loss: 0.8279 - acc: 0.6033 - val_loss: 0.8737 - val_acc: 0.5909\n",
      "Epoch 62/120\n",
      " - 0s - loss: 0.8267 - acc: 0.6107 - val_loss: 0.9156 - val_acc: 0.5882\n",
      "Epoch 63/120\n",
      " - 0s - loss: 0.8204 - acc: 0.6134 - val_loss: 0.8879 - val_acc: 0.5802\n",
      "Epoch 64/120\n",
      " - 0s - loss: 0.8264 - acc: 0.6027 - val_loss: 0.9234 - val_acc: 0.5321\n",
      "Epoch 65/120\n",
      " - 0s - loss: 0.7969 - acc: 0.6314 - val_loss: 0.8941 - val_acc: 0.5588\n",
      "Epoch 66/120\n",
      " - 0s - loss: 0.7901 - acc: 0.6314 - val_loss: 0.8756 - val_acc: 0.5882\n",
      "Epoch 67/120\n",
      " - 0s - loss: 0.7930 - acc: 0.6294 - val_loss: 0.8812 - val_acc: 0.5856\n",
      "Epoch 68/120\n",
      " - 0s - loss: 0.7927 - acc: 0.6388 - val_loss: 0.8695 - val_acc: 0.5909\n",
      "Epoch 69/120\n",
      " - 0s - loss: 0.7837 - acc: 0.6582 - val_loss: 0.8680 - val_acc: 0.6096\n",
      "Epoch 70/120\n",
      " - 0s - loss: 0.7629 - acc: 0.6595 - val_loss: 1.1701 - val_acc: 0.6096\n",
      "Epoch 71/120\n",
      " - 0s - loss: 0.7874 - acc: 0.6194 - val_loss: 0.8917 - val_acc: 0.5722\n",
      "Epoch 72/120\n",
      " - 0s - loss: 0.7669 - acc: 0.6468 - val_loss: 0.8667 - val_acc: 0.5989\n",
      "Epoch 73/120\n",
      " - 0s - loss: 0.7820 - acc: 0.6421 - val_loss: 0.8402 - val_acc: 0.6230\n",
      "Epoch 74/120\n",
      " - 0s - loss: 0.7591 - acc: 0.6515 - val_loss: 0.8512 - val_acc: 0.6283\n",
      "Epoch 75/120\n",
      " - 0s - loss: 0.7819 - acc: 0.6495 - val_loss: 0.8404 - val_acc: 0.6150\n",
      "Epoch 76/120\n",
      " - 0s - loss: 0.7825 - acc: 0.6395 - val_loss: 0.8854 - val_acc: 0.5856\n",
      "Epoch 77/120\n",
      " - 0s - loss: 0.7556 - acc: 0.6435 - val_loss: 0.8155 - val_acc: 0.6444\n",
      "Epoch 78/120\n",
      " - 0s - loss: 0.7768 - acc: 0.6488 - val_loss: 0.8644 - val_acc: 0.6070\n",
      "Epoch 79/120\n",
      " - 0s - loss: 0.7666 - acc: 0.6582 - val_loss: 0.8610 - val_acc: 0.5802\n",
      "Epoch 80/120\n",
      " - 0s - loss: 0.7772 - acc: 0.6448 - val_loss: 0.8417 - val_acc: 0.6043\n",
      "Epoch 81/120\n",
      " - 0s - loss: 0.7626 - acc: 0.6548 - val_loss: 0.8389 - val_acc: 0.6310\n",
      "Epoch 82/120\n",
      " - 0s - loss: 0.7549 - acc: 0.6562 - val_loss: 0.8877 - val_acc: 0.5909\n",
      "Epoch 83/120\n",
      " - 0s - loss: 0.7783 - acc: 0.6408 - val_loss: 0.8234 - val_acc: 0.6150\n",
      "Epoch 84/120\n",
      " - 0s - loss: 0.7162 - acc: 0.6702 - val_loss: 0.8422 - val_acc: 0.6043\n",
      "Epoch 85/120\n",
      " - 0s - loss: 0.7454 - acc: 0.6542 - val_loss: 0.8683 - val_acc: 0.5829\n",
      "Epoch 86/120\n",
      " - 0s - loss: 0.7357 - acc: 0.6602 - val_loss: 0.8373 - val_acc: 0.6096\n",
      "Epoch 87/120\n",
      " - 0s - loss: 0.7238 - acc: 0.6736 - val_loss: 0.8665 - val_acc: 0.5749\n",
      "Epoch 88/120\n",
      " - 0s - loss: 0.7532 - acc: 0.6569 - val_loss: 0.8433 - val_acc: 0.6230\n",
      "Epoch 89/120\n",
      " - 0s - loss: 0.7503 - acc: 0.6595 - val_loss: 0.8660 - val_acc: 0.5642\n",
      "Epoch 90/120\n",
      " - 0s - loss: 0.7342 - acc: 0.6742 - val_loss: 0.9074 - val_acc: 0.5802\n",
      "Epoch 91/120\n",
      " - 0s - loss: 0.7382 - acc: 0.6863 - val_loss: 0.8312 - val_acc: 0.6230\n",
      "Epoch 92/120\n",
      " - 0s - loss: 0.7190 - acc: 0.6849 - val_loss: 0.8472 - val_acc: 0.6283\n",
      "Epoch 93/120\n",
      " - 0s - loss: 0.7122 - acc: 0.6856 - val_loss: 2.3534 - val_acc: 0.5481\n"
     ]
    },
    {
     "name": "stdout",
     "output_type": "stream",
     "text": [
      "Epoch 94/120\n",
      " - 0s - loss: 0.7214 - acc: 0.6749 - val_loss: 0.8563 - val_acc: 0.5802\n",
      "Epoch 95/120\n",
      " - 0s - loss: 0.7155 - acc: 0.6742 - val_loss: 0.8032 - val_acc: 0.6096\n",
      "Epoch 96/120\n",
      " - 0s - loss: 0.7228 - acc: 0.6635 - val_loss: 0.8235 - val_acc: 0.6417\n",
      "Epoch 97/120\n",
      " - 0s - loss: 0.7244 - acc: 0.6783 - val_loss: 0.8252 - val_acc: 0.6310\n",
      "Epoch 98/120\n",
      " - 0s - loss: 0.7004 - acc: 0.6970 - val_loss: 0.8637 - val_acc: 0.5989\n",
      "Epoch 99/120\n",
      " - 0s - loss: 0.7100 - acc: 0.6863 - val_loss: 0.8270 - val_acc: 0.6123\n",
      "Epoch 100/120\n",
      " - 0s - loss: 0.7130 - acc: 0.6769 - val_loss: 0.8299 - val_acc: 0.6230\n",
      "Epoch 101/120\n",
      " - 0s - loss: 0.7087 - acc: 0.6910 - val_loss: 0.8983 - val_acc: 0.5936\n",
      "Epoch 102/120\n",
      " - 0s - loss: 0.7139 - acc: 0.6816 - val_loss: 0.9045 - val_acc: 0.5802\n",
      "Epoch 103/120\n",
      " - 0s - loss: 0.7015 - acc: 0.6803 - val_loss: 0.8117 - val_acc: 0.6310\n",
      "Epoch 104/120\n",
      " - 0s - loss: 0.6954 - acc: 0.6930 - val_loss: 0.8150 - val_acc: 0.6497\n",
      "Epoch 105/120\n",
      " - 0s - loss: 0.6933 - acc: 0.6983 - val_loss: 0.8650 - val_acc: 0.6070\n",
      "Epoch 106/120\n",
      " - 0s - loss: 0.6985 - acc: 0.6997 - val_loss: 0.8079 - val_acc: 0.6471\n",
      "Epoch 107/120\n",
      " - 0s - loss: 0.7011 - acc: 0.6943 - val_loss: 0.8243 - val_acc: 0.5856\n",
      "Epoch 108/120\n",
      " - 0s - loss: 0.6920 - acc: 0.6836 - val_loss: 0.7957 - val_acc: 0.6471\n",
      "Epoch 109/120\n",
      " - 0s - loss: 0.6725 - acc: 0.7010 - val_loss: 0.7992 - val_acc: 0.6230\n",
      "Epoch 110/120\n",
      " - 0s - loss: 0.6772 - acc: 0.7130 - val_loss: 0.7939 - val_acc: 0.6364\n",
      "Epoch 111/120\n",
      " - 0s - loss: 0.7102 - acc: 0.6870 - val_loss: 0.8343 - val_acc: 0.6203\n",
      "Epoch 112/120\n",
      " - 0s - loss: 0.6818 - acc: 0.7023 - val_loss: 0.8539 - val_acc: 0.5749\n",
      "Epoch 113/120\n",
      " - 0s - loss: 0.6767 - acc: 0.6903 - val_loss: 1.0437 - val_acc: 0.5535\n",
      "Epoch 114/120\n",
      " - 0s - loss: 0.7152 - acc: 0.6763 - val_loss: 0.8191 - val_acc: 0.6150\n",
      "Epoch 115/120\n",
      " - 0s - loss: 0.6819 - acc: 0.6977 - val_loss: 0.8274 - val_acc: 0.5829\n",
      "Epoch 116/120\n",
      " - 0s - loss: 0.6877 - acc: 0.6977 - val_loss: 0.8396 - val_acc: 0.5856\n",
      "Epoch 117/120\n",
      " - 0s - loss: 0.6873 - acc: 0.6990 - val_loss: 0.7843 - val_acc: 0.6471\n",
      "Epoch 118/120\n",
      " - 0s - loss: 0.6663 - acc: 0.7077 - val_loss: 0.8281 - val_acc: 0.6604\n",
      "Epoch 119/120\n",
      " - 0s - loss: 0.6751 - acc: 0.7043 - val_loss: 0.8037 - val_acc: 0.6283\n",
      "Epoch 120/120\n",
      " - 0s - loss: 0.6839 - acc: 0.6957 - val_loss: 0.8090 - val_acc: 0.6257\n"
     ]
    },
    {
     "data": {
      "text/plain": [
       "<keras.callbacks.History at 0x12e7b5f60>"
      ]
     },
     "execution_count": 16,
     "metadata": {},
     "output_type": "execute_result"
    }
   ],
   "source": [
    "model_acym.fit(psd_acym_train, labels_acym_train, batch_size = 16, epochs = 120, verbose = 2, validation_split = 0.2)"
   ]
  },
  {
   "cell_type": "code",
   "execution_count": 17,
   "metadata": {},
   "outputs": [
    {
     "name": "stdout",
     "output_type": "stream",
     "text": [
      "468/468 [==============================] - 0s 96us/step\n"
     ]
    },
    {
     "data": {
      "text/plain": [
       "[0.7987788426570404, 0.6517094006905189]"
      ]
     },
     "execution_count": 17,
     "metadata": {},
     "output_type": "execute_result"
    }
   ],
   "source": [
    "model_acym.evaluate(psd_acym_test, labels_acym_test)"
   ]
  },
  {
   "cell_type": "code",
   "execution_count": 19,
   "metadata": {},
   "outputs": [],
   "source": [
    "psd_argb_train, psd_argb_test, labels_argb_train, labels_argb_test, freqs_argb = get_data(2)\n",
    "model_argb = get_model()"
   ]
  },
  {
   "cell_type": "code",
   "execution_count": 20,
   "metadata": {},
   "outputs": [],
   "source": [
    "model_argb.compile(loss = 'categorical_crossentropy', optimizer = 'adam', metrics = ['accuracy'])"
   ]
  },
  {
   "cell_type": "code",
   "execution_count": 21,
   "metadata": {},
   "outputs": [
    {
     "name": "stdout",
     "output_type": "stream",
     "text": [
      "Train on 2046 samples, validate on 512 samples\n",
      "Epoch 1/120\n",
      " - 1s - loss: 1.1041 - acc: 0.3441 - val_loss: 1.0908 - val_acc: 0.3848\n",
      "Epoch 2/120\n",
      " - 0s - loss: 1.0696 - acc: 0.3998 - val_loss: 1.2217 - val_acc: 0.3984\n",
      "Epoch 3/120\n",
      " - 0s - loss: 1.0720 - acc: 0.4066 - val_loss: 1.0744 - val_acc: 0.3926\n",
      "Epoch 4/120\n",
      " - 0s - loss: 1.0491 - acc: 0.4467 - val_loss: 1.0609 - val_acc: 0.4004\n",
      "Epoch 5/120\n",
      " - 0s - loss: 1.0459 - acc: 0.4506 - val_loss: 1.0488 - val_acc: 0.4141\n",
      "Epoch 6/120\n",
      " - 0s - loss: 1.0293 - acc: 0.4629 - val_loss: 1.0484 - val_acc: 0.4023\n",
      "Epoch 7/120\n",
      " - 0s - loss: 1.0225 - acc: 0.4536 - val_loss: 1.0450 - val_acc: 0.4004\n",
      "Epoch 8/120\n",
      " - 0s - loss: 1.0125 - acc: 0.4761 - val_loss: 1.0311 - val_acc: 0.4160\n",
      "Epoch 9/120\n",
      " - 0s - loss: 1.0077 - acc: 0.4785 - val_loss: 1.0210 - val_acc: 0.4551\n",
      "Epoch 10/120\n",
      " - 0s - loss: 1.0013 - acc: 0.4941 - val_loss: 1.0124 - val_acc: 0.4609\n",
      "Epoch 11/120\n",
      " - 0s - loss: 0.9909 - acc: 0.4873 - val_loss: 1.0104 - val_acc: 0.4648\n",
      "Epoch 12/120\n",
      " - 0s - loss: 0.9912 - acc: 0.4927 - val_loss: 1.0257 - val_acc: 0.4297\n",
      "Epoch 13/120\n",
      " - 0s - loss: 0.9767 - acc: 0.5122 - val_loss: 0.9901 - val_acc: 0.4883\n",
      "Epoch 14/120\n",
      " - 0s - loss: 0.9776 - acc: 0.5088 - val_loss: 1.0094 - val_acc: 0.4727\n",
      "Epoch 15/120\n",
      " - 0s - loss: 0.9669 - acc: 0.5117 - val_loss: 1.0097 - val_acc: 0.4863\n",
      "Epoch 16/120\n",
      " - 0s - loss: 0.9678 - acc: 0.5235 - val_loss: 1.0103 - val_acc: 0.4727\n",
      "Epoch 17/120\n",
      " - 0s - loss: 0.9642 - acc: 0.5181 - val_loss: 0.9887 - val_acc: 0.5137\n",
      "Epoch 18/120\n",
      " - 0s - loss: 0.9664 - acc: 0.5098 - val_loss: 0.9907 - val_acc: 0.4961\n",
      "Epoch 19/120\n",
      " - 0s - loss: 0.9506 - acc: 0.5279 - val_loss: 1.0179 - val_acc: 0.4727\n",
      "Epoch 20/120\n",
      " - 0s - loss: 0.9552 - acc: 0.5327 - val_loss: 1.0196 - val_acc: 0.4570\n",
      "Epoch 21/120\n",
      " - 0s - loss: 0.9525 - acc: 0.5318 - val_loss: 0.9895 - val_acc: 0.4922\n",
      "Epoch 22/120\n",
      " - 0s - loss: 0.9505 - acc: 0.5259 - val_loss: 1.1679 - val_acc: 0.4551\n",
      "Epoch 23/120\n",
      " - 0s - loss: 0.9480 - acc: 0.5318 - val_loss: 1.0234 - val_acc: 0.4844\n",
      "Epoch 24/120\n",
      " - 0s - loss: 0.9371 - acc: 0.5323 - val_loss: 1.0068 - val_acc: 0.4629\n",
      "Epoch 25/120\n",
      " - 0s - loss: 0.9237 - acc: 0.5298 - val_loss: 0.9719 - val_acc: 0.5273\n",
      "Epoch 26/120\n",
      " - 0s - loss: 0.9074 - acc: 0.5660 - val_loss: 0.9920 - val_acc: 0.5176\n",
      "Epoch 27/120\n",
      " - 0s - loss: 0.9207 - acc: 0.5513 - val_loss: 1.0068 - val_acc: 0.4844\n",
      "Epoch 28/120\n",
      " - 0s - loss: 0.9237 - acc: 0.5411 - val_loss: 0.9523 - val_acc: 0.5156\n",
      "Epoch 29/120\n",
      " - 0s - loss: 0.9266 - acc: 0.5420 - val_loss: 0.9636 - val_acc: 0.5117\n",
      "Epoch 30/120\n",
      " - 0s - loss: 0.9092 - acc: 0.5601 - val_loss: 0.9558 - val_acc: 0.5449\n",
      "Epoch 31/120\n",
      " - 0s - loss: 0.9156 - acc: 0.5567 - val_loss: 0.9535 - val_acc: 0.5156\n",
      "Epoch 32/120\n",
      " - 0s - loss: 0.8945 - acc: 0.5679 - val_loss: 0.9723 - val_acc: 0.4961\n",
      "Epoch 33/120\n",
      " - 0s - loss: 0.9075 - acc: 0.5577 - val_loss: 0.9818 - val_acc: 0.4961\n",
      "Epoch 34/120\n",
      " - 0s - loss: 0.8960 - acc: 0.5572 - val_loss: 1.0303 - val_acc: 0.4590\n",
      "Epoch 35/120\n",
      " - 0s - loss: 0.8931 - acc: 0.5684 - val_loss: 0.9516 - val_acc: 0.5020\n",
      "Epoch 36/120\n",
      " - 0s - loss: 0.8847 - acc: 0.5738 - val_loss: 0.9538 - val_acc: 0.5059\n",
      "Epoch 37/120\n",
      " - 0s - loss: 0.8819 - acc: 0.5811 - val_loss: 0.9621 - val_acc: 0.5117\n",
      "Epoch 38/120\n",
      " - 0s - loss: 0.8700 - acc: 0.5836 - val_loss: 0.9447 - val_acc: 0.5137\n",
      "Epoch 39/120\n",
      " - 0s - loss: 0.8747 - acc: 0.5762 - val_loss: 1.0059 - val_acc: 0.4902\n",
      "Epoch 40/120\n",
      " - 0s - loss: 0.8779 - acc: 0.5714 - val_loss: 0.9380 - val_acc: 0.5234\n",
      "Epoch 41/120\n",
      " - 0s - loss: 0.8593 - acc: 0.5846 - val_loss: 0.9463 - val_acc: 0.5078\n",
      "Epoch 42/120\n",
      " - 0s - loss: 0.8689 - acc: 0.5875 - val_loss: 0.9888 - val_acc: 0.5176\n",
      "Epoch 43/120\n",
      " - 0s - loss: 0.8546 - acc: 0.6056 - val_loss: 0.9479 - val_acc: 0.5254\n",
      "Epoch 44/120\n",
      " - 0s - loss: 0.8380 - acc: 0.5914 - val_loss: 0.9357 - val_acc: 0.5547\n",
      "Epoch 45/120\n",
      " - 0s - loss: 0.8463 - acc: 0.5978 - val_loss: 0.9505 - val_acc: 0.5156\n",
      "Epoch 46/120\n",
      " - 0s - loss: 0.8499 - acc: 0.5973 - val_loss: 0.9495 - val_acc: 0.5371\n",
      "Epoch 47/120\n",
      " - 0s - loss: 0.8567 - acc: 0.5914 - val_loss: 0.9364 - val_acc: 0.5234\n",
      "Epoch 48/120\n",
      " - 0s - loss: 0.8557 - acc: 0.6031 - val_loss: 0.9580 - val_acc: 0.5117\n",
      "Epoch 49/120\n",
      " - 0s - loss: 0.8432 - acc: 0.6168 - val_loss: 0.9477 - val_acc: 0.5332\n",
      "Epoch 50/120\n",
      " - 0s - loss: 0.8382 - acc: 0.6105 - val_loss: 0.9569 - val_acc: 0.5137\n",
      "Epoch 51/120\n",
      " - 0s - loss: 0.8326 - acc: 0.6144 - val_loss: 0.9517 - val_acc: 0.5117\n",
      "Epoch 52/120\n",
      " - 0s - loss: 0.8250 - acc: 0.6183 - val_loss: 0.9240 - val_acc: 0.5430\n",
      "Epoch 53/120\n",
      " - 0s - loss: 0.8371 - acc: 0.6065 - val_loss: 0.9559 - val_acc: 0.5371\n",
      "Epoch 54/120\n",
      " - 0s - loss: 0.8137 - acc: 0.6197 - val_loss: 0.9168 - val_acc: 0.5488\n",
      "Epoch 55/120\n",
      " - 0s - loss: 0.8294 - acc: 0.6017 - val_loss: 0.9212 - val_acc: 0.5234\n",
      "Epoch 56/120\n",
      " - 0s - loss: 0.8055 - acc: 0.6217 - val_loss: 0.8931 - val_acc: 0.5527\n",
      "Epoch 57/120\n",
      " - 0s - loss: 0.8044 - acc: 0.6261 - val_loss: 0.9004 - val_acc: 0.5684\n",
      "Epoch 58/120\n",
      " - 0s - loss: 0.8072 - acc: 0.6256 - val_loss: 0.8816 - val_acc: 0.5742\n",
      "Epoch 59/120\n",
      " - 0s - loss: 0.7927 - acc: 0.6320 - val_loss: 0.8955 - val_acc: 0.5312\n",
      "Epoch 60/120\n",
      " - 0s - loss: 0.7910 - acc: 0.6237 - val_loss: 0.9063 - val_acc: 0.5684\n",
      "Epoch 61/120\n",
      " - 0s - loss: 0.7977 - acc: 0.6413 - val_loss: 0.8913 - val_acc: 0.5762\n",
      "Epoch 62/120\n",
      " - 0s - loss: 0.7825 - acc: 0.6344 - val_loss: 0.8968 - val_acc: 0.5449\n",
      "Epoch 63/120\n",
      " - 0s - loss: 0.7932 - acc: 0.6344 - val_loss: 0.9118 - val_acc: 0.5723\n",
      "Epoch 64/120\n",
      " - 0s - loss: 0.7968 - acc: 0.6202 - val_loss: 0.8889 - val_acc: 0.5527\n",
      "Epoch 65/120\n",
      " - 0s - loss: 0.7742 - acc: 0.6388 - val_loss: 0.8845 - val_acc: 0.5625\n",
      "Epoch 66/120\n",
      " - 0s - loss: 0.7871 - acc: 0.6339 - val_loss: 0.8935 - val_acc: 0.5566\n",
      "Epoch 67/120\n",
      " - 0s - loss: 0.7810 - acc: 0.6452 - val_loss: 0.9123 - val_acc: 0.5332\n",
      "Epoch 68/120\n",
      " - 0s - loss: 0.7605 - acc: 0.6466 - val_loss: 0.8810 - val_acc: 0.5840\n",
      "Epoch 69/120\n",
      " - 0s - loss: 0.7689 - acc: 0.6466 - val_loss: 0.8930 - val_acc: 0.5820\n",
      "Epoch 70/120\n",
      " - 0s - loss: 0.7763 - acc: 0.6427 - val_loss: 0.9164 - val_acc: 0.5586\n",
      "Epoch 71/120\n",
      " - 0s - loss: 0.7575 - acc: 0.6618 - val_loss: 0.9231 - val_acc: 0.5547\n",
      "Epoch 72/120\n",
      " - 0s - loss: 0.7358 - acc: 0.6696 - val_loss: 0.9423 - val_acc: 0.4980\n",
      "Epoch 73/120\n",
      " - 0s - loss: 0.7538 - acc: 0.6457 - val_loss: 0.9046 - val_acc: 0.5684\n",
      "Epoch 74/120\n",
      " - 0s - loss: 0.7620 - acc: 0.6481 - val_loss: 0.8787 - val_acc: 0.6016\n",
      "Epoch 75/120\n",
      " - 0s - loss: 0.7446 - acc: 0.6525 - val_loss: 0.8874 - val_acc: 0.5684\n",
      "Epoch 76/120\n",
      " - 0s - loss: 0.7800 - acc: 0.6437 - val_loss: 0.8969 - val_acc: 0.5684\n",
      "Epoch 77/120\n",
      " - 0s - loss: 0.7498 - acc: 0.6520 - val_loss: 0.8861 - val_acc: 0.5547\n",
      "Epoch 78/120\n",
      " - 0s - loss: 0.7657 - acc: 0.6408 - val_loss: 0.8987 - val_acc: 0.5684\n",
      "Epoch 79/120\n",
      " - 0s - loss: 0.7380 - acc: 0.6574 - val_loss: 0.8955 - val_acc: 0.5840\n",
      "Epoch 80/120\n",
      " - 0s - loss: 0.7286 - acc: 0.6686 - val_loss: 0.8763 - val_acc: 0.5820\n",
      "Epoch 81/120\n",
      " - 0s - loss: 0.7479 - acc: 0.6549 - val_loss: 0.8754 - val_acc: 0.5859\n",
      "Epoch 82/120\n",
      " - 0s - loss: 0.7646 - acc: 0.6505 - val_loss: 0.8749 - val_acc: 0.5762\n",
      "Epoch 83/120\n",
      " - 0s - loss: 0.7646 - acc: 0.6559 - val_loss: 0.8633 - val_acc: 0.5918\n",
      "Epoch 84/120\n",
      " - 0s - loss: 0.7422 - acc: 0.6637 - val_loss: 0.8743 - val_acc: 0.5840\n",
      "Epoch 85/120\n",
      " - 0s - loss: 0.7315 - acc: 0.6632 - val_loss: 0.8876 - val_acc: 0.5703\n",
      "Epoch 86/120\n",
      " - 0s - loss: 0.7166 - acc: 0.6794 - val_loss: 0.8578 - val_acc: 0.6230\n",
      "Epoch 87/120\n",
      " - 0s - loss: 0.7359 - acc: 0.6760 - val_loss: 0.8898 - val_acc: 0.5781\n",
      "Epoch 88/120\n",
      " - 0s - loss: 0.7439 - acc: 0.6642 - val_loss: 0.8548 - val_acc: 0.6094\n",
      "Epoch 89/120\n",
      " - 0s - loss: 0.7329 - acc: 0.6618 - val_loss: 0.8865 - val_acc: 0.5840\n",
      "Epoch 90/120\n",
      " - 0s - loss: 0.7225 - acc: 0.6901 - val_loss: 0.8770 - val_acc: 0.5957\n",
      "Epoch 91/120\n",
      " - 0s - loss: 0.7223 - acc: 0.6730 - val_loss: 0.8863 - val_acc: 0.6113\n",
      "Epoch 92/120\n",
      " - 0s - loss: 0.7151 - acc: 0.6843 - val_loss: 0.8818 - val_acc: 0.5898\n",
      "Epoch 93/120\n",
      " - 0s - loss: 0.7425 - acc: 0.6510 - val_loss: 0.8788 - val_acc: 0.5820\n",
      "Epoch 94/120\n",
      " - 0s - loss: 0.7226 - acc: 0.6711 - val_loss: 0.8769 - val_acc: 0.5840\n",
      "Epoch 95/120\n",
      " - 0s - loss: 0.7207 - acc: 0.6701 - val_loss: 0.8774 - val_acc: 0.5840\n",
      "Epoch 96/120\n",
      " - 0s - loss: 0.7112 - acc: 0.6755 - val_loss: 0.8583 - val_acc: 0.5977\n"
     ]
    },
    {
     "name": "stdout",
     "output_type": "stream",
     "text": [
      "Epoch 97/120\n",
      " - 0s - loss: 0.7381 - acc: 0.6652 - val_loss: 0.9014 - val_acc: 0.5527\n",
      "Epoch 98/120\n",
      " - 0s - loss: 0.7384 - acc: 0.6652 - val_loss: 0.8959 - val_acc: 0.5566\n",
      "Epoch 99/120\n",
      " - 0s - loss: 0.7212 - acc: 0.6706 - val_loss: 0.8849 - val_acc: 0.5820\n",
      "Epoch 100/120\n",
      " - 0s - loss: 0.7159 - acc: 0.6701 - val_loss: 0.8770 - val_acc: 0.6074\n",
      "Epoch 101/120\n",
      " - 0s - loss: 0.7166 - acc: 0.6676 - val_loss: 0.8786 - val_acc: 0.5625\n",
      "Epoch 102/120\n",
      " - 0s - loss: 0.7120 - acc: 0.6745 - val_loss: 0.8552 - val_acc: 0.5898\n",
      "Epoch 103/120\n",
      " - 0s - loss: 0.7037 - acc: 0.6779 - val_loss: 0.8589 - val_acc: 0.5664\n",
      "Epoch 104/120\n",
      " - 0s - loss: 0.7012 - acc: 0.6862 - val_loss: 0.8687 - val_acc: 0.5645\n",
      "Epoch 105/120\n",
      " - 0s - loss: 0.7045 - acc: 0.6965 - val_loss: 0.8836 - val_acc: 0.5938\n",
      "Epoch 106/120\n",
      " - 0s - loss: 0.7181 - acc: 0.6730 - val_loss: 0.8354 - val_acc: 0.5957\n",
      "Epoch 107/120\n",
      " - 0s - loss: 0.7346 - acc: 0.6623 - val_loss: 0.8380 - val_acc: 0.5938\n",
      "Epoch 108/120\n",
      " - 0s - loss: 0.6697 - acc: 0.6979 - val_loss: 0.8439 - val_acc: 0.6035\n",
      "Epoch 109/120\n",
      " - 0s - loss: 0.7018 - acc: 0.6891 - val_loss: 0.8496 - val_acc: 0.5957\n",
      "Epoch 110/120\n",
      " - 0s - loss: 0.6859 - acc: 0.6979 - val_loss: 0.8733 - val_acc: 0.5820\n",
      "Epoch 111/120\n",
      " - 0s - loss: 0.6870 - acc: 0.6945 - val_loss: 0.8425 - val_acc: 0.5879\n",
      "Epoch 112/120\n",
      " - 0s - loss: 0.7007 - acc: 0.6867 - val_loss: 0.8197 - val_acc: 0.6094\n",
      "Epoch 113/120\n",
      " - 0s - loss: 0.7004 - acc: 0.6955 - val_loss: 0.8395 - val_acc: 0.6113\n",
      "Epoch 114/120\n",
      " - 0s - loss: 0.6857 - acc: 0.7009 - val_loss: 0.8485 - val_acc: 0.6074\n",
      "Epoch 115/120\n",
      " - 0s - loss: 0.6705 - acc: 0.7033 - val_loss: 0.8510 - val_acc: 0.6152\n",
      "Epoch 116/120\n",
      " - 0s - loss: 0.6989 - acc: 0.6916 - val_loss: 0.9437 - val_acc: 0.5664\n",
      "Epoch 117/120\n",
      " - 0s - loss: 0.6638 - acc: 0.7043 - val_loss: 0.8259 - val_acc: 0.6133\n",
      "Epoch 118/120\n",
      " - 0s - loss: 0.6580 - acc: 0.7102 - val_loss: 0.8423 - val_acc: 0.6074\n",
      "Epoch 119/120\n",
      " - 0s - loss: 0.6561 - acc: 0.7058 - val_loss: 0.8861 - val_acc: 0.5938\n",
      "Epoch 120/120\n",
      " - 0s - loss: 0.6587 - acc: 0.7033 - val_loss: 0.9062 - val_acc: 0.5625\n"
     ]
    },
    {
     "data": {
      "text/plain": [
       "<keras.callbacks.History at 0x12f60e630>"
      ]
     },
     "execution_count": 21,
     "metadata": {},
     "output_type": "execute_result"
    }
   ],
   "source": [
    "model_argb.fit(psd_argb_train, labels_argb_train, batch_size = 16, epochs = 120, verbose = 2, validation_split = 0.2)"
   ]
  },
  {
   "cell_type": "code",
   "execution_count": 22,
   "metadata": {},
   "outputs": [
    {
     "name": "stdout",
     "output_type": "stream",
     "text": [
      "640/640 [==============================] - 0s 68us/step\n"
     ]
    },
    {
     "data": {
      "text/plain": [
       "[0.8730333864688873, 0.6]"
      ]
     },
     "execution_count": 22,
     "metadata": {},
     "output_type": "execute_result"
    }
   ],
   "source": [
    "model_argb.evaluate(psd_argb_test, labels_argb_test)"
   ]
  },
  {
   "cell_type": "code",
   "execution_count": 51,
   "metadata": {},
   "outputs": [
    {
     "data": {
      "image/png": "[encoded data removed]",
      "text/plain": [
       "<Figure size 432x288 with 6 Axes>"
      ]
     },
     "metadata": {
      "needs_background": "light"
     },
     "output_type": "display_data"
    }
   ],
   "source": [
    "plot_channel_colours(psd_acym_train, psd_argb_train, labels_acym_train, labels_argb_train, freqs_acym, freqs_argb, 0)"
   ]
  },
  {
   "cell_type": "code",
   "execution_count": 49,
   "metadata": {},
   "outputs": [
    {
     "data": {
      "image/png": "[encoded data removed]",
      "text/plain": [
       "<Figure size 432x288 with 6 Axes>"
      ]
     },
     "metadata": {
      "needs_background": "light"
     },
     "output_type": "display_data"
    }
   ],
   "source": [
    "plot_channel_colours(psd_acym_train, psd_argb_train, labels_acym_train, labels_argb_train, freqs_acym, freqs_argb, 1)"
   ]
  },
  {
   "cell_type": "code",
   "execution_count": 50,
   "metadata": {},
   "outputs": [
    {
     "data": {
      "image/png": "[encoded data removed]",
      "text/plain": [
       "<Figure size 432x288 with 6 Axes>"
      ]
     },
     "metadata": {
      "needs_background": "light"
     },
     "output_type": "display_data"
    }
   ],
   "source": [
    "plot_channel_colours(psd_acym_train, psd_argb_train, labels_acym_train, labels_argb_train, freqs_acym, freqs_argb, 2)"
   ]
  },
  {
   "cell_type": "code",
   "execution_count": 29,
   "metadata": {},
   "outputs": [],
   "source": [
    "psd_hcym_train, psd_hcym_test, labels_hcym_train, labels_hcym_test, freqs_hcym = get_data(1)\n",
    "model_hcym = get_model()"
   ]
  },
  {
   "cell_type": "code",
   "execution_count": 30,
   "metadata": {},
   "outputs": [],
   "source": [
    "model_hcym.compile(loss = 'categorical_crossentropy', optimizer = 'adam', metrics = ['accuracy'])"
   ]
  },
  {
   "cell_type": "code",
   "execution_count": 31,
   "metadata": {},
   "outputs": [
    {
     "name": "stdout",
     "output_type": "stream",
     "text": [
      "Train on 1548 samples, validate on 387 samples\n",
      "Epoch 1/120\n",
      " - 1s - loss: 1.0609 - acc: 0.4128 - val_loss: 1.0251 - val_acc: 0.4574\n",
      "Epoch 2/120\n",
      " - 0s - loss: 0.9967 - acc: 0.4671 - val_loss: 0.9697 - val_acc: 0.5556\n",
      "Epoch 3/120\n",
      " - 0s - loss: 0.9565 - acc: 0.5155 - val_loss: 0.9541 - val_acc: 0.5168\n",
      "Epoch 4/120\n",
      " - 0s - loss: 0.9375 - acc: 0.5401 - val_loss: 0.9432 - val_acc: 0.5065\n",
      "Epoch 5/120\n",
      " - 0s - loss: 0.9179 - acc: 0.5433 - val_loss: 0.9187 - val_acc: 0.5401\n",
      "Epoch 6/120\n",
      " - 0s - loss: 0.9049 - acc: 0.5543 - val_loss: 0.9429 - val_acc: 0.5762\n",
      "Epoch 7/120\n",
      " - 0s - loss: 0.9065 - acc: 0.5575 - val_loss: 0.9019 - val_acc: 0.5891\n",
      "Epoch 8/120\n",
      " - 0s - loss: 0.8851 - acc: 0.5711 - val_loss: 0.9033 - val_acc: 0.5297\n",
      "Epoch 9/120\n",
      " - 0s - loss: 0.8849 - acc: 0.5659 - val_loss: 0.8655 - val_acc: 0.6176\n",
      "Epoch 10/120\n",
      " - 0s - loss: 0.8469 - acc: 0.5917 - val_loss: 0.8859 - val_acc: 0.5917\n",
      "Epoch 11/120\n",
      " - 0s - loss: 0.8532 - acc: 0.5898 - val_loss: 0.8669 - val_acc: 0.5943\n",
      "Epoch 12/120\n",
      " - 0s - loss: 0.8436 - acc: 0.6040 - val_loss: 0.8849 - val_acc: 0.6047\n",
      "Epoch 13/120\n",
      " - 0s - loss: 0.8533 - acc: 0.6027 - val_loss: 0.8564 - val_acc: 0.6021\n",
      "Epoch 14/120\n",
      " - 0s - loss: 0.8469 - acc: 0.5943 - val_loss: 0.8756 - val_acc: 0.6227\n",
      "Epoch 15/120\n",
      " - 0s - loss: 0.8232 - acc: 0.6202 - val_loss: 0.8395 - val_acc: 0.6382\n",
      "Epoch 16/120\n",
      " - 0s - loss: 0.8175 - acc: 0.6273 - val_loss: 0.8559 - val_acc: 0.6227\n",
      "Epoch 17/120\n",
      " - 0s - loss: 0.7983 - acc: 0.6382 - val_loss: 0.8617 - val_acc: 0.5995\n",
      "Epoch 18/120\n",
      " - 0s - loss: 0.8001 - acc: 0.6214 - val_loss: 0.8274 - val_acc: 0.6408\n",
      "Epoch 19/120\n",
      " - 0s - loss: 0.8254 - acc: 0.6066 - val_loss: 0.8440 - val_acc: 0.6176\n",
      "Epoch 20/120\n",
      " - 0s - loss: 0.7895 - acc: 0.6453 - val_loss: 0.9253 - val_acc: 0.6227\n",
      "Epoch 21/120\n",
      " - 0s - loss: 0.8079 - acc: 0.6247 - val_loss: 0.8608 - val_acc: 0.6202\n",
      "Epoch 22/120\n",
      " - 0s - loss: 0.7870 - acc: 0.6363 - val_loss: 0.8170 - val_acc: 0.6434\n",
      "Epoch 23/120\n",
      " - 0s - loss: 0.7663 - acc: 0.6505 - val_loss: 0.8166 - val_acc: 0.6150\n",
      "Epoch 24/120\n",
      " - 0s - loss: 0.7609 - acc: 0.6615 - val_loss: 0.8411 - val_acc: 0.6279\n",
      "Epoch 25/120\n",
      " - 0s - loss: 0.7569 - acc: 0.6680 - val_loss: 0.8802 - val_acc: 0.6124\n",
      "Epoch 26/120\n",
      " - 0s - loss: 0.7763 - acc: 0.6441 - val_loss: 0.7984 - val_acc: 0.6512\n",
      "Epoch 27/120\n",
      " - 0s - loss: 0.7549 - acc: 0.6621 - val_loss: 0.8362 - val_acc: 0.6124\n",
      "Epoch 28/120\n",
      " - 0s - loss: 0.7561 - acc: 0.6699 - val_loss: 0.8182 - val_acc: 0.6331\n",
      "Epoch 29/120\n",
      " - 0s - loss: 0.7245 - acc: 0.6667 - val_loss: 0.8370 - val_acc: 0.6253\n",
      "Epoch 30/120\n",
      " - 0s - loss: 0.7242 - acc: 0.6744 - val_loss: 0.8517 - val_acc: 0.6098\n",
      "Epoch 31/120\n",
      " - 0s - loss: 0.7372 - acc: 0.6680 - val_loss: 0.8740 - val_acc: 0.6098\n",
      "Epoch 32/120\n",
      " - 0s - loss: 0.7461 - acc: 0.6641 - val_loss: 0.7873 - val_acc: 0.6563\n",
      "Epoch 33/120\n",
      " - 0s - loss: 0.7179 - acc: 0.6802 - val_loss: 0.7578 - val_acc: 0.6641\n",
      "Epoch 34/120\n",
      " - 0s - loss: 0.7215 - acc: 0.6841 - val_loss: 1.0221 - val_acc: 0.6021\n",
      "Epoch 35/120\n",
      " - 0s - loss: 0.7131 - acc: 0.6770 - val_loss: 0.7908 - val_acc: 0.6641\n",
      "Epoch 36/120\n",
      " - 0s - loss: 0.6915 - acc: 0.6996 - val_loss: 0.7756 - val_acc: 0.6434\n",
      "Epoch 37/120\n",
      " - 0s - loss: 0.7008 - acc: 0.6944 - val_loss: 0.8249 - val_acc: 0.6589\n",
      "Epoch 38/120\n",
      " - 0s - loss: 0.7035 - acc: 0.6886 - val_loss: 0.7877 - val_acc: 0.6434\n",
      "Epoch 39/120\n",
      " - 0s - loss: 0.7010 - acc: 0.6964 - val_loss: 0.7277 - val_acc: 0.6744\n",
      "Epoch 40/120\n",
      " - 0s - loss: 0.6953 - acc: 0.6860 - val_loss: 0.7736 - val_acc: 0.6848\n",
      "Epoch 41/120\n",
      " - 0s - loss: 0.6798 - acc: 0.7028 - val_loss: 0.7454 - val_acc: 0.6977\n",
      "Epoch 42/120\n",
      " - 0s - loss: 0.6670 - acc: 0.7125 - val_loss: 0.7550 - val_acc: 0.6770\n",
      "Epoch 43/120\n",
      " - 0s - loss: 0.6958 - acc: 0.6860 - val_loss: 0.7767 - val_acc: 0.6796\n",
      "Epoch 44/120\n",
      " - 0s - loss: 0.6473 - acc: 0.7183 - val_loss: 0.7123 - val_acc: 0.7106\n",
      "Epoch 45/120\n",
      " - 0s - loss: 0.6781 - acc: 0.6983 - val_loss: 0.7201 - val_acc: 0.6848\n",
      "Epoch 46/120\n",
      " - 0s - loss: 0.6629 - acc: 0.7048 - val_loss: 0.7339 - val_acc: 0.6848\n",
      "Epoch 47/120\n",
      " - 0s - loss: 0.6362 - acc: 0.7190 - val_loss: 0.7389 - val_acc: 0.6667\n",
      "Epoch 48/120\n",
      " - 0s - loss: 0.6324 - acc: 0.7293 - val_loss: 0.7108 - val_acc: 0.7003\n",
      "Epoch 49/120\n",
      " - 0s - loss: 0.6811 - acc: 0.7003 - val_loss: 0.8073 - val_acc: 0.6253\n",
      "Epoch 50/120\n",
      " - 0s - loss: 0.6899 - acc: 0.6802 - val_loss: 0.7991 - val_acc: 0.6408\n",
      "Epoch 51/120\n",
      " - 0s - loss: 0.6782 - acc: 0.7080 - val_loss: 0.7261 - val_acc: 0.6873\n",
      "Epoch 52/120\n",
      " - 0s - loss: 0.6742 - acc: 0.7074 - val_loss: 0.8368 - val_acc: 0.6589\n",
      "Epoch 53/120\n",
      " - 0s - loss: 0.6581 - acc: 0.7067 - val_loss: 0.8089 - val_acc: 0.6667\n",
      "Epoch 54/120\n",
      " - 0s - loss: 0.6359 - acc: 0.7138 - val_loss: 0.7513 - val_acc: 0.6744\n",
      "Epoch 55/120\n",
      " - 0s - loss: 0.6527 - acc: 0.6977 - val_loss: 0.7028 - val_acc: 0.6770\n",
      "Epoch 56/120\n",
      " - 0s - loss: 0.6367 - acc: 0.7274 - val_loss: 0.8380 - val_acc: 0.6305\n",
      "Epoch 57/120\n",
      " - 0s - loss: 0.6399 - acc: 0.7209 - val_loss: 0.6946 - val_acc: 0.7080\n",
      "Epoch 58/120\n",
      " - 0s - loss: 0.6041 - acc: 0.7455 - val_loss: 0.6978 - val_acc: 0.7158\n",
      "Epoch 59/120\n",
      " - 0s - loss: 0.6241 - acc: 0.7229 - val_loss: 0.7078 - val_acc: 0.7106\n",
      "Epoch 60/120\n",
      " - 0s - loss: 0.6599 - acc: 0.7112 - val_loss: 0.7910 - val_acc: 0.6357\n",
      "Epoch 61/120\n",
      " - 0s - loss: 0.6010 - acc: 0.7397 - val_loss: 0.7760 - val_acc: 0.6848\n",
      "Epoch 62/120\n",
      " - 0s - loss: 0.6139 - acc: 0.7397 - val_loss: 0.6673 - val_acc: 0.7080\n",
      "Epoch 63/120\n",
      " - 0s - loss: 0.6003 - acc: 0.7371 - val_loss: 0.7480 - val_acc: 0.6977\n",
      "Epoch 64/120\n",
      " - 0s - loss: 0.6049 - acc: 0.7248 - val_loss: 0.7188 - val_acc: 0.7158\n",
      "Epoch 65/120\n",
      " - 0s - loss: 0.6246 - acc: 0.7287 - val_loss: 0.7679 - val_acc: 0.6718\n",
      "Epoch 66/120\n",
      " - 0s - loss: 0.6160 - acc: 0.7371 - val_loss: 0.7169 - val_acc: 0.6848\n",
      "Epoch 67/120\n",
      " - 0s - loss: 0.6213 - acc: 0.7416 - val_loss: 0.7112 - val_acc: 0.7106\n",
      "Epoch 68/120\n",
      " - 0s - loss: 0.5975 - acc: 0.7416 - val_loss: 0.8086 - val_acc: 0.6873\n",
      "Epoch 69/120\n",
      " - 0s - loss: 0.6205 - acc: 0.7429 - val_loss: 0.7160 - val_acc: 0.7003\n",
      "Epoch 70/120\n",
      " - 0s - loss: 0.6159 - acc: 0.7371 - val_loss: 0.6618 - val_acc: 0.7158\n",
      "Epoch 71/120\n",
      " - 0s - loss: 0.6053 - acc: 0.7377 - val_loss: 0.6849 - val_acc: 0.7209\n",
      "Epoch 72/120\n",
      " - 0s - loss: 0.5828 - acc: 0.7435 - val_loss: 0.6489 - val_acc: 0.7261\n",
      "Epoch 73/120\n",
      " - 0s - loss: 0.6271 - acc: 0.7248 - val_loss: 0.6608 - val_acc: 0.7158\n",
      "Epoch 74/120\n",
      " - 0s - loss: 0.5892 - acc: 0.7448 - val_loss: 0.7144 - val_acc: 0.7003\n",
      "Epoch 75/120\n",
      " - 0s - loss: 0.5939 - acc: 0.7487 - val_loss: 0.6739 - val_acc: 0.7054\n",
      "Epoch 76/120\n",
      " - 0s - loss: 0.5849 - acc: 0.7455 - val_loss: 0.6244 - val_acc: 0.7468\n",
      "Epoch 77/120\n",
      " - 0s - loss: 0.5733 - acc: 0.7539 - val_loss: 0.6722 - val_acc: 0.7287\n",
      "Epoch 78/120\n",
      " - 0s - loss: 0.5479 - acc: 0.7623 - val_loss: 0.7438 - val_acc: 0.6873\n",
      "Epoch 79/120\n",
      " - 0s - loss: 0.5804 - acc: 0.7442 - val_loss: 0.7014 - val_acc: 0.7080\n",
      "Epoch 80/120\n",
      " - 0s - loss: 0.5747 - acc: 0.7616 - val_loss: 0.6158 - val_acc: 0.7287\n",
      "Epoch 81/120\n",
      " - 0s - loss: 0.5703 - acc: 0.7649 - val_loss: 0.7402 - val_acc: 0.7028\n",
      "Epoch 82/120\n",
      " - 0s - loss: 0.5765 - acc: 0.7506 - val_loss: 0.7052 - val_acc: 0.6977\n",
      "Epoch 83/120\n",
      " - 0s - loss: 0.5729 - acc: 0.7506 - val_loss: 0.7584 - val_acc: 0.7054\n",
      "Epoch 84/120\n",
      " - 0s - loss: 0.5648 - acc: 0.7590 - val_loss: 0.7133 - val_acc: 0.7028\n",
      "Epoch 85/120\n",
      " - 0s - loss: 0.5671 - acc: 0.7455 - val_loss: 0.7368 - val_acc: 0.6822\n",
      "Epoch 86/120\n",
      " - 0s - loss: 0.5634 - acc: 0.7519 - val_loss: 0.6522 - val_acc: 0.7261\n",
      "Epoch 87/120\n",
      " - 0s - loss: 0.5283 - acc: 0.7649 - val_loss: 0.6232 - val_acc: 0.7416\n",
      "Epoch 88/120\n",
      " - 0s - loss: 0.5354 - acc: 0.7694 - val_loss: 0.6465 - val_acc: 0.7442\n",
      "Epoch 89/120\n",
      " - 0s - loss: 0.5898 - acc: 0.7461 - val_loss: 0.6932 - val_acc: 0.7235\n",
      "Epoch 90/120\n",
      " - 0s - loss: 0.5411 - acc: 0.7745 - val_loss: 0.6300 - val_acc: 0.7183\n",
      "Epoch 91/120\n",
      " - 0s - loss: 0.5753 - acc: 0.7578 - val_loss: 0.7026 - val_acc: 0.7003\n",
      "Epoch 92/120\n",
      " - 0s - loss: 0.5468 - acc: 0.7616 - val_loss: 0.6104 - val_acc: 0.7364\n",
      "Epoch 93/120\n",
      " - 0s - loss: 0.5391 - acc: 0.7681 - val_loss: 0.6274 - val_acc: 0.7390\n",
      "Epoch 94/120\n",
      " - 0s - loss: 0.5400 - acc: 0.7668 - val_loss: 0.6309 - val_acc: 0.6899\n",
      "Epoch 95/120\n",
      " - 0s - loss: 0.5215 - acc: 0.7668 - val_loss: 0.5986 - val_acc: 0.7339\n",
      "Epoch 96/120\n",
      " - 0s - loss: 0.5487 - acc: 0.7694 - val_loss: 0.6999 - val_acc: 0.7054\n"
     ]
    },
    {
     "name": "stdout",
     "output_type": "stream",
     "text": [
      "Epoch 97/120\n",
      " - 0s - loss: 0.5470 - acc: 0.7668 - val_loss: 0.6821 - val_acc: 0.7183\n",
      "Epoch 98/120\n",
      " - 0s - loss: 0.5319 - acc: 0.7661 - val_loss: 0.6882 - val_acc: 0.7003\n",
      "Epoch 99/120\n",
      " - 0s - loss: 0.5349 - acc: 0.7797 - val_loss: 0.7341 - val_acc: 0.7468\n",
      "Epoch 100/120\n",
      " - 0s - loss: 0.5512 - acc: 0.7590 - val_loss: 0.6367 - val_acc: 0.7390\n",
      "Epoch 101/120\n",
      " - 0s - loss: 0.5350 - acc: 0.7584 - val_loss: 0.8705 - val_acc: 0.6357\n",
      "Epoch 102/120\n",
      " - 0s - loss: 0.5544 - acc: 0.7584 - val_loss: 0.6608 - val_acc: 0.7416\n",
      "Epoch 103/120\n",
      " - 0s - loss: 0.4988 - acc: 0.7875 - val_loss: 0.7847 - val_acc: 0.6744\n",
      "Epoch 104/120\n",
      " - 0s - loss: 0.5534 - acc: 0.7539 - val_loss: 0.7478 - val_acc: 0.6822\n",
      "Epoch 105/120\n",
      " - 0s - loss: 0.5687 - acc: 0.7494 - val_loss: 0.7158 - val_acc: 0.6873\n",
      "Epoch 106/120\n",
      " - 0s - loss: 0.5870 - acc: 0.7410 - val_loss: 0.6801 - val_acc: 0.7158\n",
      "Epoch 107/120\n",
      " - 0s - loss: 0.5751 - acc: 0.7610 - val_loss: 0.6159 - val_acc: 0.7623\n",
      "Epoch 108/120\n",
      " - 0s - loss: 0.5494 - acc: 0.7745 - val_loss: 0.6667 - val_acc: 0.7080\n",
      "Epoch 109/120\n",
      " - 0s - loss: 0.5325 - acc: 0.7907 - val_loss: 0.6612 - val_acc: 0.7261\n",
      "Epoch 110/120\n",
      " - 0s - loss: 0.5347 - acc: 0.7707 - val_loss: 0.6625 - val_acc: 0.7235\n",
      "Epoch 111/120\n",
      " - 0s - loss: 0.5159 - acc: 0.7862 - val_loss: 0.6096 - val_acc: 0.7390\n",
      "Epoch 112/120\n",
      " - 0s - loss: 0.5252 - acc: 0.7733 - val_loss: 0.6420 - val_acc: 0.7261\n",
      "Epoch 113/120\n",
      " - 0s - loss: 0.5262 - acc: 0.7726 - val_loss: 0.7170 - val_acc: 0.6537\n",
      "Epoch 114/120\n",
      " - 0s - loss: 0.5355 - acc: 0.7758 - val_loss: 0.6674 - val_acc: 0.7235\n",
      "Epoch 115/120\n",
      " - 0s - loss: 0.5149 - acc: 0.7804 - val_loss: 0.6777 - val_acc: 0.6977\n",
      "Epoch 116/120\n",
      " - 0s - loss: 0.5873 - acc: 0.7552 - val_loss: 0.7951 - val_acc: 0.6796\n",
      "Epoch 117/120\n",
      " - 0s - loss: 0.5882 - acc: 0.7435 - val_loss: 0.6329 - val_acc: 0.7261\n",
      "Epoch 118/120\n",
      " - 0s - loss: 0.5244 - acc: 0.7758 - val_loss: 0.6727 - val_acc: 0.7209\n",
      "Epoch 119/120\n",
      " - 0s - loss: 0.5439 - acc: 0.7655 - val_loss: 0.6619 - val_acc: 0.7080\n",
      "Epoch 120/120\n",
      " - 0s - loss: 0.5438 - acc: 0.7623 - val_loss: 0.6258 - val_acc: 0.7545\n"
     ]
    },
    {
     "data": {
      "text/plain": [
       "<keras.callbacks.History at 0x134bfec88>"
      ]
     },
     "execution_count": 31,
     "metadata": {},
     "output_type": "execute_result"
    }
   ],
   "source": [
    "model_hcym.fit(psd_hcym_train, labels_hcym_train, batch_size = 16, epochs = 120, verbose = 2, validation_split = 0.2)"
   ]
  },
  {
   "cell_type": "code",
   "execution_count": 32,
   "metadata": {},
   "outputs": [
    {
     "name": "stdout",
     "output_type": "stream",
     "text": [
      "484/484 [==============================] - 0s 83us/step\n"
     ]
    },
    {
     "data": {
      "text/plain": [
       "[0.6545365595620526, 0.6880165289256198]"
      ]
     },
     "execution_count": 32,
     "metadata": {},
     "output_type": "execute_result"
    }
   ],
   "source": [
    "model_hcym.evaluate(psd_hcym_test, labels_hcym_test)"
   ]
  },
  {
   "cell_type": "code",
   "execution_count": 34,
   "metadata": {},
   "outputs": [],
   "source": [
    "psd_hrgb_train, psd_hrgb_test, labels_hrgb_train, labels_hrgb_test, freqs_hrgb = get_data(3)\n",
    "model_hrgb = get_model()"
   ]
  },
  {
   "cell_type": "code",
   "execution_count": 35,
   "metadata": {},
   "outputs": [],
   "source": [
    "model_hrgb.compile(loss = 'categorical_crossentropy', optimizer = 'adam', metrics = ['accuracy'])"
   ]
  },
  {
   "cell_type": "code",
   "execution_count": 36,
   "metadata": {},
   "outputs": [
    {
     "name": "stdout",
     "output_type": "stream",
     "text": [
      "Train on 1548 samples, validate on 387 samples\n",
      "Epoch 1/120\n",
      " - 1s - loss: 1.1059 - acc: 0.3857 - val_loss: 1.0947 - val_acc: 0.4315\n",
      "Epoch 2/120\n",
      " - 0s - loss: 1.0530 - acc: 0.4283 - val_loss: 1.1082 - val_acc: 0.4599\n",
      "Epoch 3/120\n",
      " - 0s - loss: 1.0388 - acc: 0.4503 - val_loss: 1.0879 - val_acc: 0.4677\n",
      "Epoch 4/120\n",
      " - 0s - loss: 1.0220 - acc: 0.4839 - val_loss: 1.0899 - val_acc: 0.4264\n",
      "Epoch 5/120\n",
      " - 0s - loss: 1.0030 - acc: 0.4806 - val_loss: 1.0531 - val_acc: 0.4548\n",
      "Epoch 6/120\n",
      " - 0s - loss: 0.9942 - acc: 0.5000 - val_loss: 1.0840 - val_acc: 0.4315\n",
      "Epoch 7/120\n",
      " - 0s - loss: 0.9890 - acc: 0.4968 - val_loss: 1.0666 - val_acc: 0.4651\n",
      "Epoch 8/120\n",
      " - 0s - loss: 0.9689 - acc: 0.5284 - val_loss: 1.0628 - val_acc: 0.4780\n",
      "Epoch 9/120\n",
      " - 0s - loss: 0.9730 - acc: 0.5291 - val_loss: 1.0565 - val_acc: 0.4470\n",
      "Epoch 10/120\n",
      " - 0s - loss: 0.9551 - acc: 0.5426 - val_loss: 1.0397 - val_acc: 0.5297\n",
      "Epoch 11/120\n",
      " - 0s - loss: 0.9436 - acc: 0.5530 - val_loss: 0.9854 - val_acc: 0.5271\n",
      "Epoch 12/120\n",
      " - 0s - loss: 0.9409 - acc: 0.5446 - val_loss: 1.0541 - val_acc: 0.5013\n",
      "Epoch 13/120\n",
      " - 0s - loss: 0.9278 - acc: 0.5504 - val_loss: 0.9856 - val_acc: 0.5142\n",
      "Epoch 14/120\n",
      " - 0s - loss: 0.9104 - acc: 0.5685 - val_loss: 0.9704 - val_acc: 0.5039\n",
      "Epoch 15/120\n",
      " - 0s - loss: 0.9202 - acc: 0.5575 - val_loss: 0.9782 - val_acc: 0.5116\n",
      "Epoch 16/120\n",
      " - 0s - loss: 0.9181 - acc: 0.5575 - val_loss: 0.9679 - val_acc: 0.5245\n",
      "Epoch 17/120\n",
      " - 0s - loss: 0.8888 - acc: 0.5827 - val_loss: 0.9915 - val_acc: 0.4935\n",
      "Epoch 18/120\n",
      " - 0s - loss: 0.8939 - acc: 0.5633 - val_loss: 1.0478 - val_acc: 0.5013\n",
      "Epoch 19/120\n",
      " - 0s - loss: 0.8923 - acc: 0.5775 - val_loss: 0.9963 - val_acc: 0.5116\n",
      "Epoch 20/120\n",
      " - 0s - loss: 0.8608 - acc: 0.6027 - val_loss: 0.9426 - val_acc: 0.5581\n",
      "Epoch 21/120\n",
      " - 0s - loss: 0.8520 - acc: 0.6040 - val_loss: 0.9869 - val_acc: 0.5530\n",
      "Epoch 22/120\n",
      " - 0s - loss: 0.8293 - acc: 0.5975 - val_loss: 0.9239 - val_acc: 0.5581\n",
      "Epoch 23/120\n",
      " - 0s - loss: 0.8251 - acc: 0.6092 - val_loss: 0.9907 - val_acc: 0.5736\n",
      "Epoch 24/120\n",
      " - 0s - loss: 0.8212 - acc: 0.6208 - val_loss: 0.9260 - val_acc: 0.5297\n",
      "Epoch 25/120\n",
      " - 0s - loss: 0.8293 - acc: 0.6072 - val_loss: 1.0514 - val_acc: 0.4961\n",
      "Epoch 26/120\n",
      " - 0s - loss: 0.8169 - acc: 0.6040 - val_loss: 0.9175 - val_acc: 0.5297\n",
      "Epoch 27/120\n",
      " - 0s - loss: 0.8378 - acc: 0.6014 - val_loss: 0.9281 - val_acc: 0.5556\n",
      "Epoch 28/120\n",
      " - 0s - loss: 0.8069 - acc: 0.6234 - val_loss: 0.9639 - val_acc: 0.5375\n",
      "Epoch 29/120\n",
      " - 0s - loss: 0.7874 - acc: 0.6382 - val_loss: 0.9276 - val_acc: 0.5891\n",
      "Epoch 30/120\n",
      " - 0s - loss: 0.8065 - acc: 0.6189 - val_loss: 0.9215 - val_acc: 0.5866\n",
      "Epoch 31/120\n",
      " - 0s - loss: 0.7767 - acc: 0.6370 - val_loss: 0.8900 - val_acc: 0.5969\n",
      "Epoch 32/120\n",
      " - 0s - loss: 0.7799 - acc: 0.6499 - val_loss: 0.8513 - val_acc: 0.6098\n",
      "Epoch 33/120\n",
      " - 0s - loss: 0.7475 - acc: 0.6583 - val_loss: 0.8691 - val_acc: 0.5866\n",
      "Epoch 34/120\n",
      " - 0s - loss: 0.7601 - acc: 0.6544 - val_loss: 0.9030 - val_acc: 0.6098\n",
      "Epoch 35/120\n",
      " - 0s - loss: 0.7667 - acc: 0.6453 - val_loss: 0.9129 - val_acc: 0.5840\n",
      "Epoch 36/120\n",
      " - 0s - loss: 0.7513 - acc: 0.6505 - val_loss: 0.8876 - val_acc: 0.6098\n",
      "Epoch 37/120\n",
      " - 0s - loss: 0.7503 - acc: 0.6621 - val_loss: 0.8717 - val_acc: 0.6098\n",
      "Epoch 38/120\n",
      " - 0s - loss: 0.7433 - acc: 0.6738 - val_loss: 0.8739 - val_acc: 0.6098\n",
      "Epoch 39/120\n",
      " - 0s - loss: 0.7367 - acc: 0.6634 - val_loss: 0.8985 - val_acc: 0.5917\n",
      "Epoch 40/120\n",
      " - 0s - loss: 0.7389 - acc: 0.6634 - val_loss: 0.8262 - val_acc: 0.6176\n",
      "Epoch 41/120\n",
      " - 0s - loss: 0.7265 - acc: 0.6667 - val_loss: 0.7828 - val_acc: 0.6408\n",
      "Epoch 42/120\n",
      " - 0s - loss: 0.6831 - acc: 0.7016 - val_loss: 0.8382 - val_acc: 0.6331\n",
      "Epoch 43/120\n",
      " - 0s - loss: 0.6988 - acc: 0.6828 - val_loss: 0.8150 - val_acc: 0.6357\n",
      "Epoch 44/120\n",
      " - 0s - loss: 0.7086 - acc: 0.6796 - val_loss: 0.9196 - val_acc: 0.5814\n",
      "Epoch 45/120\n",
      " - 0s - loss: 0.6873 - acc: 0.6938 - val_loss: 0.8162 - val_acc: 0.6486\n",
      "Epoch 46/120\n",
      " - 0s - loss: 0.7082 - acc: 0.6854 - val_loss: 0.7776 - val_acc: 0.6589\n",
      "Epoch 47/120\n",
      " - 0s - loss: 0.7343 - acc: 0.6718 - val_loss: 0.8475 - val_acc: 0.6150\n",
      "Epoch 48/120\n",
      " - 0s - loss: 0.6953 - acc: 0.6964 - val_loss: 0.9031 - val_acc: 0.5814\n",
      "Epoch 49/120\n",
      " - 0s - loss: 0.6922 - acc: 0.6906 - val_loss: 0.8157 - val_acc: 0.6047\n",
      "Epoch 50/120\n",
      " - 0s - loss: 0.7058 - acc: 0.6854 - val_loss: 0.8203 - val_acc: 0.6150\n",
      "Epoch 51/120\n",
      " - 0s - loss: 0.6749 - acc: 0.6996 - val_loss: 0.8008 - val_acc: 0.6486\n",
      "Epoch 52/120\n",
      " - 0s - loss: 0.7234 - acc: 0.6919 - val_loss: 0.8980 - val_acc: 0.5840\n",
      "Epoch 53/120\n",
      " - 0s - loss: 0.6682 - acc: 0.7022 - val_loss: 0.8368 - val_acc: 0.6124\n",
      "Epoch 54/120\n",
      " - 0s - loss: 0.6758 - acc: 0.6996 - val_loss: 0.8395 - val_acc: 0.5891\n",
      "Epoch 55/120\n",
      " - 0s - loss: 0.6717 - acc: 0.7048 - val_loss: 0.8071 - val_acc: 0.6382\n",
      "Epoch 56/120\n",
      " - 0s - loss: 0.6433 - acc: 0.7235 - val_loss: 0.8745 - val_acc: 0.6072\n",
      "Epoch 57/120\n",
      " - 0s - loss: 0.6550 - acc: 0.7067 - val_loss: 0.7875 - val_acc: 0.6796\n",
      "Epoch 58/120\n",
      " - 0s - loss: 0.6664 - acc: 0.7074 - val_loss: 0.8281 - val_acc: 0.6486\n",
      "Epoch 59/120\n",
      " - 0s - loss: 0.6353 - acc: 0.7190 - val_loss: 0.7580 - val_acc: 0.6537\n",
      "Epoch 60/120\n",
      " - 0s - loss: 0.6178 - acc: 0.7397 - val_loss: 0.7965 - val_acc: 0.6615\n",
      "Epoch 61/120\n",
      " - 0s - loss: 0.6444 - acc: 0.7183 - val_loss: 0.8191 - val_acc: 0.6176\n",
      "Epoch 62/120\n",
      " - 0s - loss: 0.6720 - acc: 0.6932 - val_loss: 0.8444 - val_acc: 0.6047\n",
      "Epoch 63/120\n",
      " - 0s - loss: 0.6519 - acc: 0.7106 - val_loss: 0.8562 - val_acc: 0.6279\n",
      "Epoch 64/120\n",
      " - 0s - loss: 0.6639 - acc: 0.7074 - val_loss: 0.8526 - val_acc: 0.5995\n",
      "Epoch 65/120\n",
      " - 0s - loss: 0.6263 - acc: 0.7235 - val_loss: 0.7691 - val_acc: 0.6615\n",
      "Epoch 66/120\n",
      " - 0s - loss: 0.6295 - acc: 0.7145 - val_loss: 0.7939 - val_acc: 0.6408\n",
      "Epoch 67/120\n",
      " - 0s - loss: 0.6515 - acc: 0.7203 - val_loss: 1.0407 - val_acc: 0.5349\n",
      "Epoch 68/120\n",
      " - 0s - loss: 0.6366 - acc: 0.7132 - val_loss: 0.7919 - val_acc: 0.6563\n",
      "Epoch 69/120\n",
      " - 0s - loss: 0.6282 - acc: 0.7145 - val_loss: 0.7528 - val_acc: 0.6641\n",
      "Epoch 70/120\n",
      " - 0s - loss: 0.6160 - acc: 0.7332 - val_loss: 0.8174 - val_acc: 0.6382\n",
      "Epoch 71/120\n",
      " - 0s - loss: 0.5903 - acc: 0.7442 - val_loss: 0.7760 - val_acc: 0.6589\n",
      "Epoch 72/120\n",
      " - 0s - loss: 0.5798 - acc: 0.7500 - val_loss: 0.7477 - val_acc: 0.6589\n",
      "Epoch 73/120\n",
      " - 0s - loss: 0.6134 - acc: 0.7326 - val_loss: 0.7763 - val_acc: 0.6331\n",
      "Epoch 74/120\n",
      " - 0s - loss: 0.6113 - acc: 0.7235 - val_loss: 0.8121 - val_acc: 0.6537\n",
      "Epoch 75/120\n",
      " - 0s - loss: 0.6155 - acc: 0.7229 - val_loss: 0.7770 - val_acc: 0.6434\n",
      "Epoch 76/120\n",
      " - 0s - loss: 0.5939 - acc: 0.7319 - val_loss: 0.7884 - val_acc: 0.6486\n",
      "Epoch 77/120\n",
      " - 0s - loss: 0.6067 - acc: 0.7313 - val_loss: 0.7175 - val_acc: 0.6899\n",
      "Epoch 78/120\n",
      " - 0s - loss: 0.6092 - acc: 0.7371 - val_loss: 0.7129 - val_acc: 0.6925\n",
      "Epoch 79/120\n",
      " - 0s - loss: 0.5857 - acc: 0.7558 - val_loss: 0.8630 - val_acc: 0.6305\n",
      "Epoch 80/120\n",
      " - 0s - loss: 0.5752 - acc: 0.7403 - val_loss: 0.6800 - val_acc: 0.7158\n",
      "Epoch 81/120\n",
      " - 0s - loss: 0.5826 - acc: 0.7519 - val_loss: 0.7090 - val_acc: 0.7003\n",
      "Epoch 82/120\n",
      " - 0s - loss: 0.5670 - acc: 0.7623 - val_loss: 0.7254 - val_acc: 0.6744\n",
      "Epoch 83/120\n",
      " - 0s - loss: 0.5474 - acc: 0.7713 - val_loss: 0.7378 - val_acc: 0.6563\n",
      "Epoch 84/120\n",
      " - 0s - loss: 0.5685 - acc: 0.7636 - val_loss: 0.7042 - val_acc: 0.6796\n",
      "Epoch 85/120\n",
      " - 0s - loss: 0.5582 - acc: 0.7726 - val_loss: 0.7690 - val_acc: 0.6744\n",
      "Epoch 86/120\n",
      " - 0s - loss: 0.5249 - acc: 0.7739 - val_loss: 0.7161 - val_acc: 0.6744\n",
      "Epoch 87/120\n",
      " - 0s - loss: 0.5697 - acc: 0.7481 - val_loss: 0.7105 - val_acc: 0.6873\n",
      "Epoch 88/120\n",
      " - 0s - loss: 0.5344 - acc: 0.7668 - val_loss: 0.8771 - val_acc: 0.6486\n",
      "Epoch 89/120\n",
      " - 0s - loss: 0.5094 - acc: 0.7836 - val_loss: 0.7980 - val_acc: 0.6667\n",
      "Epoch 90/120\n",
      " - 0s - loss: 0.5587 - acc: 0.7616 - val_loss: 0.7249 - val_acc: 0.6822\n",
      "Epoch 91/120\n",
      " - 0s - loss: 0.5410 - acc: 0.7733 - val_loss: 0.7162 - val_acc: 0.7028\n",
      "Epoch 92/120\n",
      " - 0s - loss: 0.5429 - acc: 0.7584 - val_loss: 0.8932 - val_acc: 0.6098\n",
      "Epoch 93/120\n",
      " - 0s - loss: 0.5410 - acc: 0.7661 - val_loss: 0.6431 - val_acc: 0.7235\n",
      "Epoch 94/120\n",
      " - 0s - loss: 0.5131 - acc: 0.7778 - val_loss: 0.7863 - val_acc: 0.6848\n",
      "Epoch 95/120\n",
      " - 0s - loss: 0.5364 - acc: 0.7720 - val_loss: 0.8000 - val_acc: 0.6796\n",
      "Epoch 96/120\n",
      " - 0s - loss: 0.5489 - acc: 0.7733 - val_loss: 0.7240 - val_acc: 0.6744\n"
     ]
    },
    {
     "name": "stdout",
     "output_type": "stream",
     "text": [
      "Epoch 97/120\n",
      " - 0s - loss: 0.5276 - acc: 0.7765 - val_loss: 0.7715 - val_acc: 0.6718\n",
      "Epoch 98/120\n",
      " - 0s - loss: 0.5067 - acc: 0.7894 - val_loss: 0.6755 - val_acc: 0.6796\n",
      "Epoch 99/120\n",
      " - 0s - loss: 0.5285 - acc: 0.7771 - val_loss: 0.7377 - val_acc: 0.6925\n",
      "Epoch 100/120\n",
      " - 0s - loss: 0.5188 - acc: 0.7817 - val_loss: 0.7726 - val_acc: 0.6486\n",
      "Epoch 101/120\n",
      " - 0s - loss: 0.5636 - acc: 0.7649 - val_loss: 0.7064 - val_acc: 0.6848\n",
      "Epoch 102/120\n",
      " - 0s - loss: 0.5049 - acc: 0.7926 - val_loss: 0.6838 - val_acc: 0.7183\n",
      "Epoch 103/120\n",
      " - 0s - loss: 0.5034 - acc: 0.7926 - val_loss: 0.7222 - val_acc: 0.6873\n",
      "Epoch 104/120\n",
      " - 0s - loss: 0.5334 - acc: 0.7584 - val_loss: 0.7174 - val_acc: 0.6770\n",
      "Epoch 105/120\n",
      " - 0s - loss: 0.4960 - acc: 0.8049 - val_loss: 0.6630 - val_acc: 0.7080\n",
      "Epoch 106/120\n",
      " - 0s - loss: 0.5182 - acc: 0.7791 - val_loss: 0.6112 - val_acc: 0.7183\n",
      "Epoch 107/120\n",
      " - 0s - loss: 0.4921 - acc: 0.7959 - val_loss: 0.7824 - val_acc: 0.6977\n",
      "Epoch 108/120\n",
      " - 0s - loss: 0.5095 - acc: 0.7907 - val_loss: 0.6629 - val_acc: 0.7028\n",
      "Epoch 109/120\n",
      " - 0s - loss: 0.5145 - acc: 0.7842 - val_loss: 0.8262 - val_acc: 0.6770\n",
      "Epoch 110/120\n",
      " - 0s - loss: 0.5209 - acc: 0.7758 - val_loss: 0.7168 - val_acc: 0.7003\n",
      "Epoch 111/120\n",
      " - 0s - loss: 0.5129 - acc: 0.7888 - val_loss: 0.8202 - val_acc: 0.6667\n",
      "Epoch 112/120\n",
      " - 0s - loss: 0.5268 - acc: 0.7765 - val_loss: 0.7144 - val_acc: 0.7106\n",
      "Epoch 113/120\n",
      " - 0s - loss: 0.4859 - acc: 0.7926 - val_loss: 0.7227 - val_acc: 0.7313\n",
      "Epoch 114/120\n",
      " - 0s - loss: 0.5009 - acc: 0.7888 - val_loss: 0.7452 - val_acc: 0.7106\n",
      "Epoch 115/120\n",
      " - 0s - loss: 0.4567 - acc: 0.8198 - val_loss: 0.7144 - val_acc: 0.7054\n",
      "Epoch 116/120\n",
      " - 0s - loss: 0.5108 - acc: 0.7881 - val_loss: 0.6755 - val_acc: 0.7261\n",
      "Epoch 117/120\n",
      " - 0s - loss: 0.5038 - acc: 0.7965 - val_loss: 0.8672 - val_acc: 0.6512\n",
      "Epoch 118/120\n",
      " - 0s - loss: 0.5234 - acc: 0.7784 - val_loss: 0.6485 - val_acc: 0.7364\n",
      "Epoch 119/120\n",
      " - 0s - loss: 0.5153 - acc: 0.7849 - val_loss: 0.7500 - val_acc: 0.7106\n",
      "Epoch 120/120\n",
      " - 0s - loss: 0.4779 - acc: 0.7965 - val_loss: 0.7700 - val_acc: 0.6848\n"
     ]
    },
    {
     "data": {
      "text/plain": [
       "<keras.callbacks.History at 0x131af2c18>"
      ]
     },
     "execution_count": 36,
     "metadata": {},
     "output_type": "execute_result"
    }
   ],
   "source": [
    "model_hrgb.fit(psd_hrgb_train, labels_hrgb_train, batch_size = 16, epochs = 120, verbose = 2, validation_split = 0.2)"
   ]
  },
  {
   "cell_type": "code",
   "execution_count": 38,
   "metadata": {},
   "outputs": [
    {
     "name": "stdout",
     "output_type": "stream",
     "text": [
      "484/484 [==============================] - 0s 835us/step\n"
     ]
    },
    {
     "data": {
      "text/plain": [
       "[0.8452535366470163, 0.6528925619834711]"
      ]
     },
     "execution_count": 38,
     "metadata": {},
     "output_type": "execute_result"
    }
   ],
   "source": [
    "model_hrgb.evaluate(psd_hrgb_test, labels_hrgb_test)"
   ]
  },
  {
   "cell_type": "code",
   "execution_count": 39,
   "metadata": {},
   "outputs": [
    {
     "data": {
      "image/png": "[encoded data removed]",
      "text/plain": [
       "<Figure size 432x288 with 6 Axes>"
      ]
     },
     "metadata": {
      "needs_background": "light"
     },
     "output_type": "display_data"
    }
   ],
   "source": [
    "plot_channel_colours(psd_acym_train, psd_argb_train, labels_acym_train, labels_argb_train, freqs_acym, freqs_argb, 0)"
   ]
  },
  {
   "cell_type": "code",
   "execution_count": 40,
   "metadata": {},
   "outputs": [
    {
     "data": {
      "image/png": "[encoded data removed]",
      "text/plain": [
       "<Figure size 432x288 with 6 Axes>"
      ]
     },
     "metadata": {
      "needs_background": "light"
     },
     "output_type": "display_data"
    }
   ],
   "source": [
    "plot_channel_colours(psd_acym_train, psd_argb_train, labels_acym_train, labels_argb_train, freqs_acym, freqs_argb, 1)"
   ]
  },
  {
   "cell_type": "code",
   "execution_count": 41,
   "metadata": {},
   "outputs": [
    {
     "data": {
      "image/png": "[encoded data removed]",
      "text/plain": [
       "<Figure size 432x288 with 6 Axes>"
      ]
     },
     "metadata": {
      "needs_background": "light"
     },
     "output_type": "display_data"
    }
   ],
   "source": [
    "plot_channel_colours(psd_acym_train, psd_argb_train, labels_acym_train, labels_argb_train, freqs_acym, freqs_argb, 2)"
   ]
  },
  {
   "cell_type": "code",
   "execution_count": null,
   "metadata": {},
   "outputs": [],
   "source": []
  }
 ],
 "metadata": {
  "kernelspec": {
   "display_name": "Python 3",
   "language": "python",
   "name": "python3"
  },
  "language_info": {
   "codemirror_mode": {
    "name": "ipython",
    "version": 3
   },
   "file_extension": ".py",
   "mimetype": "text/x-python",
   "name": "python",
   "nbconvert_exporter": "python",
   "pygments_lexer": "ipython3",
   "version": "3.7.4"
  }
 },
 "nbformat": 4,
 "nbformat_minor": 2
}
