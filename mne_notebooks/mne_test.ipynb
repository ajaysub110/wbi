{
 "cells": [
  {
   "cell_type": "markdown",
   "metadata": {},
   "source": [
    "just add alpha beta .... if bad results"
   ]
  },
  {
   "cell_type": "code",
   "execution_count": 1,
   "metadata": {},
   "outputs": [],
   "source": [
    "import mne\n",
    "import numpy as np\n",
    "import os\n",
    "import re"
   ]
  },
  {
   "cell_type": "code",
   "execution_count": 2,
   "metadata": {},
   "outputs": [],
   "source": [
    "raw_files = set(filter(re.compile(\".*.mff\").match, os.listdir(\"./VRCP\")))\n",
    "fil_files = set(filter(re.compile(\".*fil.mff\").match, os.listdir(\"./VRCP\")))\n",
    "seg_files = set(filter(re.compile(\".*seg.mff\").match, os.listdir(\"./VRCP\")))\n",
    "mat_files = set(filter(re.compile(\".*.mat\").match, os.listdir(\"./VRCP\")))\n",
    "raw_files = raw_files - fil_files - seg_files - mat_files"
   ]
  },
  {
   "cell_type": "code",
   "execution_count": 3,
   "metadata": {},
   "outputs": [
    {
     "name": "stdout",
     "output_type": "stream",
     "text": [
      "{'VRCP-CYM-HarshaW-27-3-19_20190327_120035_fil.mff', 'VRCP-CYM-Atharva-April12_20190412_044115_fil.mff', 'VRCP-RGB-Atharva-April12_20190412_042629_fil.mff', 'VRCP-RGB-HarshaW-27-3-19_20190327_114603_fil.mff'}\n"
     ]
    }
   ],
   "source": [
    "print(fil_files)"
   ]
  },
  {
   "cell_type": "code",
   "execution_count": null,
   "metadata": {},
   "outputs": [],
   "source": [
    "raw_iter = iter(sorted(raw_files))\n",
    "fil_iter = iter(sorted(fil_files))\n",
    "seg_iter = iter(sorted(seg_files))\n",
    "mat_iter = iter(sorted(mat_files))"
   ]
  },
  {
   "cell_type": "code",
   "execution_count": null,
   "metadata": {},
   "outputs": [],
   "source": [
    "rf = next(raw_iter)\n",
    "ff = next(fil_iter)"
   ]
  },
  {
   "cell_type": "code",
   "execution_count": null,
   "metadata": {},
   "outputs": [],
   "source": [
    "# raw_egi = mne.io.read_raw_egi(\"VRCP/\" + rf)\n",
    "# raw_egi.info"
   ]
  },
  {
   "cell_type": "code",
   "execution_count": null,
   "metadata": {},
   "outputs": [],
   "source": [
    "%matplotlib inline\n",
    "# raw_egi.plot(n_channels = len(raw_egi.ch_names))"
   ]
  },
  {
   "cell_type": "code",
   "execution_count": null,
   "metadata": {},
   "outputs": [],
   "source": [
    "fil_egi = mne.io.read_raw_egi(\"VRCP/\" + ff)\n",
    "fil_egi.plot(n_channels = len(fil_egi.ch_names))"
   ]
  },
  {
   "cell_type": "code",
   "execution_count": null,
   "metadata": {},
   "outputs": [],
   "source": [
    "fil_egi.info"
   ]
  },
  {
   "cell_type": "code",
   "execution_count": null,
   "metadata": {},
   "outputs": [],
   "source": [
    "ev = mne.find_events(fil_egi)\n",
    "ev = ev[:-1]\n",
    "\n",
    "print(ev.shape)"
   ]
  },
  {
   "cell_type": "code",
   "execution_count": null,
   "metadata": {},
   "outputs": [],
   "source": [
    "print(ev[:10])"
   ]
  },
  {
   "cell_type": "code",
   "execution_count": null,
   "metadata": {},
   "outputs": [],
   "source": [
    "# ev2 = mne.event.shift_time_events(ev, [1, 2, 3], 1, fil_egi.info['sfreq'])\n",
    "# print(ev2[:10])"
   ]
  },
  {
   "cell_type": "code",
   "execution_count": null,
   "metadata": {},
   "outputs": [],
   "source": [
    "time_of_event = 5 # colour was shown for 5 seconds\n",
    "num_splits = 5 # split each event into 5 splits\n",
    "time_of_split = time_of_event/num_splits\n",
    "shifted_events = []\n",
    "\n",
    "for i in range(num_splits):\n",
    "    ev_shift = mne.event.shift_time_events(ev, [1, 2, 3], i*time_of_split, fil_egi.info['sfreq'])\n",
    "    shifted_events.append(ev_shift)"
   ]
  },
  {
   "cell_type": "code",
   "execution_count": null,
   "metadata": {},
   "outputs": [],
   "source": [
    "shifted_events"
   ]
  },
  {
   "cell_type": "code",
   "execution_count": null,
   "metadata": {},
   "outputs": [],
   "source": [
    "tmin = 0\n",
    "tmax = 0.999 # for one split of 1 second"
   ]
  },
  {
   "cell_type": "code",
   "execution_count": null,
   "metadata": {},
   "outputs": [],
   "source": [
    "ep2 = mne.Epochs(fil_egi, ev, tmin = tmin, tmax = 4.999, baseline = None, verbose = True)"
   ]
  },
  {
   "cell_type": "code",
   "execution_count": null,
   "metadata": {},
   "outputs": [],
   "source": [
    "ep2.get_data().shape"
   ]
  },
  {
   "cell_type": "code",
   "execution_count": null,
   "metadata": {},
   "outputs": [],
   "source": [
    "shifted_epochs = []\n",
    "\n",
    "for i in range(num_splits):\n",
    "    ep = mne.Epochs(fil_egi, shifted_events[i], tmin = tmin, tmax = tmax, baseline = None, verbose = True)\n",
    "    shifted_epochs.append(ep)"
   ]
  },
  {
   "cell_type": "code",
   "execution_count": null,
   "metadata": {},
   "outputs": [],
   "source": [
    "for i in range(num_splits):\n",
    "    shifted_epochs[i].plot(scalings = 'auto', block = True)"
   ]
  },
  {
   "cell_type": "code",
   "execution_count": null,
   "metadata": {},
   "outputs": [],
   "source": [
    "#relevant channels for the occipital lobe\n",
    "\n",
    "channels = ['E9', 'E10', 'E20']"
   ]
  },
  {
   "cell_type": "code",
   "execution_count": null,
   "metadata": {},
   "outputs": [],
   "source": [
    "# ep.plot(picks = channels, scalings = 'auto', n_epochs = len(ev), block = True)"
   ]
  },
  {
   "cell_type": "code",
   "execution_count": null,
   "metadata": {},
   "outputs": [],
   "source": [
    "ep_picked = ep.load_data().pick(channels)\n",
    "ep2_picked = ep2.load_data().pick_channels(channels)"
   ]
  },
  {
   "cell_type": "code",
   "execution_count": null,
   "metadata": {},
   "outputs": [],
   "source": [
    "shifted_ep_pick = []\n",
    "for i in range(num_splits):\n",
    "    ep_pick = shifted_epochs[i].load_data().pick_channels(channels).filter(l_freq = 0, h_freq = 30, verbose = False)\n",
    "    shifted_ep_pick.append(ep_pick)"
   ]
  },
  {
   "cell_type": "code",
   "execution_count": null,
   "metadata": {},
   "outputs": [],
   "source": [
    "for i in range(num_splits):\n",
    "    print(shifted_ep_pick[i].get_data().shape)"
   ]
  },
  {
   "cell_type": "code",
   "execution_count": null,
   "metadata": {},
   "outputs": [],
   "source": [
    "ep_picked.plot(scalings = 'auto', n_epochs = 5, block = True)\n",
    "ep2_picked.plot(scalings = 'auto', n_epochs = 5, block = True)"
   ]
  },
  {
   "cell_type": "code",
   "execution_count": null,
   "metadata": {},
   "outputs": [],
   "source": [
    "ep_pick_fil = ep_picked.filter(l_freq = 0, h_freq = 30)"
   ]
  },
  {
   "cell_type": "code",
   "execution_count": null,
   "metadata": {},
   "outputs": [],
   "source": [
    "ep_pick_fil.plot(scalings = 'auto', n_epochs = len(ev), block = True)"
   ]
  },
  {
   "cell_type": "code",
   "execution_count": null,
   "metadata": {},
   "outputs": [],
   "source": [
    "ep.plot_psd_topomap(normalize = True)"
   ]
  },
  {
   "cell_type": "code",
   "execution_count": null,
   "metadata": {},
   "outputs": [],
   "source": [
    "ep_picked.plot_psd_topomap(normalize = True)"
   ]
  },
  {
   "cell_type": "code",
   "execution_count": null,
   "metadata": {},
   "outputs": [],
   "source": [
    "print(ep_picked.get_data().shape)\n",
    "print(ep_pick_fil.get_data().shape)"
   ]
  },
  {
   "cell_type": "code",
   "execution_count": null,
   "metadata": {},
   "outputs": [],
   "source": [
    "ep_pick_fil.get_data().shape"
   ]
  },
  {
   "cell_type": "code",
   "execution_count": null,
   "metadata": {},
   "outputs": [],
   "source": [
    "psd, freq = mne.time_frequency.psd_multitaper(ep_picked, fmax = 30)\n",
    "\n",
    "print(freq[:100])\n",
    "print(psd.shape)\n",
    "print(freq[-100:])\n",
    "print(psd[0, 0, 3])"
   ]
  },
  {
   "cell_type": "code",
   "execution_count": null,
   "metadata": {},
   "outputs": [],
   "source": [
    "shifted_ep_pick[0].get_data().shape"
   ]
  },
  {
   "cell_type": "code",
   "execution_count": null,
   "metadata": {},
   "outputs": [],
   "source": [
    "psds = []\n",
    "freqs = []\n",
    "h_freq = 30\n",
    "for i in range(num_splits):\n",
    "    psd, freq = mne.time_frequency.psd_multitaper(shifted_ep_pick[i])\n",
    "    \n",
    "    h_freq_pos = np.searchsorted(freq, h_freq, side = 'left')\n",
    "    psd = psd[:, :, :h_freq_pos]\n",
    "    psds.append(psd)\n",
    "    freqs.append(freq[:h_freq_pos])"
   ]
  },
  {
   "cell_type": "code",
   "execution_count": null,
   "metadata": {},
   "outputs": [],
   "source": [
    "print(h_freq_pos)\n",
    "print(psds[0].shape)\n"
   ]
  },
  {
   "cell_type": "code",
   "execution_count": null,
   "metadata": {},
   "outputs": [],
   "source": [
    "print(freq.shape)\n",
    "freq[:100]"
   ]
  },
  {
   "cell_type": "code",
   "execution_count": null,
   "metadata": {},
   "outputs": [],
   "source": [
    "psd_1, freq_1 = mne.time_frequency.psd_multitaper(ep_pick_fil, fmax = 30.0)\n",
    "\n",
    "# print(freq_1[:100])\n",
    "print(psd_1.shape)\n",
    "# print(freq_1[-100:])\n",
    "# print(psd_1[0, 0, 250])\n",
    "# print(freq_1[250])\n",
    "print(np.searchsorted(freq, 30))\n",
    "print(freq)\n",
    "print(psd_1[0, 0, :])\n",
    "# print(freq[150])"
   ]
  },
  {
   "cell_type": "code",
   "execution_count": 4,
   "metadata": {},
   "outputs": [],
   "source": [
    "data_ = []\n",
    "psd_data_ = []\n",
    "freqs_ = []\n",
    "labels_ = []\n",
    "\n",
    "time_of_event = 5 # colour was shown for 5 seconds\n",
    "num_splits = 5 # split each event into 5 splits\n",
    "time_of_split = time_of_event/num_splits\n",
    "h_freq = 30\n",
    "\n",
    "channels = ['E9', 'E10', 'E20']"
   ]
  },
  {
   "cell_type": "code",
   "execution_count": 5,
   "metadata": {},
   "outputs": [
    {
     "name": "stdout",
     "output_type": "stream",
     "text": [
      "1.0\n"
     ]
    }
   ],
   "source": [
    "print(time_of_split)"
   ]
  },
  {
   "cell_type": "code",
   "execution_count": 6,
   "metadata": {},
   "outputs": [],
   "source": [
    "# for ff in fil_files:\n",
    "#     fil_egi = mne.io.read_raw_egi(\"VRCP/\" + ff)\n",
    "#     ev = mne.find_events(fil_egi)\n",
    "#     ep = mne.Epochs(fil_egi, ev, tmin = tmin, tmax = tmax, baseline = None, verbose = True)\n",
    "#     ep_picked = ep.load_data().pick(channels)\n",
    "# #     ep_pick_fil = ep_picked.filter(l_freq = 0, h_freq = 70)\n",
    "#     psd, freq = mne.time_frequency.psd_multitaper(ep_picked)\n",
    "    \n",
    "#     psd_data_.append(psd)\n",
    "#     freqs_.append(np.expand_dims(freq, axis = 1))\n",
    "#     data_.append(ep_picked.get_data())\n",
    "#     labels_.append(ev[ep.selection, 2])"
   ]
  },
  {
   "cell_type": "code",
   "execution_count": 213,
   "metadata": {},
   "outputs": [
    {
     "data": {
      "text/plain": [
       "array([0, 0, 0, 0], dtype=int32)"
      ]
     },
     "execution_count": 213,
     "metadata": {},
     "output_type": "execute_result"
    }
   ],
   "source": [
    "x = 0\n",
    "num_ev_fil = np.zeros(4, dtype = np.int32)\n",
    "num_ev_fil"
   ]
  },
  {
   "cell_type": "code",
   "execution_count": 214,
   "metadata": {},
   "outputs": [],
   "source": [
    "for ff in fil_files:\n",
    "    fil_egi = mne.io.read_raw_egi(\"VRCP/\" + ff, verbose = False)\n",
    "    sfreq = fil_egi.info['sfreq']\n",
    "    ev = mne.find_events(fil_egi, verbose = False)\n",
    "    ev = ev[:-1] # dont use the last event as it may not be sampled for 5 seconds, epoch creation will give error\n",
    "    \n",
    "    tmin = 0\n",
    "    tmax = time_of_split - 1/sfreq\n",
    "    s = 0\n",
    "    for i in range(num_splits):\n",
    "        shifted_ev = mne.event.shift_time_events(ev, [1, 2, 3], i*time_of_split, sfreq)\n",
    "        ep = mne.Epochs(fil_egi, shifted_ev, tmin = tmin, tmax = tmax, baseline = None, verbose = False)\n",
    "        ep_pick = ep.load_data().pick(channels).filter(l_freq = 0, h_freq = 30)\n",
    "#         ep_pick.plot()\n",
    "        psd, freq = mne.time_frequency.psd_multitaper(ep_pick, fmax = 30, verbose = False)\n",
    "        \n",
    "        psd_data_.append(psd)\n",
    "        freqs_.append(np.expand_dims(freq, axis = 1))\n",
    "        labels_.append(shifted_ev[ep.selection, 2])\n",
    "        s = s + len(ep.selection)\n",
    "    num_ev_fil[x] = s\n",
    "    x = x + 1;"
   ]
  },
  {
   "cell_type": "code",
   "execution_count": 215,
   "metadata": {},
   "outputs": [
    {
     "name": "stdout",
     "output_type": "stream",
     "text": [
      "1265\n",
      "[295 285 390 295]\n",
      "50 50\n"
     ]
    }
   ],
   "source": [
    "print(num_ev_fil.sum())\n",
    "print(num_ev_fil)\n",
    "print(len(psd_data_), len(labels_))"
   ]
  },
  {
   "cell_type": "code",
   "execution_count": 179,
   "metadata": {},
   "outputs": [],
   "source": [
    "labels = np.concatenate(labels_[:5])\n",
    "psd_data = np.concatenate(psd_data_[:5])\n",
    "\n",
    "freqs = freq"
   ]
  },
  {
   "cell_type": "code",
   "execution_count": 180,
   "metadata": {},
   "outputs": [
    {
     "name": "stdout",
     "output_type": "stream",
     "text": [
      "(295,) (295, 3, 31)\n"
     ]
    }
   ],
   "source": [
    "print(labels.shape, psd_data.shape)"
   ]
  },
  {
   "cell_type": "code",
   "execution_count": 181,
   "metadata": {},
   "outputs": [
    {
     "name": "stdout",
     "output_type": "stream",
     "text": [
      "[ 0.  1.  2.  3.  4.  5.  6.  7.  8.  9. 10. 11. 12. 13. 14. 15. 16. 17.\n",
      " 18. 19. 20. 21. 22. 23. 24. 25. 26. 27. 28. 29. 30.]\n"
     ]
    }
   ],
   "source": [
    "print(freqs)"
   ]
  },
  {
   "cell_type": "code",
   "execution_count": 182,
   "metadata": {},
   "outputs": [],
   "source": [
    "# add features - sums of delta(0-4), theta(4-7), alpha(8-15), beta(16-31)\n",
    "\n",
    "d_max = 4\n",
    "t_max = 8\n",
    "a_max = 14\n",
    "b_max = 30\n",
    "\n",
    "d_r = np.searchsorted(freqs, d_max, side = 'left') \n",
    "t_r = np.searchsorted(freqs, t_max, side = 'left') \n",
    "a_r = np.searchsorted(freqs, a_max, side = 'left') \n",
    "b_r = np.searchsorted(freqs, b_max, side = 'left') "
   ]
  },
  {
   "cell_type": "code",
   "execution_count": 183,
   "metadata": {},
   "outputs": [
    {
     "name": "stdout",
     "output_type": "stream",
     "text": [
      "4 8 14 30\n"
     ]
    }
   ],
   "source": [
    "print(d_r, t_r, a_r, b_r)"
   ]
  },
  {
   "cell_type": "code",
   "execution_count": 184,
   "metadata": {},
   "outputs": [
    {
     "name": "stdout",
     "output_type": "stream",
     "text": [
      "(295, 3, 31)\n",
      "(295, 3, 1) (295, 3, 1) (295, 3, 1) (295, 3, 1)\n",
      "(295, 3, 4)\n",
      "(295, 3, 35)\n"
     ]
    }
   ],
   "source": [
    "print(psd_data.shape)\n",
    "\n",
    "d_sums = np.expand_dims(psd_data[:, :, :d_r].sum(2), axis = 2)\n",
    "t_sums = np.expand_dims(psd_data[:, :, d_r:t_r].sum(2), axis = 2)\n",
    "a_sums = np.expand_dims(psd_data[:, :, t_r:a_r].sum(2), axis = 2)\n",
    "b_sums = np.expand_dims(psd_data[:, :, a_r:b_r].sum(2), axis = 2)\n",
    "print(d_sums.shape, t_sums.shape, a_sums.shape, b_sums.shape)\n",
    "band_sums = np.concatenate([d_sums, t_sums, a_sums, b_sums], axis = 2)\n",
    "print(band_sums.shape)\n",
    "\n",
    "psd_band_data = np.concatenate([psd_data, band_sums], axis = 2)\n",
    "print(psd_band_data.shape)"
   ]
  },
  {
   "cell_type": "code",
   "execution_count": 185,
   "metadata": {},
   "outputs": [],
   "source": [
    "labels_r = labels[labels == 1]\n",
    "labels_g = labels[labels == 2]\n",
    "labels_b = labels[labels == 3]"
   ]
  },
  {
   "cell_type": "code",
   "execution_count": 186,
   "metadata": {},
   "outputs": [],
   "source": [
    "psd_data_r = psd_data[labels == 1, :, :]\n",
    "psd_data_g = psd_data[labels == 2, :, :]\n",
    "psd_data_b = psd_data[labels == 3, :, :]\n",
    "\n",
    "psd_band_data_r = psd_band_data[labels == 1, :, :]\n",
    "psd_band_data_g = psd_band_data[labels == 2, :, :]\n",
    "psd_band_data_b = psd_band_data[labels == 3, :, :]"
   ]
  },
  {
   "cell_type": "code",
   "execution_count": 187,
   "metadata": {},
   "outputs": [
    {
     "name": "stdout",
     "output_type": "stream",
     "text": [
      "(100,) (100,) (95,) (100, 3, 31) (100, 3, 31) (95, 3, 31)\n"
     ]
    }
   ],
   "source": [
    "print(labels_r.shape, labels_g.shape, labels_b.shape, psd_data_r.shape, psd_data_g.shape, psd_data_b.shape)"
   ]
  },
  {
   "cell_type": "code",
   "execution_count": 188,
   "metadata": {},
   "outputs": [],
   "source": [
    "import keras\n",
    "from keras.models import Sequential\n",
    "from keras.layers import Dense, Flatten, LeakyReLU, BatchNormalization, Dropout\n",
    "from keras.utils import to_categorical"
   ]
  },
  {
   "cell_type": "code",
   "execution_count": 189,
   "metadata": {},
   "outputs": [
    {
     "data": {
      "text/plain": [
       "(295, 3)"
      ]
     },
     "execution_count": 189,
     "metadata": {},
     "output_type": "execute_result"
    }
   ],
   "source": [
    "labels_cat = to_categorical(labels)\n",
    "labels_cat = labels_cat[:, 1:]\n",
    "labels_cat.shape"
   ]
  },
  {
   "cell_type": "code",
   "execution_count": 190,
   "metadata": {},
   "outputs": [],
   "source": [
    "from sklearn.model_selection import train_test_split\n",
    "\n",
    "# should give error because psd_data\n",
    "# psd_train, psd_test, labels_train, labels_test = train_test_split(psd_data, labels_cat, random_state = 42, test_size = 0.2)\n",
    "\n",
    "psd_train_r, psd_test_r, labels_train_r, labels_test_r = train_test_split(psd_data_r, labels_cat[labels == 1, :], random_state = 42, test_size = 0.2)\n",
    "psd_train_g, psd_test_g, labels_train_g, labels_test_g = train_test_split(psd_data_g, labels_cat[labels == 2, :], random_state = 42, test_size = 0.2)\n",
    "psd_train_b, psd_test_b, labels_train_b, labels_test_b = train_test_split(psd_data_b, labels_cat[labels == 3, :], random_state = 42, test_size = 0.2)\n",
    "\n",
    "psd_band_train_r, psd_band_test_r, labels_band_train_r, labels_band_test_r = train_test_split(psd_band_data_r, labels_cat[labels == 1, :], random_state = 42, test_size = 0.2)\n",
    "psd_band_train_g, psd_band_test_g, labels_band_train_g, labels_band_test_g = train_test_split(psd_band_data_g, labels_cat[labels == 2, :], random_state = 42, test_size = 0.2)\n",
    "psd_band_train_b, psd_band_test_b, labels_band_train_b, labels_band_test_b = train_test_split(psd_band_data_b, labels_cat[labels == 3, :], random_state = 42, test_size = 0.2)"
   ]
  },
  {
   "cell_type": "code",
   "execution_count": 191,
   "metadata": {},
   "outputs": [
    {
     "name": "stdout",
     "output_type": "stream",
     "text": [
      "(295, 3)\n"
     ]
    }
   ],
   "source": [
    "print(labels_cat.shape)"
   ]
  },
  {
   "cell_type": "code",
   "execution_count": 192,
   "metadata": {},
   "outputs": [],
   "source": [
    "psd_train = np.concatenate([psd_train_r, psd_train_g, psd_train_b])\n",
    "psd_test = np.concatenate([psd_test_r, psd_test_g, psd_test_b])\n",
    "labels_train = np.concatenate([labels_train_r, labels_train_g, labels_train_b])\n",
    "labels_test = np.concatenate([labels_test_r, labels_test_g, labels_test_b])\n",
    "\n",
    "psd_band_train = np.concatenate([psd_band_train_r, psd_band_train_g, psd_band_train_b])\n",
    "psd_band_test = np.concatenate([psd_band_test_r, psd_band_test_g, psd_band_test_b])\n",
    "labels_band_train = np.concatenate([labels_band_train_r, labels_band_train_g, labels_band_train_b])\n",
    "labels_band_test = np.concatenate([labels_band_test_r, labels_band_test_g, labels_band_test_b])"
   ]
  },
  {
   "cell_type": "code",
   "execution_count": 193,
   "metadata": {},
   "outputs": [],
   "source": [
    "from sklearn.utils import shuffle\n",
    "\n",
    "psd_train, labels_train = shuffle(psd_train, labels_train)\n",
    "psd_test, labels_test = shuffle(psd_test, labels_test)\n",
    "\n",
    "psd_band_train, labels_band_train = shuffle(psd_band_train, labels_band_train)\n",
    "psd_band_test, labels_band_test = shuffle(psd_band_test, labels_band_test)"
   ]
  },
  {
   "cell_type": "code",
   "execution_count": 194,
   "metadata": {},
   "outputs": [
    {
     "name": "stdout",
     "output_type": "stream",
     "text": [
      "(236, 3, 31) (59, 3, 31) (236, 3) (59, 3)\n"
     ]
    }
   ],
   "source": [
    "print(psd_train.shape, psd_test.shape, labels_train.shape, labels_test.shape)"
   ]
  },
  {
   "cell_type": "code",
   "execution_count": 195,
   "metadata": {},
   "outputs": [
    {
     "name": "stdout",
     "output_type": "stream",
     "text": [
      "(236, 3, 35) (59, 3, 35) (236, 3) (59, 3)\n"
     ]
    }
   ],
   "source": [
    "print(psd_band_train.shape, psd_band_test.shape, labels_band_train.shape, labels_band_test.shape)"
   ]
  },
  {
   "cell_type": "code",
   "execution_count": 196,
   "metadata": {},
   "outputs": [],
   "source": [
    "from sklearn.preprocessing import RobustScaler\n",
    "\n",
    "n_ep_train, n_ch, n_f = psd_train.shape\n",
    "n_ep_test = psd_test.shape[0]\n",
    "\n",
    "scale = RobustScaler()\n",
    "psd_train_norm = scale.fit_transform(psd_train.reshape((n_ep_train, n_ch*n_f))).reshape((n_ep_train, n_ch, n_f))\n",
    "psd_test_norm = scale.transform(psd_test.reshape((n_ep_test, n_ch*n_f))).reshape((n_ep_test, n_ch, n_f))\n",
    "\n",
    "n_ep_band_train, n_band_ch, n_band_f = psd_band_train.shape\n",
    "n_ep_band_test = psd_band_test.shape[0]\n",
    "\n",
    "scale_band = RobustScaler()\n",
    "psd_band_train_norm = scale_band.fit_transform(psd_band_train.reshape((n_ep_band_train, n_band_ch*n_band_f))).reshape((n_ep_band_train, n_band_ch, n_band_f))\n",
    "psd_band_test_norm = scale_band.transform(psd_band_test.reshape((n_ep_band_test, n_band_ch*n_band_f))).reshape((n_ep_band_test, n_band_ch, n_band_f))"
   ]
  },
  {
   "cell_type": "code",
   "execution_count": 197,
   "metadata": {},
   "outputs": [
    {
     "name": "stdout",
     "output_type": "stream",
     "text": [
      "(236, 3, 31) (59, 3, 31)\n",
      "(236, 3, 35) (59, 3, 35)\n"
     ]
    }
   ],
   "source": [
    "print(psd_train_norm.shape, psd_test_norm.shape)\n",
    "print(psd_band_train_norm.shape, psd_band_test_norm.shape,)"
   ]
  },
  {
   "cell_type": "code",
   "execution_count": 198,
   "metadata": {},
   "outputs": [],
   "source": [
    "model = Sequential()\n",
    "model.add(Flatten())\n",
    "model.add(Dense(64, activation = 'relu')) # , kernel_regularizer = keras.regularizers.l1(0.01)))\n",
    "# model.add(BatchNormalization())\n",
    "model.add(Dropout(0.5))\n",
    "model.add(Dense(16, activation = 'relu'))\n",
    "model.add(BatchNormalization())\n",
    "# model.add(LeakyReLU())\n",
    "model.add(Dense(3, activation = 'softmax'))"
   ]
  },
  {
   "cell_type": "code",
   "execution_count": 199,
   "metadata": {},
   "outputs": [],
   "source": [
    "model.compile(loss = 'categorical_crossentropy', optimizer = 'adam', metrics = ['accuracy'])"
   ]
  },
  {
   "cell_type": "code",
   "execution_count": 200,
   "metadata": {},
   "outputs": [
    {
     "name": "stdout",
     "output_type": "stream",
     "text": [
      "Train on 188 samples, validate on 48 samples\n",
      "Epoch 1/100\n",
      " - 1s - loss: 1.3517 - acc: 0.4149 - val_loss: 1.1112 - val_acc: 0.4167\n",
      "Epoch 2/100\n",
      " - 0s - loss: 1.3811 - acc: 0.3989 - val_loss: 1.0918 - val_acc: 0.4375\n",
      "Epoch 3/100\n",
      " - 0s - loss: 1.2034 - acc: 0.4255 - val_loss: 1.2034 - val_acc: 0.4167\n",
      "Epoch 4/100\n",
      " - 0s - loss: 1.2833 - acc: 0.4149 - val_loss: 1.1469 - val_acc: 0.3750\n",
      "Epoch 5/100\n",
      " - 0s - loss: 1.2614 - acc: 0.4096 - val_loss: 1.0935 - val_acc: 0.3333\n",
      "Epoch 6/100\n",
      " - 0s - loss: 1.2282 - acc: 0.3723 - val_loss: 1.0818 - val_acc: 0.3958\n",
      "Epoch 7/100\n",
      " - 0s - loss: 1.1505 - acc: 0.4149 - val_loss: 1.1179 - val_acc: 0.3958\n",
      "Epoch 8/100\n",
      " - 0s - loss: 1.1259 - acc: 0.3883 - val_loss: 1.1806 - val_acc: 0.3958\n",
      "Epoch 9/100\n",
      " - 0s - loss: 1.3055 - acc: 0.3564 - val_loss: 1.2504 - val_acc: 0.3750\n",
      "Epoch 10/100\n",
      " - 0s - loss: 1.0926 - acc: 0.4681 - val_loss: 1.2073 - val_acc: 0.3958\n",
      "Epoch 11/100\n",
      " - 0s - loss: 1.1922 - acc: 0.4043 - val_loss: 1.1646 - val_acc: 0.3542\n",
      "Epoch 12/100\n",
      " - 0s - loss: 1.1220 - acc: 0.4840 - val_loss: 1.0989 - val_acc: 0.4167\n",
      "Epoch 13/100\n",
      " - 0s - loss: 1.1394 - acc: 0.4362 - val_loss: 1.0878 - val_acc: 0.3958\n",
      "Epoch 14/100\n",
      " - 0s - loss: 1.1489 - acc: 0.4255 - val_loss: 1.0761 - val_acc: 0.3750\n",
      "Epoch 15/100\n",
      " - 0s - loss: 1.0053 - acc: 0.4468 - val_loss: 1.1027 - val_acc: 0.3542\n",
      "Epoch 16/100\n",
      " - 0s - loss: 1.0245 - acc: 0.4574 - val_loss: 1.1205 - val_acc: 0.4167\n",
      "Epoch 17/100\n",
      " - 0s - loss: 1.0248 - acc: 0.4840 - val_loss: 1.1261 - val_acc: 0.3958\n",
      "Epoch 18/100\n",
      " - 0s - loss: 1.0233 - acc: 0.4787 - val_loss: 1.0825 - val_acc: 0.3750\n",
      "Epoch 19/100\n",
      " - 0s - loss: 1.1160 - acc: 0.4521 - val_loss: 1.0930 - val_acc: 0.4167\n",
      "Epoch 20/100\n",
      " - 0s - loss: 0.9969 - acc: 0.5426 - val_loss: 1.1076 - val_acc: 0.3542\n",
      "Epoch 21/100\n",
      " - 0s - loss: 1.0566 - acc: 0.5213 - val_loss: 1.0922 - val_acc: 0.3958\n",
      "Epoch 22/100\n",
      " - 0s - loss: 1.0127 - acc: 0.4415 - val_loss: 1.1009 - val_acc: 0.3542\n",
      "Epoch 23/100\n",
      " - 0s - loss: 1.0707 - acc: 0.4681 - val_loss: 1.1188 - val_acc: 0.3125\n",
      "Epoch 24/100\n",
      " - 0s - loss: 1.0697 - acc: 0.4628 - val_loss: 1.1659 - val_acc: 0.3125\n",
      "Epoch 25/100\n",
      " - 0s - loss: 1.0209 - acc: 0.5053 - val_loss: 1.1289 - val_acc: 0.3542\n",
      "Epoch 26/100\n",
      " - 0s - loss: 1.0248 - acc: 0.3989 - val_loss: 1.0539 - val_acc: 0.3958\n",
      "Epoch 27/100\n",
      " - 0s - loss: 1.0033 - acc: 0.4947 - val_loss: 1.0343 - val_acc: 0.4167\n",
      "Epoch 28/100\n",
      " - 0s - loss: 0.9868 - acc: 0.5319 - val_loss: 1.0271 - val_acc: 0.3958\n",
      "Epoch 29/100\n",
      " - 0s - loss: 0.9971 - acc: 0.4947 - val_loss: 1.0183 - val_acc: 0.3750\n",
      "Epoch 30/100\n",
      " - 0s - loss: 0.9784 - acc: 0.5053 - val_loss: 1.0341 - val_acc: 0.4167\n",
      "Epoch 31/100\n",
      " - 0s - loss: 1.0222 - acc: 0.4787 - val_loss: 1.0271 - val_acc: 0.3750\n",
      "Epoch 32/100\n",
      " - 0s - loss: 0.9927 - acc: 0.5213 - val_loss: 1.0152 - val_acc: 0.3958\n",
      "Epoch 33/100\n",
      " - 0s - loss: 0.9851 - acc: 0.5372 - val_loss: 1.0252 - val_acc: 0.4167\n",
      "Epoch 34/100\n",
      " - 0s - loss: 1.0031 - acc: 0.5426 - val_loss: 1.0189 - val_acc: 0.4167\n",
      "Epoch 35/100\n",
      " - 0s - loss: 0.9757 - acc: 0.5000 - val_loss: 1.0043 - val_acc: 0.4167\n",
      "Epoch 36/100\n",
      " - 0s - loss: 0.9810 - acc: 0.4628 - val_loss: 1.0096 - val_acc: 0.3958\n",
      "Epoch 37/100\n",
      " - 0s - loss: 1.0508 - acc: 0.4787 - val_loss: 1.0284 - val_acc: 0.4167\n",
      "Epoch 38/100\n",
      " - 0s - loss: 0.9491 - acc: 0.5053 - val_loss: 1.0194 - val_acc: 0.4167\n",
      "Epoch 39/100\n",
      " - 0s - loss: 1.0172 - acc: 0.5053 - val_loss: 1.0038 - val_acc: 0.4583\n",
      "Epoch 40/100\n",
      " - 0s - loss: 0.9237 - acc: 0.4840 - val_loss: 0.9953 - val_acc: 0.4583\n",
      "Epoch 41/100\n",
      " - 0s - loss: 0.9323 - acc: 0.5851 - val_loss: 0.9949 - val_acc: 0.4792\n",
      "Epoch 42/100\n",
      " - 0s - loss: 0.9867 - acc: 0.4681 - val_loss: 1.0027 - val_acc: 0.4375\n",
      "Epoch 43/100\n",
      " - 0s - loss: 0.9677 - acc: 0.5532 - val_loss: 1.0158 - val_acc: 0.3958\n",
      "Epoch 44/100\n",
      " - 0s - loss: 0.9971 - acc: 0.4947 - val_loss: 1.0180 - val_acc: 0.3958\n",
      "Epoch 45/100\n",
      " - 0s - loss: 0.9390 - acc: 0.5106 - val_loss: 1.0232 - val_acc: 0.3333\n",
      "Epoch 46/100\n",
      " - 0s - loss: 0.9775 - acc: 0.5213 - val_loss: 1.0257 - val_acc: 0.3542\n",
      "Epoch 47/100\n",
      " - 0s - loss: 0.9736 - acc: 0.5372 - val_loss: 1.0078 - val_acc: 0.3958\n",
      "Epoch 48/100\n",
      " - 0s - loss: 0.8847 - acc: 0.5532 - val_loss: 1.0005 - val_acc: 0.4167\n",
      "Epoch 49/100\n",
      " - 0s - loss: 0.9931 - acc: 0.4840 - val_loss: 0.9950 - val_acc: 0.4167\n",
      "Epoch 50/100\n",
      " - 0s - loss: 0.9203 - acc: 0.5426 - val_loss: 0.9962 - val_acc: 0.3958\n",
      "Epoch 51/100\n",
      " - 0s - loss: 0.9619 - acc: 0.5319 - val_loss: 0.9909 - val_acc: 0.4375\n",
      "Epoch 52/100\n",
      " - 0s - loss: 0.9474 - acc: 0.5372 - val_loss: 0.9859 - val_acc: 0.4375\n",
      "Epoch 53/100\n",
      " - 0s - loss: 0.9280 - acc: 0.5798 - val_loss: 0.9870 - val_acc: 0.4583\n",
      "Epoch 54/100\n",
      " - 0s - loss: 0.9396 - acc: 0.5160 - val_loss: 0.9930 - val_acc: 0.4375\n",
      "Epoch 55/100\n",
      " - 0s - loss: 0.9082 - acc: 0.5160 - val_loss: 0.9795 - val_acc: 0.4167\n",
      "Epoch 56/100\n",
      " - 0s - loss: 0.9674 - acc: 0.5000 - val_loss: 0.9827 - val_acc: 0.4167\n",
      "Epoch 57/100\n",
      " - 0s - loss: 0.8796 - acc: 0.5745 - val_loss: 0.9966 - val_acc: 0.3958\n",
      "Epoch 58/100\n",
      " - 0s - loss: 0.9107 - acc: 0.5319 - val_loss: 1.0192 - val_acc: 0.3333\n",
      "Epoch 59/100\n",
      " - 0s - loss: 0.9347 - acc: 0.5479 - val_loss: 1.0356 - val_acc: 0.3333\n",
      "Epoch 60/100\n",
      " - 0s - loss: 0.9064 - acc: 0.5585 - val_loss: 1.0587 - val_acc: 0.3333\n",
      "Epoch 61/100\n",
      " - 0s - loss: 0.9091 - acc: 0.5638 - val_loss: 1.0149 - val_acc: 0.3333\n",
      "Epoch 62/100\n",
      " - 0s - loss: 0.8944 - acc: 0.5585 - val_loss: 0.9891 - val_acc: 0.4167\n",
      "Epoch 63/100\n",
      " - 0s - loss: 0.9465 - acc: 0.5213 - val_loss: 0.9806 - val_acc: 0.4167\n",
      "Epoch 64/100\n",
      " - 0s - loss: 0.8847 - acc: 0.5745 - val_loss: 0.9800 - val_acc: 0.4583\n",
      "Epoch 65/100\n",
      " - 0s - loss: 0.9288 - acc: 0.5053 - val_loss: 0.9835 - val_acc: 0.4375\n",
      "Epoch 66/100\n",
      " - 0s - loss: 0.8677 - acc: 0.6064 - val_loss: 0.9726 - val_acc: 0.4583\n",
      "Epoch 67/100\n",
      " - 0s - loss: 0.8590 - acc: 0.6117 - val_loss: 0.9814 - val_acc: 0.4375\n",
      "Epoch 68/100\n",
      " - 0s - loss: 0.8475 - acc: 0.5851 - val_loss: 0.9894 - val_acc: 0.3958\n",
      "Epoch 69/100\n",
      " - 0s - loss: 0.9347 - acc: 0.5745 - val_loss: 0.9800 - val_acc: 0.4583\n",
      "Epoch 70/100\n",
      " - 0s - loss: 0.8612 - acc: 0.5745 - val_loss: 0.9751 - val_acc: 0.4375\n",
      "Epoch 71/100\n",
      " - 0s - loss: 0.8893 - acc: 0.5798 - val_loss: 0.9735 - val_acc: 0.4167\n",
      "Epoch 72/100\n",
      " - 0s - loss: 0.8742 - acc: 0.5266 - val_loss: 0.9694 - val_acc: 0.4167\n",
      "Epoch 73/100\n",
      " - 0s - loss: 0.8622 - acc: 0.6223 - val_loss: 0.9900 - val_acc: 0.4167\n",
      "Epoch 74/100\n",
      " - 0s - loss: 0.9158 - acc: 0.5532 - val_loss: 1.0294 - val_acc: 0.3750\n",
      "Epoch 75/100\n",
      " - 0s - loss: 0.8366 - acc: 0.6330 - val_loss: 1.0546 - val_acc: 0.4167\n",
      "Epoch 76/100\n",
      " - 0s - loss: 0.8672 - acc: 0.5585 - val_loss: 1.0646 - val_acc: 0.3750\n",
      "Epoch 77/100\n",
      " - 0s - loss: 0.9202 - acc: 0.5745 - val_loss: 1.0398 - val_acc: 0.3958\n",
      "Epoch 78/100\n",
      " - 0s - loss: 0.9071 - acc: 0.5372 - val_loss: 1.0419 - val_acc: 0.3750\n",
      "Epoch 79/100\n",
      " - 0s - loss: 0.8815 - acc: 0.5638 - val_loss: 1.0423 - val_acc: 0.3958\n",
      "Epoch 80/100\n",
      " - 0s - loss: 0.8588 - acc: 0.6383 - val_loss: 1.0430 - val_acc: 0.3958\n",
      "Epoch 81/100\n",
      " - 0s - loss: 0.8819 - acc: 0.5691 - val_loss: 1.0328 - val_acc: 0.4167\n",
      "Epoch 82/100\n",
      " - 0s - loss: 0.8610 - acc: 0.6330 - val_loss: 1.0390 - val_acc: 0.4792\n",
      "Epoch 83/100\n",
      " - 0s - loss: 0.9055 - acc: 0.5426 - val_loss: 1.0495 - val_acc: 0.4167\n",
      "Epoch 84/100\n",
      " - 0s - loss: 0.8801 - acc: 0.5851 - val_loss: 1.0946 - val_acc: 0.4375\n",
      "Epoch 85/100\n",
      " - 0s - loss: 0.8697 - acc: 0.6223 - val_loss: 1.1075 - val_acc: 0.4167\n",
      "Epoch 86/100\n",
      " - 0s - loss: 0.8335 - acc: 0.6383 - val_loss: 1.1033 - val_acc: 0.4167\n",
      "Epoch 87/100\n",
      " - 0s - loss: 0.8698 - acc: 0.5745 - val_loss: 1.0758 - val_acc: 0.3958\n",
      "Epoch 88/100\n",
      " - 0s - loss: 0.8604 - acc: 0.5372 - val_loss: 1.0647 - val_acc: 0.4375\n",
      "Epoch 89/100\n",
      " - 0s - loss: 0.8557 - acc: 0.6064 - val_loss: 1.0648 - val_acc: 0.4375\n",
      "Epoch 90/100\n",
      " - 0s - loss: 0.8284 - acc: 0.5851 - val_loss: 1.0586 - val_acc: 0.4375\n",
      "Epoch 91/100\n",
      " - 0s - loss: 0.7974 - acc: 0.6543 - val_loss: 1.0702 - val_acc: 0.4375\n",
      "Epoch 92/100\n",
      " - 0s - loss: 0.8412 - acc: 0.6383 - val_loss: 1.0363 - val_acc: 0.4375\n",
      "Epoch 93/100\n",
      " - 0s - loss: 0.8413 - acc: 0.6383 - val_loss: 1.0097 - val_acc: 0.4583\n",
      "Epoch 94/100\n",
      " - 0s - loss: 0.8780 - acc: 0.5904 - val_loss: 0.9965 - val_acc: 0.5000\n",
      "Epoch 95/100\n",
      " - 0s - loss: 0.8046 - acc: 0.5904 - val_loss: 0.9977 - val_acc: 0.4792\n",
      "Epoch 96/100\n",
      " - 0s - loss: 0.7976 - acc: 0.6330 - val_loss: 1.0103 - val_acc: 0.4583\n"
     ]
    },
    {
     "name": "stdout",
     "output_type": "stream",
     "text": [
      "Epoch 97/100\n",
      " - 0s - loss: 0.8788 - acc: 0.6223 - val_loss: 1.0297 - val_acc: 0.4583\n",
      "Epoch 98/100\n",
      " - 0s - loss: 0.8283 - acc: 0.6489 - val_loss: 1.0435 - val_acc: 0.4375\n",
      "Epoch 99/100\n",
      " - 0s - loss: 0.7864 - acc: 0.6596 - val_loss: 1.0355 - val_acc: 0.4792\n",
      "Epoch 100/100\n",
      " - 0s - loss: 0.8223 - acc: 0.6277 - val_loss: 1.1134 - val_acc: 0.4375\n"
     ]
    },
    {
     "data": {
      "text/plain": [
       "<keras.callbacks.History at 0x134f07e10>"
      ]
     },
     "execution_count": 200,
     "metadata": {},
     "output_type": "execute_result"
    }
   ],
   "source": [
    "model.fit(psd_train_norm, labels_train, batch_size = 16, epochs = 100, verbose = 2, validation_split = 0.2)"
   ]
  },
  {
   "cell_type": "code",
   "execution_count": 201,
   "metadata": {},
   "outputs": [
    {
     "name": "stdout",
     "output_type": "stream",
     "text": [
      "59/59 [==============================] - 0s 148us/step\n",
      "[1.024133544857219, 0.406779655460584]\n"
     ]
    }
   ],
   "source": [
    "print(model.evaluate(psd_test_norm, labels_test))"
   ]
  },
  {
   "cell_type": "code",
   "execution_count": 202,
   "metadata": {},
   "outputs": [
    {
     "name": "stdout",
     "output_type": "stream",
     "text": [
      "50/50 [==============================] - 0s 157us/step\n",
      "[0.79592777967453, 0.7200000047683716]\n"
     ]
    }
   ],
   "source": [
    "print(model.evaluate(psd_train_norm[:50, :, :], labels_train[:50, :]))"
   ]
  },
  {
   "cell_type": "code",
   "execution_count": 203,
   "metadata": {},
   "outputs": [],
   "source": [
    "pred_class_test = model.predict_classes(psd_test_norm)"
   ]
  },
  {
   "cell_type": "code",
   "execution_count": 204,
   "metadata": {},
   "outputs": [],
   "source": [
    "# pred_class_test = model.predict_classes([np.random.random((1, 3, 31))])"
   ]
  },
  {
   "cell_type": "code",
   "execution_count": 205,
   "metadata": {},
   "outputs": [
    {
     "name": "stdout",
     "output_type": "stream",
     "text": [
      "[1 1 1 3 2 1 1 2 2 3 1 2 1 1 3 3 2 1 1 2 3 1 2 1 2 2 3 2 2 2 2 1 2 2 3 2 2\n",
      " 3 1 1 3 1 2 2 3 1 1 1 3 3 2 2 1 2 1 2 3 2 2]\n"
     ]
    }
   ],
   "source": [
    "print(pred_class_test + 1)"
   ]
  },
  {
   "cell_type": "code",
   "execution_count": 206,
   "metadata": {},
   "outputs": [
    {
     "name": "stdout",
     "output_type": "stream",
     "text": [
      "[3 3 3 3 1 1 2 2 1 3 2 2 3 1 3 3 2 1 2 1 1 3 3 2 2 1 3 1 2 1 2 2 1 2 2 1 2\n",
      " 2 2 1 3 3 3 1 3 1 1 3 1 3 1 2 2 1 2 3 1 2 3]\n"
     ]
    }
   ],
   "source": [
    "print(labels_test.argmax(1) + 1)"
   ]
  },
  {
   "cell_type": "code",
   "execution_count": 207,
   "metadata": {},
   "outputs": [],
   "source": [
    "model_2 = Sequential()\n",
    "model_2.add(Flatten())\n",
    "model_2.add(Dense(64, activation = 'relu')) # , kernel_regularizer = keras.regularizers.l1(0.01)))\n",
    "# model.add(BatchNormalization())\n",
    "model_2.add(Dropout(0.5))\n",
    "model_2.add(Dense(16, activation = 'relu'))\n",
    "model_2.add(BatchNormalization())\n",
    "# model.add(LeakyReLU())\n",
    "model_2.add(Dense(3, activation = 'softmax'))"
   ]
  },
  {
   "cell_type": "code",
   "execution_count": 208,
   "metadata": {},
   "outputs": [],
   "source": [
    "model_2.compile(loss = 'categorical_crossentropy', optimizer = 'adam', metrics = ['accuracy'])"
   ]
  },
  {
   "cell_type": "code",
   "execution_count": 209,
   "metadata": {},
   "outputs": [
    {
     "name": "stdout",
     "output_type": "stream",
     "text": [
      "Train on 188 samples, validate on 48 samples\n",
      "Epoch 1/100\n",
      " - 2s - loss: 1.5266 - acc: 0.3404 - val_loss: 1.2564 - val_acc: 0.3125\n",
      "Epoch 2/100\n",
      " - 0s - loss: 1.5040 - acc: 0.3404 - val_loss: 1.2496 - val_acc: 0.3125\n",
      "Epoch 3/100\n",
      " - 0s - loss: 1.3164 - acc: 0.4043 - val_loss: 1.1935 - val_acc: 0.3333\n",
      "Epoch 4/100\n",
      " - 0s - loss: 1.3224 - acc: 0.3830 - val_loss: 1.1697 - val_acc: 0.3542\n",
      "Epoch 5/100\n",
      " - 0s - loss: 1.2497 - acc: 0.4043 - val_loss: 1.1695 - val_acc: 0.3333\n",
      "Epoch 6/100\n",
      " - 0s - loss: 1.2075 - acc: 0.3830 - val_loss: 1.1441 - val_acc: 0.3125\n",
      "Epoch 7/100\n",
      " - 0s - loss: 1.1396 - acc: 0.4415 - val_loss: 1.1156 - val_acc: 0.2917\n",
      "Epoch 8/100\n",
      " - 0s - loss: 1.1725 - acc: 0.4096 - val_loss: 1.1349 - val_acc: 0.3333\n",
      "Epoch 9/100\n",
      " - 0s - loss: 1.1268 - acc: 0.4309 - val_loss: 1.1582 - val_acc: 0.3542\n",
      "Epoch 10/100\n",
      " - 0s - loss: 1.1777 - acc: 0.4096 - val_loss: 1.1300 - val_acc: 0.3333\n",
      "Epoch 11/100\n",
      " - 0s - loss: 1.0384 - acc: 0.5053 - val_loss: 1.1387 - val_acc: 0.3542\n",
      "Epoch 12/100\n",
      " - 0s - loss: 1.0819 - acc: 0.5160 - val_loss: 1.1367 - val_acc: 0.3125\n",
      "Epoch 13/100\n",
      " - 0s - loss: 1.0608 - acc: 0.4149 - val_loss: 1.1166 - val_acc: 0.2917\n",
      "Epoch 14/100\n",
      " - 0s - loss: 1.0735 - acc: 0.4574 - val_loss: 1.0947 - val_acc: 0.2917\n",
      "Epoch 15/100\n",
      " - 0s - loss: 1.0520 - acc: 0.4787 - val_loss: 1.0908 - val_acc: 0.2917\n",
      "Epoch 16/100\n",
      " - 0s - loss: 1.1054 - acc: 0.5000 - val_loss: 1.1046 - val_acc: 0.2917\n",
      "Epoch 17/100\n",
      " - 0s - loss: 1.0009 - acc: 0.5160 - val_loss: 1.0956 - val_acc: 0.2917\n",
      "Epoch 18/100\n",
      " - 0s - loss: 1.0835 - acc: 0.4255 - val_loss: 1.0840 - val_acc: 0.3125\n",
      "Epoch 19/100\n",
      " - 0s - loss: 1.0622 - acc: 0.4415 - val_loss: 1.0789 - val_acc: 0.2917\n",
      "Epoch 20/100\n",
      " - 0s - loss: 1.0711 - acc: 0.5000 - val_loss: 1.0822 - val_acc: 0.2917\n",
      "Epoch 21/100\n",
      " - 0s - loss: 1.0586 - acc: 0.4521 - val_loss: 1.1062 - val_acc: 0.2917\n",
      "Epoch 22/100\n",
      " - 0s - loss: 1.0556 - acc: 0.4202 - val_loss: 1.1102 - val_acc: 0.2500\n",
      "Epoch 23/100\n",
      " - 0s - loss: 1.0642 - acc: 0.4149 - val_loss: 1.1041 - val_acc: 0.2500\n",
      "Epoch 24/100\n",
      " - 0s - loss: 1.0226 - acc: 0.5106 - val_loss: 1.1157 - val_acc: 0.2500\n",
      "Epoch 25/100\n",
      " - 0s - loss: 1.0533 - acc: 0.4734 - val_loss: 1.1225 - val_acc: 0.2917\n",
      "Epoch 26/100\n",
      " - 0s - loss: 1.0253 - acc: 0.4947 - val_loss: 1.1269 - val_acc: 0.2917\n",
      "Epoch 27/100\n",
      " - 0s - loss: 0.9613 - acc: 0.5798 - val_loss: 1.1301 - val_acc: 0.2708\n",
      "Epoch 28/100\n",
      " - 0s - loss: 0.9605 - acc: 0.5585 - val_loss: 1.1128 - val_acc: 0.2500\n",
      "Epoch 29/100\n",
      " - 0s - loss: 1.0087 - acc: 0.4840 - val_loss: 1.0975 - val_acc: 0.2917\n",
      "Epoch 30/100\n",
      " - 0s - loss: 0.9394 - acc: 0.5532 - val_loss: 1.0924 - val_acc: 0.2917\n",
      "Epoch 31/100\n",
      " - 0s - loss: 0.9513 - acc: 0.5000 - val_loss: 1.0940 - val_acc: 0.2917\n",
      "Epoch 32/100\n",
      " - 0s - loss: 1.0310 - acc: 0.5266 - val_loss: 1.0896 - val_acc: 0.2917\n",
      "Epoch 33/100\n",
      " - 0s - loss: 1.0014 - acc: 0.5160 - val_loss: 1.0871 - val_acc: 0.3125\n",
      "Epoch 34/100\n",
      " - 0s - loss: 0.9289 - acc: 0.5160 - val_loss: 1.0861 - val_acc: 0.2917\n",
      "Epoch 35/100\n",
      " - 0s - loss: 0.9990 - acc: 0.4681 - val_loss: 1.0865 - val_acc: 0.2500\n",
      "Epoch 36/100\n",
      " - 0s - loss: 1.0080 - acc: 0.4521 - val_loss: 1.0762 - val_acc: 0.2708\n",
      "Epoch 37/100\n",
      " - 0s - loss: 0.9947 - acc: 0.4840 - val_loss: 1.0732 - val_acc: 0.2708\n",
      "Epoch 38/100\n",
      " - 0s - loss: 0.9483 - acc: 0.5266 - val_loss: 1.0785 - val_acc: 0.2500\n",
      "Epoch 39/100\n",
      " - 0s - loss: 0.9770 - acc: 0.4468 - val_loss: 1.0969 - val_acc: 0.2500\n",
      "Epoch 40/100\n",
      " - 0s - loss: 1.0216 - acc: 0.4734 - val_loss: 1.0863 - val_acc: 0.2708\n",
      "Epoch 41/100\n",
      " - 0s - loss: 0.9181 - acc: 0.5798 - val_loss: 1.0902 - val_acc: 0.2708\n",
      "Epoch 42/100\n",
      " - 0s - loss: 1.0151 - acc: 0.4894 - val_loss: 1.0855 - val_acc: 0.2500\n",
      "Epoch 43/100\n",
      " - 0s - loss: 0.9100 - acc: 0.5904 - val_loss: 1.0890 - val_acc: 0.2500\n",
      "Epoch 44/100\n",
      " - 0s - loss: 0.9753 - acc: 0.5372 - val_loss: 1.0826 - val_acc: 0.2292\n",
      "Epoch 45/100\n",
      " - 0s - loss: 0.9283 - acc: 0.5585 - val_loss: 1.0966 - val_acc: 0.2083\n",
      "Epoch 46/100\n",
      " - 0s - loss: 0.9491 - acc: 0.5213 - val_loss: 1.1076 - val_acc: 0.2292\n",
      "Epoch 47/100\n",
      " - 0s - loss: 0.9318 - acc: 0.5638 - val_loss: 1.1170 - val_acc: 0.2083\n",
      "Epoch 48/100\n",
      " - 0s - loss: 0.9498 - acc: 0.5266 - val_loss: 1.1239 - val_acc: 0.1875\n",
      "Epoch 49/100\n",
      " - 0s - loss: 0.8984 - acc: 0.6064 - val_loss: 1.1376 - val_acc: 0.1875\n",
      "Epoch 50/100\n",
      " - 0s - loss: 0.9157 - acc: 0.6117 - val_loss: 1.1438 - val_acc: 0.2292\n",
      "Epoch 51/100\n",
      " - 0s - loss: 0.9486 - acc: 0.5213 - val_loss: 1.1428 - val_acc: 0.2083\n",
      "Epoch 52/100\n",
      " - 0s - loss: 0.9856 - acc: 0.4947 - val_loss: 1.1160 - val_acc: 0.2083\n",
      "Epoch 53/100\n",
      " - 0s - loss: 0.9933 - acc: 0.4681 - val_loss: 1.1075 - val_acc: 0.2500\n",
      "Epoch 54/100\n",
      " - 0s - loss: 0.9354 - acc: 0.5372 - val_loss: 1.1149 - val_acc: 0.1875\n",
      "Epoch 55/100\n",
      " - 0s - loss: 0.9129 - acc: 0.5691 - val_loss: 1.1046 - val_acc: 0.1875\n",
      "Epoch 56/100\n",
      " - 0s - loss: 0.8546 - acc: 0.6277 - val_loss: 1.0708 - val_acc: 0.2292\n",
      "Epoch 57/100\n",
      " - 0s - loss: 0.9186 - acc: 0.5638 - val_loss: 1.0747 - val_acc: 0.2083\n",
      "Epoch 58/100\n",
      " - 0s - loss: 0.9276 - acc: 0.5213 - val_loss: 1.0721 - val_acc: 0.2292\n",
      "Epoch 59/100\n",
      " - 0s - loss: 0.9620 - acc: 0.5160 - val_loss: 1.0682 - val_acc: 0.2292\n",
      "Epoch 60/100\n",
      " - 0s - loss: 0.9121 - acc: 0.5798 - val_loss: 1.0594 - val_acc: 0.2500\n",
      "Epoch 61/100\n",
      " - 0s - loss: 0.9186 - acc: 0.5798 - val_loss: 1.0589 - val_acc: 0.3333\n",
      "Epoch 62/100\n",
      " - 0s - loss: 0.9066 - acc: 0.5745 - val_loss: 1.0751 - val_acc: 0.3125\n",
      "Epoch 63/100\n",
      " - 0s - loss: 0.9419 - acc: 0.5745 - val_loss: 1.0839 - val_acc: 0.3125\n",
      "Epoch 64/100\n",
      " - 0s - loss: 0.9099 - acc: 0.5213 - val_loss: 1.0871 - val_acc: 0.2500\n",
      "Epoch 65/100\n",
      " - 0s - loss: 0.9413 - acc: 0.5851 - val_loss: 1.0938 - val_acc: 0.2917\n",
      "Epoch 66/100\n",
      " - 0s - loss: 0.9214 - acc: 0.5691 - val_loss: 1.0848 - val_acc: 0.3333\n",
      "Epoch 67/100\n",
      " - 0s - loss: 0.8700 - acc: 0.5851 - val_loss: 1.0931 - val_acc: 0.2917\n",
      "Epoch 68/100\n",
      " - 0s - loss: 0.9361 - acc: 0.5851 - val_loss: 1.1013 - val_acc: 0.2917\n",
      "Epoch 69/100\n",
      " - 0s - loss: 0.9307 - acc: 0.5426 - val_loss: 1.0994 - val_acc: 0.3333\n",
      "Epoch 70/100\n",
      " - 0s - loss: 0.9145 - acc: 0.5798 - val_loss: 1.0864 - val_acc: 0.3333\n",
      "Epoch 71/100\n",
      " - 0s - loss: 0.9160 - acc: 0.5745 - val_loss: 1.0669 - val_acc: 0.2917\n",
      "Epoch 72/100\n",
      " - 0s - loss: 0.8857 - acc: 0.5691 - val_loss: 1.0320 - val_acc: 0.3333\n",
      "Epoch 73/100\n",
      " - 0s - loss: 0.9525 - acc: 0.5266 - val_loss: 1.0424 - val_acc: 0.3542\n",
      "Epoch 74/100\n",
      " - 0s - loss: 0.8599 - acc: 0.5798 - val_loss: 1.0555 - val_acc: 0.2708\n",
      "Epoch 75/100\n",
      " - 0s - loss: 0.8665 - acc: 0.6170 - val_loss: 1.0663 - val_acc: 0.2917\n",
      "Epoch 76/100\n",
      " - 0s - loss: 0.8942 - acc: 0.5532 - val_loss: 1.0831 - val_acc: 0.2500\n",
      "Epoch 77/100\n",
      " - 0s - loss: 0.9075 - acc: 0.6064 - val_loss: 1.0855 - val_acc: 0.2917\n",
      "Epoch 78/100\n",
      " - 0s - loss: 0.8837 - acc: 0.6011 - val_loss: 1.0845 - val_acc: 0.2917\n",
      "Epoch 79/100\n",
      " - 0s - loss: 0.8661 - acc: 0.5904 - val_loss: 1.0866 - val_acc: 0.3750\n",
      "Epoch 80/100\n",
      " - 0s - loss: 0.8457 - acc: 0.5851 - val_loss: 1.0907 - val_acc: 0.3542\n",
      "Epoch 81/100\n",
      " - 0s - loss: 0.8550 - acc: 0.6170 - val_loss: 1.1065 - val_acc: 0.3542\n",
      "Epoch 82/100\n",
      " - 0s - loss: 0.8557 - acc: 0.5638 - val_loss: 1.1388 - val_acc: 0.3125\n",
      "Epoch 83/100\n",
      " - 0s - loss: 0.8872 - acc: 0.5904 - val_loss: 1.1537 - val_acc: 0.2917\n",
      "Epoch 84/100\n",
      " - 0s - loss: 0.9177 - acc: 0.5479 - val_loss: 1.1405 - val_acc: 0.3333\n",
      "Epoch 85/100\n",
      " - 0s - loss: 0.9117 - acc: 0.6117 - val_loss: 1.1161 - val_acc: 0.3333\n",
      "Epoch 86/100\n",
      " - 0s - loss: 0.8083 - acc: 0.6117 - val_loss: 1.1167 - val_acc: 0.3333\n",
      "Epoch 87/100\n",
      " - 0s - loss: 0.8947 - acc: 0.5957 - val_loss: 1.1107 - val_acc: 0.2708\n",
      "Epoch 88/100\n",
      " - 0s - loss: 0.9320 - acc: 0.5638 - val_loss: 1.1042 - val_acc: 0.2708\n",
      "Epoch 89/100\n",
      " - 0s - loss: 0.8277 - acc: 0.6064 - val_loss: 1.0833 - val_acc: 0.2917\n",
      "Epoch 90/100\n",
      " - 0s - loss: 0.9025 - acc: 0.5426 - val_loss: 1.0955 - val_acc: 0.2708\n",
      "Epoch 91/100\n",
      " - 0s - loss: 0.8601 - acc: 0.6489 - val_loss: 1.0990 - val_acc: 0.3125\n",
      "Epoch 92/100\n",
      " - 0s - loss: 0.8110 - acc: 0.6436 - val_loss: 1.0966 - val_acc: 0.3125\n",
      "Epoch 93/100\n",
      " - 0s - loss: 0.8347 - acc: 0.6117 - val_loss: 1.0897 - val_acc: 0.3125\n",
      "Epoch 94/100\n",
      " - 0s - loss: 0.8943 - acc: 0.5957 - val_loss: 1.0720 - val_acc: 0.3125\n",
      "Epoch 95/100\n",
      " - 0s - loss: 0.8154 - acc: 0.6277 - val_loss: 1.0698 - val_acc: 0.2917\n",
      "Epoch 96/100\n",
      " - 0s - loss: 0.8580 - acc: 0.5691 - val_loss: 1.0718 - val_acc: 0.2917\n"
     ]
    },
    {
     "name": "stdout",
     "output_type": "stream",
     "text": [
      "Epoch 97/100\n",
      " - 0s - loss: 0.8599 - acc: 0.5957 - val_loss: 1.0667 - val_acc: 0.3542\n",
      "Epoch 98/100\n",
      " - 0s - loss: 0.8089 - acc: 0.6330 - val_loss: 1.0787 - val_acc: 0.3542\n",
      "Epoch 99/100\n",
      " - 0s - loss: 0.8141 - acc: 0.6277 - val_loss: 1.0897 - val_acc: 0.3542\n",
      "Epoch 100/100\n",
      " - 0s - loss: 0.8174 - acc: 0.6117 - val_loss: 1.1027 - val_acc: 0.3125\n"
     ]
    },
    {
     "data": {
      "text/plain": [
       "<keras.callbacks.History at 0x134ea5c50>"
      ]
     },
     "execution_count": 209,
     "metadata": {},
     "output_type": "execute_result"
    }
   ],
   "source": [
    "model_2.fit(psd_band_train_norm, labels_band_train, batch_size = 16, epochs = 100, verbose = 2, validation_split = 0.2)"
   ]
  },
  {
   "cell_type": "code",
   "execution_count": 210,
   "metadata": {},
   "outputs": [
    {
     "name": "stdout",
     "output_type": "stream",
     "text": [
      "59/59 [==============================] - 0s 135us/step\n"
     ]
    },
    {
     "data": {
      "text/plain": [
       "[0.9550503997479455, 0.5084745777865588]"
      ]
     },
     "execution_count": 210,
     "metadata": {},
     "output_type": "execute_result"
    }
   ],
   "source": [
    "model_2.evaluate(psd_band_test_norm, labels_band_test)"
   ]
  },
  {
   "cell_type": "code",
   "execution_count": 165,
   "metadata": {},
   "outputs": [],
   "source": [
    "from sklearn.svm import SVC"
   ]
  },
  {
   "cell_type": "code",
   "execution_count": 166,
   "metadata": {},
   "outputs": [
    {
     "data": {
      "text/plain": [
       "SVC(C=1.0, cache_size=200, class_weight=None, coef0=0.0,\n",
       "    decision_function_shape='ovr', degree=3, gamma='auto_deprecated',\n",
       "    kernel='linear', max_iter=-1, probability=False, random_state=None,\n",
       "    shrinking=True, tol=0.001, verbose=False)"
      ]
     },
     "execution_count": 166,
     "metadata": {},
     "output_type": "execute_result"
    }
   ],
   "source": [
    "svm_model = SVC(kernel = 'linear')\n",
    "\n",
    "svm_model.fit(psd_train_norm.reshape((n_ep_train, n_ch*n_f)), labels_train.argmax(1))"
   ]
  },
  {
   "cell_type": "code",
   "execution_count": 167,
   "metadata": {},
   "outputs": [
    {
     "data": {
      "text/plain": [
       "array([0, 1, 2, 1, 2, 2, 2, 0, 2, 1, 0, 2, 1, 0, 2, 2, 1, 1, 2, 2, 2, 2,\n",
       "       2, 2, 2, 1, 2, 1, 0, 0, 2, 2, 0, 2, 2, 0, 1, 1, 0, 2, 2, 2, 1, 2,\n",
       "       2, 2, 2, 2, 1, 2, 0, 1, 2, 1, 0, 2, 2, 2, 1])"
      ]
     },
     "execution_count": 167,
     "metadata": {},
     "output_type": "execute_result"
    }
   ],
   "source": [
    "svm_model.predict(psd_test_norm.reshape(n_ep_test, n_ch*n_f))"
   ]
  },
  {
   "cell_type": "code",
   "execution_count": 168,
   "metadata": {},
   "outputs": [
    {
     "data": {
      "text/plain": [
       "0.3898305084745763"
      ]
     },
     "execution_count": 168,
     "metadata": {},
     "output_type": "execute_result"
    }
   ],
   "source": [
    "svm_model.score(psd_test_norm.reshape(n_ep_test, n_ch*n_f), labels_test.argmax(1))"
   ]
  },
  {
   "cell_type": "code",
   "execution_count": 169,
   "metadata": {},
   "outputs": [
    {
     "data": {
      "text/plain": [
       "SVC(C=1.0, cache_size=200, class_weight=None, coef0=0.0,\n",
       "    decision_function_shape='ovr', degree=3, gamma='scale', kernel='linear',\n",
       "    max_iter=-1, probability=False, random_state=None, shrinking=True,\n",
       "    tol=0.001, verbose=False)"
      ]
     },
     "execution_count": 169,
     "metadata": {},
     "output_type": "execute_result"
    }
   ],
   "source": [
    "svm_model_2 = SVC(kernel = 'linear', gamma = 'scale')\n",
    "\n",
    "svm_model_2.fit(psd_band_train_norm.reshape(n_ep_band_train, n_band_ch*n_band_f), labels_band_train.argmax(1))"
   ]
  },
  {
   "cell_type": "code",
   "execution_count": 171,
   "metadata": {},
   "outputs": [
    {
     "data": {
      "text/plain": [
       "0.3898305084745763"
      ]
     },
     "execution_count": 171,
     "metadata": {},
     "output_type": "execute_result"
    }
   ],
   "source": [
    "svm_model_2.score(psd_band_test_norm.reshape(n_ep_band_test, n_band_ch*n_band_f), labels_band_test.argmax(1))"
   ]
  },
  {
   "cell_type": "code",
   "execution_count": 172,
   "metadata": {},
   "outputs": [
    {
     "data": {
      "text/plain": [
       "array([2, 2, 2, 0, 0, 1, 2, 2, 1, 1, 1, 1, 1, 2, 1, 2, 0, 2, 2, 2, 2, 2,\n",
       "       2, 1, 2, 0, 2, 1, 2, 0, 2, 0, 2, 0, 0, 2, 1, 1, 1, 2, 1, 2, 2, 2,\n",
       "       2, 0, 2, 0, 2, 2, 2, 0, 2, 1, 1, 2, 2, 2, 2])"
      ]
     },
     "execution_count": 172,
     "metadata": {},
     "output_type": "execute_result"
    }
   ],
   "source": [
    "svm_model_2.predict(psd_band_test_norm.reshape(n_ep_band_test, n_band_ch*n_band_f))"
   ]
  },
  {
   "cell_type": "code",
   "execution_count": 173,
   "metadata": {},
   "outputs": [
    {
     "name": "stdout",
     "output_type": "stream",
     "text": [
      "0:\tlearn: 1.0953605\ttotal: 331ms\tremaining: 5m 30s\n",
      "1:\tlearn: 1.0934004\ttotal: 706ms\tremaining: 5m 52s\n",
      "2:\tlearn: 1.0904853\ttotal: 1.04s\tremaining: 5m 45s\n",
      "3:\tlearn: 1.0882272\ttotal: 1.38s\tremaining: 5m 42s\n",
      "4:\tlearn: 1.0855868\ttotal: 2.2s\tremaining: 7m 17s\n",
      "5:\tlearn: 1.0813034\ttotal: 3.23s\tremaining: 8m 54s\n",
      "6:\tlearn: 1.0778831\ttotal: 3.71s\tremaining: 8m 45s\n",
      "7:\tlearn: 1.0742647\ttotal: 4.09s\tremaining: 8m 27s\n",
      "8:\tlearn: 1.0708795\ttotal: 4.42s\tremaining: 8m 7s\n",
      "9:\tlearn: 1.0679321\ttotal: 4.83s\tremaining: 7m 58s\n",
      "10:\tlearn: 1.0642502\ttotal: 5.17s\tremaining: 7m 44s\n",
      "11:\tlearn: 1.0605446\ttotal: 5.47s\tremaining: 7m 30s\n",
      "12:\tlearn: 1.0569021\ttotal: 5.77s\tremaining: 7m 18s\n",
      "13:\tlearn: 1.0542204\ttotal: 6.1s\tremaining: 7m 9s\n",
      "14:\tlearn: 1.0504250\ttotal: 6.41s\tremaining: 7m\n",
      "15:\tlearn: 1.0474279\ttotal: 6.71s\tremaining: 6m 52s\n",
      "16:\tlearn: 1.0448586\ttotal: 7.04s\tremaining: 6m 47s\n",
      "17:\tlearn: 1.0433427\ttotal: 7.35s\tremaining: 6m 41s\n",
      "18:\tlearn: 1.0413037\ttotal: 7.65s\tremaining: 6m 34s\n",
      "19:\tlearn: 1.0377722\ttotal: 7.98s\tremaining: 6m 31s\n",
      "20:\tlearn: 1.0355222\ttotal: 8.3s\tremaining: 6m 27s\n",
      "21:\tlearn: 1.0325204\ttotal: 8.62s\tremaining: 6m 23s\n",
      "22:\tlearn: 1.0292912\ttotal: 8.95s\tremaining: 6m 20s\n",
      "23:\tlearn: 1.0274885\ttotal: 9.27s\tremaining: 6m 16s\n",
      "24:\tlearn: 1.0254480\ttotal: 9.56s\tremaining: 6m 13s\n",
      "25:\tlearn: 1.0225784\ttotal: 9.87s\tremaining: 6m 9s\n",
      "26:\tlearn: 1.0198637\ttotal: 10.2s\tremaining: 6m 7s\n",
      "27:\tlearn: 1.0170647\ttotal: 10.5s\tremaining: 6m 4s\n",
      "28:\tlearn: 1.0149238\ttotal: 10.8s\tremaining: 6m 1s\n",
      "29:\tlearn: 1.0116869\ttotal: 11.1s\tremaining: 6m\n",
      "30:\tlearn: 1.0085634\ttotal: 11.4s\tremaining: 5m 57s\n",
      "31:\tlearn: 1.0060356\ttotal: 11.8s\tremaining: 5m 55s\n",
      "32:\tlearn: 1.0039355\ttotal: 12.1s\tremaining: 5m 54s\n",
      "33:\tlearn: 0.9995348\ttotal: 12.4s\tremaining: 5m 52s\n",
      "34:\tlearn: 0.9964374\ttotal: 12.9s\tremaining: 5m 54s\n",
      "35:\tlearn: 0.9943216\ttotal: 13.2s\tremaining: 5m 54s\n",
      "36:\tlearn: 0.9908307\ttotal: 13.6s\tremaining: 5m 53s\n",
      "37:\tlearn: 0.9879279\ttotal: 13.9s\tremaining: 5m 52s\n",
      "38:\tlearn: 0.9863980\ttotal: 14.2s\tremaining: 5m 50s\n",
      "39:\tlearn: 0.9841430\ttotal: 14.5s\tremaining: 5m 48s\n",
      "40:\tlearn: 0.9820864\ttotal: 14.8s\tremaining: 5m 46s\n",
      "41:\tlearn: 0.9786344\ttotal: 15.2s\tremaining: 5m 45s\n",
      "42:\tlearn: 0.9743248\ttotal: 15.5s\tremaining: 5m 44s\n",
      "43:\tlearn: 0.9721756\ttotal: 15.8s\tremaining: 5m 43s\n",
      "44:\tlearn: 0.9698425\ttotal: 16.1s\tremaining: 5m 42s\n",
      "45:\tlearn: 0.9676761\ttotal: 16.4s\tremaining: 5m 40s\n",
      "46:\tlearn: 0.9643671\ttotal: 16.7s\tremaining: 5m 39s\n",
      "47:\tlearn: 0.9622748\ttotal: 17.1s\tremaining: 5m 38s\n",
      "48:\tlearn: 0.9593506\ttotal: 17.4s\tremaining: 5m 37s\n",
      "49:\tlearn: 0.9568366\ttotal: 17.7s\tremaining: 5m 37s\n",
      "50:\tlearn: 0.9538269\ttotal: 18.1s\tremaining: 5m 36s\n",
      "51:\tlearn: 0.9515096\ttotal: 18.4s\tremaining: 5m 35s\n",
      "52:\tlearn: 0.9494667\ttotal: 18.7s\tremaining: 5m 34s\n",
      "53:\tlearn: 0.9462474\ttotal: 19.1s\tremaining: 5m 34s\n",
      "54:\tlearn: 0.9431584\ttotal: 19.4s\tremaining: 5m 33s\n",
      "55:\tlearn: 0.9405671\ttotal: 19.7s\tremaining: 5m 32s\n",
      "56:\tlearn: 0.9399484\ttotal: 20s\tremaining: 5m 31s\n",
      "57:\tlearn: 0.9375384\ttotal: 20.3s\tremaining: 5m 30s\n",
      "58:\tlearn: 0.9358016\ttotal: 20.6s\tremaining: 5m 29s\n",
      "59:\tlearn: 0.9333279\ttotal: 21s\tremaining: 5m 28s\n",
      "60:\tlearn: 0.9308964\ttotal: 21.3s\tremaining: 5m 27s\n",
      "61:\tlearn: 0.9292494\ttotal: 21.6s\tremaining: 5m 26s\n",
      "62:\tlearn: 0.9273425\ttotal: 21.9s\tremaining: 5m 25s\n",
      "63:\tlearn: 0.9246782\ttotal: 22.2s\tremaining: 5m 24s\n",
      "64:\tlearn: 0.9215102\ttotal: 22.5s\tremaining: 5m 23s\n",
      "65:\tlearn: 0.9192966\ttotal: 22.8s\tremaining: 5m 22s\n",
      "66:\tlearn: 0.9176047\ttotal: 23.1s\tremaining: 5m 22s\n",
      "67:\tlearn: 0.9155055\ttotal: 23.5s\tremaining: 5m 21s\n",
      "68:\tlearn: 0.9130933\ttotal: 23.8s\tremaining: 5m 20s\n",
      "69:\tlearn: 0.9114292\ttotal: 24.1s\tremaining: 5m 19s\n",
      "70:\tlearn: 0.9102378\ttotal: 24.5s\tremaining: 5m 19s\n",
      "71:\tlearn: 0.9082473\ttotal: 24.8s\tremaining: 5m 19s\n",
      "72:\tlearn: 0.9055521\ttotal: 25.1s\tremaining: 5m 19s\n",
      "73:\tlearn: 0.9037090\ttotal: 25.4s\tremaining: 5m 18s\n",
      "74:\tlearn: 0.9016214\ttotal: 25.7s\tremaining: 5m 17s\n",
      "75:\tlearn: 0.8994722\ttotal: 26s\tremaining: 5m 16s\n",
      "76:\tlearn: 0.8976067\ttotal: 26.3s\tremaining: 5m 15s\n",
      "77:\tlearn: 0.8952687\ttotal: 26.6s\tremaining: 5m 14s\n",
      "78:\tlearn: 0.8931098\ttotal: 27s\tremaining: 5m 14s\n",
      "79:\tlearn: 0.8916102\ttotal: 27.3s\tremaining: 5m 13s\n",
      "80:\tlearn: 0.8894239\ttotal: 27.6s\tremaining: 5m 12s\n",
      "81:\tlearn: 0.8866842\ttotal: 27.9s\tremaining: 5m 12s\n",
      "82:\tlearn: 0.8848866\ttotal: 28.2s\tremaining: 5m 11s\n",
      "83:\tlearn: 0.8837101\ttotal: 28.5s\tremaining: 5m 11s\n",
      "84:\tlearn: 0.8825157\ttotal: 28.8s\tremaining: 5m 10s\n",
      "85:\tlearn: 0.8794206\ttotal: 29.2s\tremaining: 5m 10s\n",
      "86:\tlearn: 0.8772291\ttotal: 29.5s\tremaining: 5m 9s\n",
      "87:\tlearn: 0.8752002\ttotal: 29.8s\tremaining: 5m 8s\n",
      "88:\tlearn: 0.8742630\ttotal: 30.1s\tremaining: 5m 8s\n",
      "89:\tlearn: 0.8725365\ttotal: 30.4s\tremaining: 5m 7s\n",
      "90:\tlearn: 0.8712593\ttotal: 30.7s\tremaining: 5m 6s\n",
      "91:\tlearn: 0.8691568\ttotal: 31s\tremaining: 5m 6s\n",
      "92:\tlearn: 0.8677190\ttotal: 31.3s\tremaining: 5m 5s\n",
      "93:\tlearn: 0.8651335\ttotal: 31.6s\tremaining: 5m 4s\n",
      "94:\tlearn: 0.8617004\ttotal: 32s\tremaining: 5m 4s\n",
      "95:\tlearn: 0.8589899\ttotal: 32.3s\tremaining: 5m 3s\n",
      "96:\tlearn: 0.8578230\ttotal: 32.6s\tremaining: 5m 3s\n",
      "97:\tlearn: 0.8550202\ttotal: 32.9s\tremaining: 5m 2s\n",
      "98:\tlearn: 0.8537468\ttotal: 33.2s\tremaining: 5m 2s\n",
      "99:\tlearn: 0.8519813\ttotal: 33.5s\tremaining: 5m 1s\n",
      "100:\tlearn: 0.8498643\ttotal: 33.8s\tremaining: 5m 1s\n",
      "101:\tlearn: 0.8480139\ttotal: 34.1s\tremaining: 5m\n",
      "102:\tlearn: 0.8465873\ttotal: 34.4s\tremaining: 4m 59s\n",
      "103:\tlearn: 0.8453009\ttotal: 34.8s\tremaining: 4m 59s\n",
      "104:\tlearn: 0.8427078\ttotal: 35.1s\tremaining: 4m 58s\n",
      "105:\tlearn: 0.8402894\ttotal: 35.4s\tremaining: 4m 58s\n",
      "106:\tlearn: 0.8380958\ttotal: 35.7s\tremaining: 4m 57s\n",
      "107:\tlearn: 0.8362919\ttotal: 36s\tremaining: 4m 57s\n",
      "108:\tlearn: 0.8348170\ttotal: 36.3s\tremaining: 4m 56s\n",
      "109:\tlearn: 0.8330896\ttotal: 36.6s\tremaining: 4m 56s\n",
      "110:\tlearn: 0.8313597\ttotal: 37s\tremaining: 4m 56s\n",
      "111:\tlearn: 0.8292687\ttotal: 37.3s\tremaining: 4m 55s\n",
      "112:\tlearn: 0.8279989\ttotal: 37.6s\tremaining: 4m 55s\n",
      "113:\tlearn: 0.8253435\ttotal: 38s\tremaining: 4m 55s\n",
      "114:\tlearn: 0.8237809\ttotal: 38.3s\tremaining: 4m 54s\n",
      "115:\tlearn: 0.8216702\ttotal: 38.6s\tremaining: 4m 54s\n",
      "116:\tlearn: 0.8198150\ttotal: 39s\tremaining: 4m 54s\n",
      "117:\tlearn: 0.8171540\ttotal: 39.3s\tremaining: 4m 53s\n",
      "118:\tlearn: 0.8157188\ttotal: 39.6s\tremaining: 4m 53s\n",
      "119:\tlearn: 0.8138414\ttotal: 39.9s\tremaining: 4m 52s\n",
      "120:\tlearn: 0.8123084\ttotal: 40.3s\tremaining: 4m 52s\n",
      "121:\tlearn: 0.8106495\ttotal: 40.6s\tremaining: 4m 51s\n",
      "122:\tlearn: 0.8089061\ttotal: 40.9s\tremaining: 4m 51s\n",
      "123:\tlearn: 0.8078541\ttotal: 41.2s\tremaining: 4m 51s\n",
      "124:\tlearn: 0.8067764\ttotal: 41.5s\tremaining: 4m 50s\n",
      "125:\tlearn: 0.8043545\ttotal: 41.8s\tremaining: 4m 50s\n",
      "126:\tlearn: 0.8021194\ttotal: 42.2s\tremaining: 4m 49s\n",
      "127:\tlearn: 0.8007653\ttotal: 42.5s\tremaining: 4m 49s\n",
      "128:\tlearn: 0.7988527\ttotal: 43s\tremaining: 4m 50s\n",
      "129:\tlearn: 0.7977683\ttotal: 43.5s\tremaining: 4m 51s\n",
      "130:\tlearn: 0.7962477\ttotal: 44.1s\tremaining: 4m 52s\n",
      "131:\tlearn: 0.7943599\ttotal: 44.5s\tremaining: 4m 52s\n",
      "132:\tlearn: 0.7923055\ttotal: 44.8s\tremaining: 4m 52s\n",
      "133:\tlearn: 0.7901032\ttotal: 45.2s\tremaining: 4m 51s\n",
      "134:\tlearn: 0.7893090\ttotal: 45.5s\tremaining: 4m 51s\n",
      "135:\tlearn: 0.7882139\ttotal: 45.8s\tremaining: 4m 50s\n",
      "136:\tlearn: 0.7864196\ttotal: 46.1s\tremaining: 4m 50s\n",
      "137:\tlearn: 0.7857766\ttotal: 46.4s\tremaining: 4m 49s\n",
      "138:\tlearn: 0.7846966\ttotal: 46.7s\tremaining: 4m 49s\n",
      "139:\tlearn: 0.7831587\ttotal: 47s\tremaining: 4m 48s\n",
      "140:\tlearn: 0.7808682\ttotal: 47.3s\tremaining: 4m 48s\n",
      "141:\tlearn: 0.7794177\ttotal: 47.7s\tremaining: 4m 48s\n",
      "142:\tlearn: 0.7780923\ttotal: 48s\tremaining: 4m 47s\n",
      "143:\tlearn: 0.7765226\ttotal: 48.3s\tremaining: 4m 47s\n",
      "144:\tlearn: 0.7750362\ttotal: 48.7s\tremaining: 4m 47s\n",
      "145:\tlearn: 0.7733885\ttotal: 49.1s\tremaining: 4m 47s\n",
      "146:\tlearn: 0.7716794\ttotal: 49.4s\tremaining: 4m 46s\n",
      "147:\tlearn: 0.7702808\ttotal: 49.7s\tremaining: 4m 46s\n",
      "148:\tlearn: 0.7684568\ttotal: 50s\tremaining: 4m 45s\n",
      "149:\tlearn: 0.7668056\ttotal: 50.3s\tremaining: 4m 45s\n",
      "150:\tlearn: 0.7662446\ttotal: 50.6s\tremaining: 4m 44s\n",
      "151:\tlearn: 0.7654575\ttotal: 51s\tremaining: 4m 44s\n",
      "152:\tlearn: 0.7636033\ttotal: 51.3s\tremaining: 4m 44s\n",
      "153:\tlearn: 0.7620909\ttotal: 51.6s\tremaining: 4m 43s\n",
      "154:\tlearn: 0.7610246\ttotal: 51.9s\tremaining: 4m 43s\n",
      "155:\tlearn: 0.7585493\ttotal: 52.2s\tremaining: 4m 42s\n",
      "156:\tlearn: 0.7574913\ttotal: 52.5s\tremaining: 4m 42s\n",
      "157:\tlearn: 0.7566794\ttotal: 52.9s\tremaining: 4m 41s\n"
     ]
    },
    {
     "name": "stdout",
     "output_type": "stream",
     "text": [
      "158:\tlearn: 0.7553264\ttotal: 53.2s\tremaining: 4m 41s\n",
      "159:\tlearn: 0.7538636\ttotal: 53.5s\tremaining: 4m 41s\n",
      "160:\tlearn: 0.7526823\ttotal: 54s\tremaining: 4m 41s\n",
      "161:\tlearn: 0.7514615\ttotal: 54.3s\tremaining: 4m 40s\n",
      "162:\tlearn: 0.7498641\ttotal: 54.6s\tremaining: 4m 40s\n",
      "163:\tlearn: 0.7483009\ttotal: 54.9s\tremaining: 4m 40s\n",
      "164:\tlearn: 0.7468765\ttotal: 55.2s\tremaining: 4m 39s\n",
      "165:\tlearn: 0.7453681\ttotal: 55.5s\tremaining: 4m 38s\n",
      "166:\tlearn: 0.7432677\ttotal: 55.9s\tremaining: 4m 38s\n",
      "167:\tlearn: 0.7415061\ttotal: 56.2s\tremaining: 4m 38s\n",
      "168:\tlearn: 0.7405599\ttotal: 56.5s\tremaining: 4m 37s\n",
      "169:\tlearn: 0.7386797\ttotal: 56.8s\tremaining: 4m 37s\n",
      "170:\tlearn: 0.7370204\ttotal: 57.1s\tremaining: 4m 36s\n",
      "171:\tlearn: 0.7349315\ttotal: 57.4s\tremaining: 4m 36s\n",
      "172:\tlearn: 0.7333875\ttotal: 57.7s\tremaining: 4m 35s\n",
      "173:\tlearn: 0.7306160\ttotal: 58s\tremaining: 4m 35s\n",
      "174:\tlearn: 0.7292344\ttotal: 58.3s\tremaining: 4m 34s\n",
      "175:\tlearn: 0.7281317\ttotal: 58.6s\tremaining: 4m 34s\n",
      "176:\tlearn: 0.7270047\ttotal: 59s\tremaining: 4m 34s\n",
      "177:\tlearn: 0.7248687\ttotal: 59.3s\tremaining: 4m 33s\n",
      "178:\tlearn: 0.7227987\ttotal: 59.6s\tremaining: 4m 33s\n",
      "179:\tlearn: 0.7216359\ttotal: 59.9s\tremaining: 4m 33s\n",
      "180:\tlearn: 0.7202593\ttotal: 1m\tremaining: 4m 32s\n",
      "181:\tlearn: 0.7191432\ttotal: 1m\tremaining: 4m 32s\n",
      "182:\tlearn: 0.7185500\ttotal: 1m\tremaining: 4m 31s\n",
      "183:\tlearn: 0.7166311\ttotal: 1m 1s\tremaining: 4m 31s\n",
      "184:\tlearn: 0.7154042\ttotal: 1m 1s\tremaining: 4m 31s\n",
      "185:\tlearn: 0.7146238\ttotal: 1m 1s\tremaining: 4m 30s\n",
      "186:\tlearn: 0.7136397\ttotal: 1m 2s\tremaining: 4m 30s\n",
      "187:\tlearn: 0.7124379\ttotal: 1m 2s\tremaining: 4m 30s\n",
      "188:\tlearn: 0.7107494\ttotal: 1m 2s\tremaining: 4m 30s\n",
      "189:\tlearn: 0.7089798\ttotal: 1m 3s\tremaining: 4m 29s\n",
      "190:\tlearn: 0.7078536\ttotal: 1m 3s\tremaining: 4m 29s\n",
      "191:\tlearn: 0.7069765\ttotal: 1m 3s\tremaining: 4m 28s\n",
      "192:\tlearn: 0.7052136\ttotal: 1m 4s\tremaining: 4m 28s\n",
      "193:\tlearn: 0.7037739\ttotal: 1m 4s\tremaining: 4m 28s\n",
      "194:\tlearn: 0.7025237\ttotal: 1m 5s\tremaining: 4m 28s\n",
      "195:\tlearn: 0.7011144\ttotal: 1m 5s\tremaining: 4m 28s\n",
      "196:\tlearn: 0.6993822\ttotal: 1m 5s\tremaining: 4m 28s\n",
      "197:\tlearn: 0.6978838\ttotal: 1m 6s\tremaining: 4m 27s\n",
      "198:\tlearn: 0.6951200\ttotal: 1m 6s\tremaining: 4m 27s\n",
      "199:\tlearn: 0.6936514\ttotal: 1m 6s\tremaining: 4m 27s\n",
      "200:\tlearn: 0.6919317\ttotal: 1m 7s\tremaining: 4m 26s\n",
      "201:\tlearn: 0.6895941\ttotal: 1m 7s\tremaining: 4m 26s\n",
      "202:\tlearn: 0.6869525\ttotal: 1m 7s\tremaining: 4m 25s\n",
      "203:\tlearn: 0.6857007\ttotal: 1m 8s\tremaining: 4m 25s\n",
      "204:\tlearn: 0.6836929\ttotal: 1m 8s\tremaining: 4m 25s\n",
      "205:\tlearn: 0.6823879\ttotal: 1m 8s\tremaining: 4m 24s\n",
      "206:\tlearn: 0.6816358\ttotal: 1m 8s\tremaining: 4m 24s\n",
      "207:\tlearn: 0.6797478\ttotal: 1m 9s\tremaining: 4m 23s\n",
      "208:\tlearn: 0.6782108\ttotal: 1m 9s\tremaining: 4m 23s\n",
      "209:\tlearn: 0.6764576\ttotal: 1m 9s\tremaining: 4m 23s\n",
      "210:\tlearn: 0.6759768\ttotal: 1m 10s\tremaining: 4m 22s\n",
      "211:\tlearn: 0.6746580\ttotal: 1m 10s\tremaining: 4m 22s\n",
      "212:\tlearn: 0.6737644\ttotal: 1m 10s\tremaining: 4m 21s\n",
      "213:\tlearn: 0.6728455\ttotal: 1m 11s\tremaining: 4m 21s\n",
      "214:\tlearn: 0.6717696\ttotal: 1m 11s\tremaining: 4m 20s\n",
      "215:\tlearn: 0.6701390\ttotal: 1m 11s\tremaining: 4m 20s\n",
      "216:\tlearn: 0.6680100\ttotal: 1m 12s\tremaining: 4m 20s\n",
      "217:\tlearn: 0.6665946\ttotal: 1m 12s\tremaining: 4m 19s\n",
      "218:\tlearn: 0.6645577\ttotal: 1m 12s\tremaining: 4m 19s\n",
      "219:\tlearn: 0.6628347\ttotal: 1m 12s\tremaining: 4m 18s\n",
      "220:\tlearn: 0.6609161\ttotal: 1m 13s\tremaining: 4m 18s\n",
      "221:\tlearn: 0.6594905\ttotal: 1m 13s\tremaining: 4m 17s\n",
      "222:\tlearn: 0.6583868\ttotal: 1m 13s\tremaining: 4m 17s\n",
      "223:\tlearn: 0.6556049\ttotal: 1m 14s\tremaining: 4m 17s\n",
      "224:\tlearn: 0.6539431\ttotal: 1m 14s\tremaining: 4m 16s\n",
      "225:\tlearn: 0.6527664\ttotal: 1m 14s\tremaining: 4m 16s\n",
      "226:\tlearn: 0.6517397\ttotal: 1m 15s\tremaining: 4m 15s\n",
      "227:\tlearn: 0.6506480\ttotal: 1m 15s\tremaining: 4m 15s\n",
      "228:\tlearn: 0.6498365\ttotal: 1m 15s\tremaining: 4m 14s\n",
      "229:\tlearn: 0.6476312\ttotal: 1m 16s\tremaining: 4m 14s\n",
      "230:\tlearn: 0.6463936\ttotal: 1m 16s\tremaining: 4m 14s\n",
      "231:\tlearn: 0.6449854\ttotal: 1m 16s\tremaining: 4m 13s\n",
      "232:\tlearn: 0.6433881\ttotal: 1m 16s\tremaining: 4m 13s\n",
      "233:\tlearn: 0.6418512\ttotal: 1m 17s\tremaining: 4m 13s\n",
      "234:\tlearn: 0.6403081\ttotal: 1m 17s\tremaining: 4m 12s\n",
      "235:\tlearn: 0.6387412\ttotal: 1m 17s\tremaining: 4m 12s\n",
      "236:\tlearn: 0.6374807\ttotal: 1m 18s\tremaining: 4m 11s\n",
      "237:\tlearn: 0.6363145\ttotal: 1m 18s\tremaining: 4m 11s\n",
      "238:\tlearn: 0.6350929\ttotal: 1m 18s\tremaining: 4m 11s\n",
      "239:\tlearn: 0.6335685\ttotal: 1m 19s\tremaining: 4m 10s\n",
      "240:\tlearn: 0.6322616\ttotal: 1m 19s\tremaining: 4m 10s\n",
      "241:\tlearn: 0.6305296\ttotal: 1m 19s\tremaining: 4m 9s\n",
      "242:\tlearn: 0.6284379\ttotal: 1m 20s\tremaining: 4m 9s\n",
      "243:\tlearn: 0.6270219\ttotal: 1m 20s\tremaining: 4m 9s\n",
      "244:\tlearn: 0.6260291\ttotal: 1m 20s\tremaining: 4m 8s\n",
      "245:\tlearn: 0.6232399\ttotal: 1m 21s\tremaining: 4m 8s\n",
      "246:\tlearn: 0.6214811\ttotal: 1m 21s\tremaining: 4m 8s\n",
      "247:\tlearn: 0.6203365\ttotal: 1m 22s\tremaining: 4m 9s\n",
      "248:\tlearn: 0.6189844\ttotal: 1m 22s\tremaining: 4m 9s\n",
      "249:\tlearn: 0.6179025\ttotal: 1m 23s\tremaining: 4m 10s\n",
      "250:\tlearn: 0.6161634\ttotal: 1m 23s\tremaining: 4m 9s\n",
      "251:\tlearn: 0.6149926\ttotal: 1m 24s\tremaining: 4m 9s\n",
      "252:\tlearn: 0.6136594\ttotal: 1m 24s\tremaining: 4m 9s\n",
      "253:\tlearn: 0.6122465\ttotal: 1m 24s\tremaining: 4m 9s\n",
      "254:\tlearn: 0.6099101\ttotal: 1m 25s\tremaining: 4m 9s\n",
      "255:\tlearn: 0.6082743\ttotal: 1m 25s\tremaining: 4m 9s\n",
      "256:\tlearn: 0.6064031\ttotal: 1m 26s\tremaining: 4m 9s\n",
      "257:\tlearn: 0.6050966\ttotal: 1m 26s\tremaining: 4m 8s\n",
      "258:\tlearn: 0.6039065\ttotal: 1m 26s\tremaining: 4m 8s\n",
      "259:\tlearn: 0.6025284\ttotal: 1m 27s\tremaining: 4m 8s\n",
      "260:\tlearn: 0.6010443\ttotal: 1m 27s\tremaining: 4m 7s\n",
      "261:\tlearn: 0.5998143\ttotal: 1m 27s\tremaining: 4m 7s\n",
      "262:\tlearn: 0.5988651\ttotal: 1m 28s\tremaining: 4m 7s\n",
      "263:\tlearn: 0.5979278\ttotal: 1m 28s\tremaining: 4m 6s\n",
      "264:\tlearn: 0.5964850\ttotal: 1m 28s\tremaining: 4m 6s\n",
      "265:\tlearn: 0.5952127\ttotal: 1m 29s\tremaining: 4m 6s\n",
      "266:\tlearn: 0.5931555\ttotal: 1m 29s\tremaining: 4m 5s\n",
      "267:\tlearn: 0.5915819\ttotal: 1m 29s\tremaining: 4m 5s\n",
      "268:\tlearn: 0.5900250\ttotal: 1m 30s\tremaining: 4m 5s\n",
      "269:\tlearn: 0.5881169\ttotal: 1m 30s\tremaining: 4m 4s\n",
      "270:\tlearn: 0.5867256\ttotal: 1m 30s\tremaining: 4m 4s\n",
      "271:\tlearn: 0.5851565\ttotal: 1m 31s\tremaining: 4m 3s\n",
      "272:\tlearn: 0.5838205\ttotal: 1m 31s\tremaining: 4m 3s\n",
      "273:\tlearn: 0.5826242\ttotal: 1m 31s\tremaining: 4m 3s\n",
      "274:\tlearn: 0.5810987\ttotal: 1m 32s\tremaining: 4m 2s\n",
      "275:\tlearn: 0.5800171\ttotal: 1m 32s\tremaining: 4m 2s\n",
      "276:\tlearn: 0.5784049\ttotal: 1m 32s\tremaining: 4m 1s\n",
      "277:\tlearn: 0.5767387\ttotal: 1m 33s\tremaining: 4m 1s\n",
      "278:\tlearn: 0.5761393\ttotal: 1m 33s\tremaining: 4m 1s\n",
      "279:\tlearn: 0.5751652\ttotal: 1m 33s\tremaining: 4m\n",
      "280:\tlearn: 0.5735765\ttotal: 1m 33s\tremaining: 4m\n",
      "281:\tlearn: 0.5722277\ttotal: 1m 34s\tremaining: 4m\n",
      "282:\tlearn: 0.5704318\ttotal: 1m 34s\tremaining: 3m 59s\n",
      "283:\tlearn: 0.5689327\ttotal: 1m 34s\tremaining: 3m 59s\n",
      "284:\tlearn: 0.5670327\ttotal: 1m 35s\tremaining: 3m 58s\n",
      "285:\tlearn: 0.5660901\ttotal: 1m 35s\tremaining: 3m 58s\n",
      "286:\tlearn: 0.5649958\ttotal: 1m 35s\tremaining: 3m 58s\n",
      "287:\tlearn: 0.5632801\ttotal: 1m 36s\tremaining: 3m 57s\n",
      "288:\tlearn: 0.5620937\ttotal: 1m 36s\tremaining: 3m 57s\n",
      "289:\tlearn: 0.5607365\ttotal: 1m 36s\tremaining: 3m 56s\n",
      "290:\tlearn: 0.5592381\ttotal: 1m 37s\tremaining: 3m 56s\n",
      "291:\tlearn: 0.5579013\ttotal: 1m 37s\tremaining: 3m 56s\n",
      "292:\tlearn: 0.5567261\ttotal: 1m 37s\tremaining: 3m 55s\n",
      "293:\tlearn: 0.5548988\ttotal: 1m 38s\tremaining: 3m 55s\n",
      "294:\tlearn: 0.5530925\ttotal: 1m 38s\tremaining: 3m 55s\n",
      "295:\tlearn: 0.5516399\ttotal: 1m 38s\tremaining: 3m 54s\n",
      "296:\tlearn: 0.5505081\ttotal: 1m 38s\tremaining: 3m 54s\n",
      "297:\tlearn: 0.5490356\ttotal: 1m 39s\tremaining: 3m 53s\n",
      "298:\tlearn: 0.5475859\ttotal: 1m 39s\tremaining: 3m 53s\n",
      "299:\tlearn: 0.5460309\ttotal: 1m 39s\tremaining: 3m 53s\n",
      "300:\tlearn: 0.5449885\ttotal: 1m 40s\tremaining: 3m 52s\n",
      "301:\tlearn: 0.5443136\ttotal: 1m 40s\tremaining: 3m 52s\n",
      "302:\tlearn: 0.5424162\ttotal: 1m 40s\tremaining: 3m 51s\n",
      "303:\tlearn: 0.5409130\ttotal: 1m 41s\tremaining: 3m 51s\n",
      "304:\tlearn: 0.5396767\ttotal: 1m 41s\tremaining: 3m 51s\n",
      "305:\tlearn: 0.5385355\ttotal: 1m 41s\tremaining: 3m 50s\n",
      "306:\tlearn: 0.5369027\ttotal: 1m 42s\tremaining: 3m 50s\n",
      "307:\tlearn: 0.5352845\ttotal: 1m 42s\tremaining: 3m 50s\n",
      "308:\tlearn: 0.5334853\ttotal: 1m 42s\tremaining: 3m 49s\n",
      "309:\tlearn: 0.5323051\ttotal: 1m 43s\tremaining: 3m 49s\n",
      "310:\tlearn: 0.5306574\ttotal: 1m 43s\tremaining: 3m 48s\n",
      "311:\tlearn: 0.5290720\ttotal: 1m 43s\tremaining: 3m 48s\n"
     ]
    },
    {
     "name": "stdout",
     "output_type": "stream",
     "text": [
      "312:\tlearn: 0.5273984\ttotal: 1m 43s\tremaining: 3m 48s\n",
      "313:\tlearn: 0.5265874\ttotal: 1m 44s\tremaining: 3m 47s\n",
      "314:\tlearn: 0.5255616\ttotal: 1m 44s\tremaining: 3m 47s\n",
      "315:\tlearn: 0.5245922\ttotal: 1m 44s\tremaining: 3m 47s\n",
      "316:\tlearn: 0.5231009\ttotal: 1m 45s\tremaining: 3m 46s\n",
      "317:\tlearn: 0.5219445\ttotal: 1m 45s\tremaining: 3m 46s\n",
      "318:\tlearn: 0.5202829\ttotal: 1m 45s\tremaining: 3m 45s\n",
      "319:\tlearn: 0.5187613\ttotal: 1m 46s\tremaining: 3m 45s\n",
      "320:\tlearn: 0.5180719\ttotal: 1m 46s\tremaining: 3m 45s\n",
      "321:\tlearn: 0.5171312\ttotal: 1m 46s\tremaining: 3m 44s\n",
      "322:\tlearn: 0.5152324\ttotal: 1m 47s\tremaining: 3m 44s\n",
      "323:\tlearn: 0.5135000\ttotal: 1m 47s\tremaining: 3m 44s\n",
      "324:\tlearn: 0.5117004\ttotal: 1m 47s\tremaining: 3m 43s\n",
      "325:\tlearn: 0.5103614\ttotal: 1m 48s\tremaining: 3m 43s\n",
      "326:\tlearn: 0.5092468\ttotal: 1m 48s\tremaining: 3m 42s\n",
      "327:\tlearn: 0.5074779\ttotal: 1m 48s\tremaining: 3m 42s\n",
      "328:\tlearn: 0.5065532\ttotal: 1m 48s\tremaining: 3m 42s\n",
      "329:\tlearn: 0.5055617\ttotal: 1m 49s\tremaining: 3m 41s\n",
      "330:\tlearn: 0.5042075\ttotal: 1m 49s\tremaining: 3m 41s\n",
      "331:\tlearn: 0.5026725\ttotal: 1m 49s\tremaining: 3m 41s\n",
      "332:\tlearn: 0.5013442\ttotal: 1m 50s\tremaining: 3m 40s\n",
      "333:\tlearn: 0.5002380\ttotal: 1m 50s\tremaining: 3m 40s\n",
      "334:\tlearn: 0.4992956\ttotal: 1m 50s\tremaining: 3m 40s\n",
      "335:\tlearn: 0.4982758\ttotal: 1m 51s\tremaining: 3m 39s\n",
      "336:\tlearn: 0.4974320\ttotal: 1m 51s\tremaining: 3m 39s\n",
      "337:\tlearn: 0.4956260\ttotal: 1m 51s\tremaining: 3m 38s\n",
      "338:\tlearn: 0.4946208\ttotal: 1m 52s\tremaining: 3m 38s\n",
      "339:\tlearn: 0.4927086\ttotal: 1m 52s\tremaining: 3m 38s\n",
      "340:\tlearn: 0.4916027\ttotal: 1m 52s\tremaining: 3m 37s\n",
      "341:\tlearn: 0.4909370\ttotal: 1m 52s\tremaining: 3m 37s\n",
      "342:\tlearn: 0.4896903\ttotal: 1m 53s\tremaining: 3m 36s\n",
      "343:\tlearn: 0.4887108\ttotal: 1m 53s\tremaining: 3m 36s\n",
      "344:\tlearn: 0.4875163\ttotal: 1m 53s\tremaining: 3m 36s\n",
      "345:\tlearn: 0.4861659\ttotal: 1m 54s\tremaining: 3m 35s\n",
      "346:\tlearn: 0.4854232\ttotal: 1m 54s\tremaining: 3m 35s\n",
      "347:\tlearn: 0.4846887\ttotal: 1m 54s\tremaining: 3m 35s\n",
      "348:\tlearn: 0.4835751\ttotal: 1m 55s\tremaining: 3m 34s\n",
      "349:\tlearn: 0.4823617\ttotal: 1m 55s\tremaining: 3m 34s\n",
      "350:\tlearn: 0.4817623\ttotal: 1m 55s\tremaining: 3m 33s\n",
      "351:\tlearn: 0.4804989\ttotal: 1m 56s\tremaining: 3m 33s\n",
      "352:\tlearn: 0.4799933\ttotal: 1m 56s\tremaining: 3m 33s\n",
      "353:\tlearn: 0.4790395\ttotal: 1m 56s\tremaining: 3m 33s\n",
      "354:\tlearn: 0.4782583\ttotal: 1m 57s\tremaining: 3m 32s\n",
      "355:\tlearn: 0.4772954\ttotal: 1m 57s\tremaining: 3m 32s\n",
      "356:\tlearn: 0.4761210\ttotal: 1m 57s\tremaining: 3m 31s\n",
      "357:\tlearn: 0.4756511\ttotal: 1m 57s\tremaining: 3m 31s\n",
      "358:\tlearn: 0.4742224\ttotal: 1m 58s\tremaining: 3m 31s\n",
      "359:\tlearn: 0.4735566\ttotal: 1m 58s\tremaining: 3m 30s\n",
      "360:\tlearn: 0.4729771\ttotal: 1m 58s\tremaining: 3m 30s\n",
      "361:\tlearn: 0.4714574\ttotal: 1m 59s\tremaining: 3m 30s\n",
      "362:\tlearn: 0.4707947\ttotal: 1m 59s\tremaining: 3m 29s\n",
      "363:\tlearn: 0.4697872\ttotal: 1m 59s\tremaining: 3m 29s\n",
      "364:\tlearn: 0.4690094\ttotal: 2m\tremaining: 3m 29s\n",
      "365:\tlearn: 0.4673241\ttotal: 2m\tremaining: 3m 28s\n",
      "366:\tlearn: 0.4665548\ttotal: 2m\tremaining: 3m 28s\n",
      "367:\tlearn: 0.4653258\ttotal: 2m 1s\tremaining: 3m 27s\n",
      "368:\tlearn: 0.4641955\ttotal: 2m 1s\tremaining: 3m 27s\n",
      "369:\tlearn: 0.4630386\ttotal: 2m 1s\tremaining: 3m 27s\n",
      "370:\tlearn: 0.4615827\ttotal: 2m 2s\tremaining: 3m 26s\n",
      "371:\tlearn: 0.4602473\ttotal: 2m 2s\tremaining: 3m 27s\n",
      "372:\tlearn: 0.4591334\ttotal: 2m 3s\tremaining: 3m 26s\n",
      "373:\tlearn: 0.4579548\ttotal: 2m 3s\tremaining: 3m 26s\n",
      "374:\tlearn: 0.4570486\ttotal: 2m 3s\tremaining: 3m 26s\n",
      "375:\tlearn: 0.4562510\ttotal: 2m 4s\tremaining: 3m 25s\n",
      "376:\tlearn: 0.4554543\ttotal: 2m 4s\tremaining: 3m 25s\n",
      "377:\tlearn: 0.4539834\ttotal: 2m 4s\tremaining: 3m 25s\n",
      "378:\tlearn: 0.4529968\ttotal: 2m 4s\tremaining: 3m 24s\n",
      "379:\tlearn: 0.4520907\ttotal: 2m 5s\tremaining: 3m 24s\n",
      "380:\tlearn: 0.4506432\ttotal: 2m 5s\tremaining: 3m 23s\n",
      "381:\tlearn: 0.4495029\ttotal: 2m 5s\tremaining: 3m 23s\n",
      "382:\tlearn: 0.4485028\ttotal: 2m 6s\tremaining: 3m 23s\n",
      "383:\tlearn: 0.4478001\ttotal: 2m 6s\tremaining: 3m 22s\n",
      "384:\tlearn: 0.4471436\ttotal: 2m 6s\tremaining: 3m 22s\n",
      "385:\tlearn: 0.4460921\ttotal: 2m 7s\tremaining: 3m 22s\n",
      "386:\tlearn: 0.4454607\ttotal: 2m 7s\tremaining: 3m 21s\n",
      "387:\tlearn: 0.4443643\ttotal: 2m 7s\tremaining: 3m 21s\n",
      "388:\tlearn: 0.4431103\ttotal: 2m 8s\tremaining: 3m 21s\n",
      "389:\tlearn: 0.4421764\ttotal: 2m 8s\tremaining: 3m 20s\n",
      "390:\tlearn: 0.4410104\ttotal: 2m 8s\tremaining: 3m 20s\n",
      "391:\tlearn: 0.4401439\ttotal: 2m 9s\tremaining: 3m 20s\n",
      "392:\tlearn: 0.4389890\ttotal: 2m 9s\tremaining: 3m 19s\n",
      "393:\tlearn: 0.4380317\ttotal: 2m 9s\tremaining: 3m 19s\n",
      "394:\tlearn: 0.4365779\ttotal: 2m 9s\tremaining: 3m 19s\n",
      "395:\tlearn: 0.4358422\ttotal: 2m 10s\tremaining: 3m 18s\n",
      "396:\tlearn: 0.4349096\ttotal: 2m 10s\tremaining: 3m 18s\n",
      "397:\tlearn: 0.4334930\ttotal: 2m 10s\tremaining: 3m 17s\n",
      "398:\tlearn: 0.4322238\ttotal: 2m 11s\tremaining: 3m 17s\n",
      "399:\tlearn: 0.4313354\ttotal: 2m 11s\tremaining: 3m 17s\n",
      "400:\tlearn: 0.4304649\ttotal: 2m 11s\tremaining: 3m 16s\n",
      "401:\tlearn: 0.4293677\ttotal: 2m 12s\tremaining: 3m 16s\n",
      "402:\tlearn: 0.4285405\ttotal: 2m 12s\tremaining: 3m 16s\n",
      "403:\tlearn: 0.4278957\ttotal: 2m 12s\tremaining: 3m 15s\n",
      "404:\tlearn: 0.4268986\ttotal: 2m 13s\tremaining: 3m 15s\n",
      "405:\tlearn: 0.4259777\ttotal: 2m 13s\tremaining: 3m 15s\n",
      "406:\tlearn: 0.4253191\ttotal: 2m 13s\tremaining: 3m 14s\n",
      "407:\tlearn: 0.4244060\ttotal: 2m 14s\tremaining: 3m 14s\n",
      "408:\tlearn: 0.4234275\ttotal: 2m 14s\tremaining: 3m 14s\n",
      "409:\tlearn: 0.4224352\ttotal: 2m 14s\tremaining: 3m 13s\n",
      "410:\tlearn: 0.4212178\ttotal: 2m 14s\tremaining: 3m 13s\n",
      "411:\tlearn: 0.4207337\ttotal: 2m 15s\tremaining: 3m 13s\n",
      "412:\tlearn: 0.4203602\ttotal: 2m 15s\tremaining: 3m 12s\n",
      "413:\tlearn: 0.4198156\ttotal: 2m 15s\tremaining: 3m 12s\n",
      "414:\tlearn: 0.4190116\ttotal: 2m 16s\tremaining: 3m 11s\n",
      "415:\tlearn: 0.4177530\ttotal: 2m 16s\tremaining: 3m 11s\n",
      "416:\tlearn: 0.4168794\ttotal: 2m 16s\tremaining: 3m 11s\n",
      "417:\tlearn: 0.4157770\ttotal: 2m 17s\tremaining: 3m 10s\n",
      "418:\tlearn: 0.4148051\ttotal: 2m 17s\tremaining: 3m 10s\n",
      "419:\tlearn: 0.4138391\ttotal: 2m 17s\tremaining: 3m 10s\n",
      "420:\tlearn: 0.4132310\ttotal: 2m 18s\tremaining: 3m 9s\n",
      "421:\tlearn: 0.4119404\ttotal: 2m 18s\tremaining: 3m 9s\n",
      "422:\tlearn: 0.4113571\ttotal: 2m 18s\tremaining: 3m 9s\n",
      "423:\tlearn: 0.4108989\ttotal: 2m 19s\tremaining: 3m 8s\n",
      "424:\tlearn: 0.4101194\ttotal: 2m 19s\tremaining: 3m 8s\n",
      "425:\tlearn: 0.4093283\ttotal: 2m 19s\tremaining: 3m 8s\n",
      "426:\tlearn: 0.4086533\ttotal: 2m 19s\tremaining: 3m 7s\n",
      "427:\tlearn: 0.4076907\ttotal: 2m 20s\tremaining: 3m 7s\n",
      "428:\tlearn: 0.4072318\ttotal: 2m 20s\tremaining: 3m 7s\n",
      "429:\tlearn: 0.4064253\ttotal: 2m 20s\tremaining: 3m 6s\n",
      "430:\tlearn: 0.4057360\ttotal: 2m 21s\tremaining: 3m 6s\n",
      "431:\tlearn: 0.4047239\ttotal: 2m 21s\tremaining: 3m 6s\n",
      "432:\tlearn: 0.4036589\ttotal: 2m 21s\tremaining: 3m 5s\n",
      "433:\tlearn: 0.4028029\ttotal: 2m 22s\tremaining: 3m 5s\n",
      "434:\tlearn: 0.4018024\ttotal: 2m 22s\tremaining: 3m 5s\n",
      "435:\tlearn: 0.4011527\ttotal: 2m 22s\tremaining: 3m 4s\n",
      "436:\tlearn: 0.4002563\ttotal: 2m 23s\tremaining: 3m 4s\n",
      "437:\tlearn: 0.3992228\ttotal: 2m 23s\tremaining: 3m 4s\n",
      "438:\tlearn: 0.3979120\ttotal: 2m 23s\tremaining: 3m 3s\n",
      "439:\tlearn: 0.3966510\ttotal: 2m 24s\tremaining: 3m 3s\n",
      "440:\tlearn: 0.3960940\ttotal: 2m 24s\tremaining: 3m 2s\n",
      "441:\tlearn: 0.3958646\ttotal: 2m 24s\tremaining: 3m 2s\n",
      "442:\tlearn: 0.3951863\ttotal: 2m 24s\tremaining: 3m 2s\n",
      "443:\tlearn: 0.3944272\ttotal: 2m 25s\tremaining: 3m 1s\n",
      "444:\tlearn: 0.3936219\ttotal: 2m 25s\tremaining: 3m 1s\n",
      "445:\tlearn: 0.3928908\ttotal: 2m 25s\tremaining: 3m 1s\n",
      "446:\tlearn: 0.3920165\ttotal: 2m 26s\tremaining: 3m\n",
      "447:\tlearn: 0.3914586\ttotal: 2m 26s\tremaining: 3m\n",
      "448:\tlearn: 0.3909437\ttotal: 2m 26s\tremaining: 3m\n",
      "449:\tlearn: 0.3899902\ttotal: 2m 27s\tremaining: 2m 59s\n",
      "450:\tlearn: 0.3891805\ttotal: 2m 27s\tremaining: 2m 59s\n",
      "451:\tlearn: 0.3880495\ttotal: 2m 27s\tremaining: 2m 59s\n",
      "452:\tlearn: 0.3872821\ttotal: 2m 27s\tremaining: 2m 58s\n",
      "453:\tlearn: 0.3863178\ttotal: 2m 28s\tremaining: 2m 58s\n",
      "454:\tlearn: 0.3854536\ttotal: 2m 28s\tremaining: 2m 57s\n",
      "455:\tlearn: 0.3847008\ttotal: 2m 28s\tremaining: 2m 57s\n",
      "456:\tlearn: 0.3835709\ttotal: 2m 29s\tremaining: 2m 57s\n",
      "457:\tlearn: 0.3826407\ttotal: 2m 29s\tremaining: 2m 56s\n",
      "458:\tlearn: 0.3816362\ttotal: 2m 29s\tremaining: 2m 56s\n",
      "459:\tlearn: 0.3804850\ttotal: 2m 30s\tremaining: 2m 56s\n",
      "460:\tlearn: 0.3795381\ttotal: 2m 30s\tremaining: 2m 55s\n",
      "461:\tlearn: 0.3788652\ttotal: 2m 30s\tremaining: 2m 55s\n",
      "462:\tlearn: 0.3779611\ttotal: 2m 31s\tremaining: 2m 55s\n",
      "463:\tlearn: 0.3770748\ttotal: 2m 31s\tremaining: 2m 54s\n",
      "464:\tlearn: 0.3766325\ttotal: 2m 31s\tremaining: 2m 54s\n",
      "465:\tlearn: 0.3760875\ttotal: 2m 32s\tremaining: 2m 54s\n"
     ]
    },
    {
     "name": "stdout",
     "output_type": "stream",
     "text": [
      "466:\tlearn: 0.3750478\ttotal: 2m 32s\tremaining: 2m 53s\n",
      "467:\tlearn: 0.3740812\ttotal: 2m 32s\tremaining: 2m 53s\n",
      "468:\tlearn: 0.3727703\ttotal: 2m 33s\tremaining: 2m 53s\n",
      "469:\tlearn: 0.3720212\ttotal: 2m 33s\tremaining: 2m 52s\n",
      "470:\tlearn: 0.3713912\ttotal: 2m 33s\tremaining: 2m 52s\n",
      "471:\tlearn: 0.3706626\ttotal: 2m 33s\tremaining: 2m 52s\n",
      "472:\tlearn: 0.3701863\ttotal: 2m 34s\tremaining: 2m 51s\n",
      "473:\tlearn: 0.3691682\ttotal: 2m 34s\tremaining: 2m 51s\n",
      "474:\tlearn: 0.3685861\ttotal: 2m 34s\tremaining: 2m 51s\n",
      "475:\tlearn: 0.3676280\ttotal: 2m 35s\tremaining: 2m 50s\n",
      "476:\tlearn: 0.3668924\ttotal: 2m 35s\tremaining: 2m 50s\n",
      "477:\tlearn: 0.3663892\ttotal: 2m 35s\tremaining: 2m 50s\n",
      "478:\tlearn: 0.3655008\ttotal: 2m 36s\tremaining: 2m 49s\n",
      "479:\tlearn: 0.3644753\ttotal: 2m 36s\tremaining: 2m 49s\n",
      "480:\tlearn: 0.3638955\ttotal: 2m 36s\tremaining: 2m 49s\n",
      "481:\tlearn: 0.3631688\ttotal: 2m 37s\tremaining: 2m 48s\n",
      "482:\tlearn: 0.3626562\ttotal: 2m 37s\tremaining: 2m 48s\n",
      "483:\tlearn: 0.3620214\ttotal: 2m 37s\tremaining: 2m 48s\n",
      "484:\tlearn: 0.3615925\ttotal: 2m 37s\tremaining: 2m 47s\n",
      "485:\tlearn: 0.3605563\ttotal: 2m 38s\tremaining: 2m 47s\n",
      "486:\tlearn: 0.3595698\ttotal: 2m 38s\tremaining: 2m 47s\n",
      "487:\tlearn: 0.3590925\ttotal: 2m 38s\tremaining: 2m 46s\n",
      "488:\tlearn: 0.3583564\ttotal: 2m 39s\tremaining: 2m 46s\n",
      "489:\tlearn: 0.3576921\ttotal: 2m 39s\tremaining: 2m 46s\n",
      "490:\tlearn: 0.3569447\ttotal: 2m 39s\tremaining: 2m 45s\n",
      "491:\tlearn: 0.3565060\ttotal: 2m 40s\tremaining: 2m 45s\n",
      "492:\tlearn: 0.3561161\ttotal: 2m 40s\tremaining: 2m 45s\n",
      "493:\tlearn: 0.3554105\ttotal: 2m 40s\tremaining: 2m 44s\n",
      "494:\tlearn: 0.3546353\ttotal: 2m 41s\tremaining: 2m 44s\n",
      "495:\tlearn: 0.3538075\ttotal: 2m 41s\tremaining: 2m 44s\n",
      "496:\tlearn: 0.3528484\ttotal: 2m 42s\tremaining: 2m 44s\n",
      "497:\tlearn: 0.3522714\ttotal: 2m 42s\tremaining: 2m 43s\n",
      "498:\tlearn: 0.3516840\ttotal: 2m 42s\tremaining: 2m 43s\n",
      "499:\tlearn: 0.3506086\ttotal: 2m 43s\tremaining: 2m 43s\n",
      "500:\tlearn: 0.3495510\ttotal: 2m 43s\tremaining: 2m 42s\n",
      "501:\tlearn: 0.3488337\ttotal: 2m 43s\tremaining: 2m 42s\n",
      "502:\tlearn: 0.3483520\ttotal: 2m 44s\tremaining: 2m 42s\n",
      "503:\tlearn: 0.3474424\ttotal: 2m 44s\tremaining: 2m 41s\n",
      "504:\tlearn: 0.3465482\ttotal: 2m 44s\tremaining: 2m 41s\n",
      "505:\tlearn: 0.3455806\ttotal: 2m 44s\tremaining: 2m 41s\n",
      "506:\tlearn: 0.3447182\ttotal: 2m 45s\tremaining: 2m 40s\n",
      "507:\tlearn: 0.3437614\ttotal: 2m 45s\tremaining: 2m 40s\n",
      "508:\tlearn: 0.3426022\ttotal: 2m 45s\tremaining: 2m 40s\n",
      "509:\tlearn: 0.3422244\ttotal: 2m 46s\tremaining: 2m 39s\n",
      "510:\tlearn: 0.3413802\ttotal: 2m 46s\tremaining: 2m 39s\n",
      "511:\tlearn: 0.3402547\ttotal: 2m 46s\tremaining: 2m 39s\n",
      "512:\tlearn: 0.3398167\ttotal: 2m 47s\tremaining: 2m 38s\n",
      "513:\tlearn: 0.3392069\ttotal: 2m 47s\tremaining: 2m 38s\n",
      "514:\tlearn: 0.3386077\ttotal: 2m 47s\tremaining: 2m 38s\n",
      "515:\tlearn: 0.3379349\ttotal: 2m 48s\tremaining: 2m 37s\n",
      "516:\tlearn: 0.3372904\ttotal: 2m 48s\tremaining: 2m 37s\n",
      "517:\tlearn: 0.3370207\ttotal: 2m 48s\tremaining: 2m 37s\n",
      "518:\tlearn: 0.3368024\ttotal: 2m 49s\tremaining: 2m 36s\n",
      "519:\tlearn: 0.3363001\ttotal: 2m 49s\tremaining: 2m 36s\n",
      "520:\tlearn: 0.3352021\ttotal: 2m 49s\tremaining: 2m 36s\n",
      "521:\tlearn: 0.3346855\ttotal: 2m 50s\tremaining: 2m 35s\n",
      "522:\tlearn: 0.3340127\ttotal: 2m 50s\tremaining: 2m 35s\n",
      "523:\tlearn: 0.3331881\ttotal: 2m 50s\tremaining: 2m 35s\n",
      "524:\tlearn: 0.3326783\ttotal: 2m 51s\tremaining: 2m 34s\n",
      "525:\tlearn: 0.3318816\ttotal: 2m 51s\tremaining: 2m 34s\n",
      "526:\tlearn: 0.3310913\ttotal: 2m 51s\tremaining: 2m 34s\n",
      "527:\tlearn: 0.3306300\ttotal: 2m 52s\tremaining: 2m 33s\n",
      "528:\tlearn: 0.3300509\ttotal: 2m 52s\tremaining: 2m 33s\n",
      "529:\tlearn: 0.3292503\ttotal: 2m 52s\tremaining: 2m 33s\n",
      "530:\tlearn: 0.3289257\ttotal: 2m 53s\tremaining: 2m 32s\n",
      "531:\tlearn: 0.3281633\ttotal: 2m 53s\tremaining: 2m 32s\n",
      "532:\tlearn: 0.3275571\ttotal: 2m 53s\tremaining: 2m 32s\n",
      "533:\tlearn: 0.3269044\ttotal: 2m 54s\tremaining: 2m 31s\n",
      "534:\tlearn: 0.3261712\ttotal: 2m 54s\tremaining: 2m 31s\n",
      "535:\tlearn: 0.3255429\ttotal: 2m 54s\tremaining: 2m 31s\n",
      "536:\tlearn: 0.3249312\ttotal: 2m 54s\tremaining: 2m 30s\n",
      "537:\tlearn: 0.3243943\ttotal: 2m 55s\tremaining: 2m 30s\n",
      "538:\tlearn: 0.3239223\ttotal: 2m 55s\tremaining: 2m 30s\n",
      "539:\tlearn: 0.3231176\ttotal: 2m 55s\tremaining: 2m 29s\n",
      "540:\tlearn: 0.3224360\ttotal: 2m 56s\tremaining: 2m 29s\n",
      "541:\tlearn: 0.3221052\ttotal: 2m 56s\tremaining: 2m 29s\n",
      "542:\tlearn: 0.3214781\ttotal: 2m 56s\tremaining: 2m 28s\n",
      "543:\tlearn: 0.3210110\ttotal: 2m 57s\tremaining: 2m 28s\n",
      "544:\tlearn: 0.3203963\ttotal: 2m 57s\tremaining: 2m 28s\n",
      "545:\tlearn: 0.3198733\ttotal: 2m 57s\tremaining: 2m 27s\n",
      "546:\tlearn: 0.3192211\ttotal: 2m 58s\tremaining: 2m 27s\n",
      "547:\tlearn: 0.3186285\ttotal: 2m 58s\tremaining: 2m 27s\n",
      "548:\tlearn: 0.3180409\ttotal: 2m 58s\tremaining: 2m 26s\n",
      "549:\tlearn: 0.3175468\ttotal: 2m 59s\tremaining: 2m 26s\n",
      "550:\tlearn: 0.3168033\ttotal: 2m 59s\tremaining: 2m 26s\n",
      "551:\tlearn: 0.3161998\ttotal: 2m 59s\tremaining: 2m 25s\n",
      "552:\tlearn: 0.3157117\ttotal: 3m\tremaining: 2m 25s\n",
      "553:\tlearn: 0.3153466\ttotal: 3m\tremaining: 2m 25s\n",
      "554:\tlearn: 0.3146573\ttotal: 3m\tremaining: 2m 24s\n",
      "555:\tlearn: 0.3142966\ttotal: 3m 1s\tremaining: 2m 24s\n",
      "556:\tlearn: 0.3141800\ttotal: 3m 1s\tremaining: 2m 24s\n",
      "557:\tlearn: 0.3136030\ttotal: 3m 2s\tremaining: 2m 24s\n",
      "558:\tlearn: 0.3131235\ttotal: 3m 2s\tremaining: 2m 23s\n",
      "559:\tlearn: 0.3122184\ttotal: 3m 2s\tremaining: 2m 23s\n",
      "560:\tlearn: 0.3117707\ttotal: 3m 2s\tremaining: 2m 23s\n",
      "561:\tlearn: 0.3109404\ttotal: 3m 3s\tremaining: 2m 22s\n",
      "562:\tlearn: 0.3103332\ttotal: 3m 3s\tremaining: 2m 22s\n",
      "563:\tlearn: 0.3100342\ttotal: 3m 3s\tremaining: 2m 22s\n",
      "564:\tlearn: 0.3096197\ttotal: 3m 4s\tremaining: 2m 21s\n",
      "565:\tlearn: 0.3092553\ttotal: 3m 4s\tremaining: 2m 21s\n",
      "566:\tlearn: 0.3084392\ttotal: 3m 4s\tremaining: 2m 21s\n",
      "567:\tlearn: 0.3080646\ttotal: 3m 5s\tremaining: 2m 20s\n",
      "568:\tlearn: 0.3074190\ttotal: 3m 5s\tremaining: 2m 20s\n",
      "569:\tlearn: 0.3067115\ttotal: 3m 5s\tremaining: 2m 20s\n",
      "570:\tlearn: 0.3061805\ttotal: 3m 6s\tremaining: 2m 19s\n",
      "571:\tlearn: 0.3058513\ttotal: 3m 6s\tremaining: 2m 19s\n",
      "572:\tlearn: 0.3053100\ttotal: 3m 6s\tremaining: 2m 19s\n",
      "573:\tlearn: 0.3045557\ttotal: 3m 7s\tremaining: 2m 18s\n",
      "574:\tlearn: 0.3039935\ttotal: 3m 7s\tremaining: 2m 18s\n",
      "575:\tlearn: 0.3031894\ttotal: 3m 7s\tremaining: 2m 18s\n",
      "576:\tlearn: 0.3028412\ttotal: 3m 8s\tremaining: 2m 17s\n",
      "577:\tlearn: 0.3022775\ttotal: 3m 8s\tremaining: 2m 17s\n",
      "578:\tlearn: 0.3017517\ttotal: 3m 8s\tremaining: 2m 17s\n",
      "579:\tlearn: 0.3011241\ttotal: 3m 9s\tremaining: 2m 17s\n",
      "580:\tlearn: 0.3002691\ttotal: 3m 10s\tremaining: 2m 17s\n",
      "581:\tlearn: 0.2997508\ttotal: 3m 10s\tremaining: 2m 16s\n",
      "582:\tlearn: 0.2991024\ttotal: 3m 10s\tremaining: 2m 16s\n",
      "583:\tlearn: 0.2986232\ttotal: 3m 11s\tremaining: 2m 16s\n",
      "584:\tlearn: 0.2981949\ttotal: 3m 11s\tremaining: 2m 15s\n",
      "585:\tlearn: 0.2975552\ttotal: 3m 11s\tremaining: 2m 15s\n",
      "586:\tlearn: 0.2971929\ttotal: 3m 12s\tremaining: 2m 15s\n",
      "587:\tlearn: 0.2967446\ttotal: 3m 12s\tremaining: 2m 15s\n",
      "588:\tlearn: 0.2962130\ttotal: 3m 13s\tremaining: 2m 14s\n",
      "589:\tlearn: 0.2958732\ttotal: 3m 13s\tremaining: 2m 14s\n",
      "590:\tlearn: 0.2954870\ttotal: 3m 13s\tremaining: 2m 14s\n",
      "591:\tlearn: 0.2948502\ttotal: 3m 14s\tremaining: 2m 13s\n",
      "592:\tlearn: 0.2944936\ttotal: 3m 14s\tremaining: 2m 13s\n",
      "593:\tlearn: 0.2940422\ttotal: 3m 14s\tremaining: 2m 13s\n",
      "594:\tlearn: 0.2932775\ttotal: 3m 14s\tremaining: 2m 12s\n",
      "595:\tlearn: 0.2930136\ttotal: 3m 15s\tremaining: 2m 12s\n",
      "596:\tlearn: 0.2921905\ttotal: 3m 15s\tremaining: 2m 12s\n",
      "597:\tlearn: 0.2913371\ttotal: 3m 15s\tremaining: 2m 11s\n",
      "598:\tlearn: 0.2908310\ttotal: 3m 16s\tremaining: 2m 11s\n",
      "599:\tlearn: 0.2902354\ttotal: 3m 16s\tremaining: 2m 11s\n",
      "600:\tlearn: 0.2898578\ttotal: 3m 16s\tremaining: 2m 10s\n",
      "601:\tlearn: 0.2891770\ttotal: 3m 17s\tremaining: 2m 10s\n",
      "602:\tlearn: 0.2884558\ttotal: 3m 17s\tremaining: 2m 10s\n",
      "603:\tlearn: 0.2877531\ttotal: 3m 17s\tremaining: 2m 9s\n",
      "604:\tlearn: 0.2868026\ttotal: 3m 18s\tremaining: 2m 9s\n",
      "605:\tlearn: 0.2862639\ttotal: 3m 18s\tremaining: 2m 9s\n",
      "606:\tlearn: 0.2859136\ttotal: 3m 18s\tremaining: 2m 8s\n",
      "607:\tlearn: 0.2854668\ttotal: 3m 19s\tremaining: 2m 8s\n",
      "608:\tlearn: 0.2848347\ttotal: 3m 19s\tremaining: 2m 8s\n",
      "609:\tlearn: 0.2843334\ttotal: 3m 19s\tremaining: 2m 7s\n",
      "610:\tlearn: 0.2836929\ttotal: 3m 20s\tremaining: 2m 7s\n",
      "611:\tlearn: 0.2831086\ttotal: 3m 20s\tremaining: 2m 7s\n",
      "612:\tlearn: 0.2823275\ttotal: 3m 21s\tremaining: 2m 7s\n",
      "613:\tlearn: 0.2818284\ttotal: 3m 21s\tremaining: 2m 6s\n",
      "614:\tlearn: 0.2812183\ttotal: 3m 21s\tremaining: 2m 6s\n",
      "615:\tlearn: 0.2808742\ttotal: 3m 22s\tremaining: 2m 6s\n",
      "616:\tlearn: 0.2806949\ttotal: 3m 22s\tremaining: 2m 5s\n",
      "617:\tlearn: 0.2800251\ttotal: 3m 22s\tremaining: 2m 5s\n",
      "618:\tlearn: 0.2795001\ttotal: 3m 23s\tremaining: 2m 5s\n"
     ]
    },
    {
     "name": "stdout",
     "output_type": "stream",
     "text": [
      "619:\tlearn: 0.2788950\ttotal: 3m 23s\tremaining: 2m 4s\n",
      "620:\tlearn: 0.2782380\ttotal: 3m 23s\tremaining: 2m 4s\n",
      "621:\tlearn: 0.2776779\ttotal: 3m 24s\tremaining: 2m 4s\n",
      "622:\tlearn: 0.2772933\ttotal: 3m 24s\tremaining: 2m 3s\n",
      "623:\tlearn: 0.2768139\ttotal: 3m 24s\tremaining: 2m 3s\n",
      "624:\tlearn: 0.2764385\ttotal: 3m 25s\tremaining: 2m 3s\n",
      "625:\tlearn: 0.2757262\ttotal: 3m 25s\tremaining: 2m 2s\n",
      "626:\tlearn: 0.2753591\ttotal: 3m 25s\tremaining: 2m 2s\n",
      "627:\tlearn: 0.2750201\ttotal: 3m 26s\tremaining: 2m 2s\n",
      "628:\tlearn: 0.2747420\ttotal: 3m 26s\tremaining: 2m 1s\n",
      "629:\tlearn: 0.2743313\ttotal: 3m 26s\tremaining: 2m 1s\n",
      "630:\tlearn: 0.2737986\ttotal: 3m 27s\tremaining: 2m 1s\n",
      "631:\tlearn: 0.2733339\ttotal: 3m 27s\tremaining: 2m\n",
      "632:\tlearn: 0.2728303\ttotal: 3m 27s\tremaining: 2m\n",
      "633:\tlearn: 0.2726387\ttotal: 3m 27s\tremaining: 2m\n",
      "634:\tlearn: 0.2717122\ttotal: 3m 28s\tremaining: 1m 59s\n",
      "635:\tlearn: 0.2714170\ttotal: 3m 28s\tremaining: 1m 59s\n",
      "636:\tlearn: 0.2707617\ttotal: 3m 28s\tremaining: 1m 59s\n",
      "637:\tlearn: 0.2702008\ttotal: 3m 29s\tremaining: 1m 58s\n",
      "638:\tlearn: 0.2698840\ttotal: 3m 29s\tremaining: 1m 58s\n",
      "639:\tlearn: 0.2695403\ttotal: 3m 29s\tremaining: 1m 58s\n",
      "640:\tlearn: 0.2688804\ttotal: 3m 30s\tremaining: 1m 57s\n",
      "641:\tlearn: 0.2684237\ttotal: 3m 30s\tremaining: 1m 57s\n",
      "642:\tlearn: 0.2680474\ttotal: 3m 30s\tremaining: 1m 57s\n",
      "643:\tlearn: 0.2675257\ttotal: 3m 31s\tremaining: 1m 56s\n",
      "644:\tlearn: 0.2668808\ttotal: 3m 31s\tremaining: 1m 56s\n",
      "645:\tlearn: 0.2661938\ttotal: 3m 31s\tremaining: 1m 56s\n",
      "646:\tlearn: 0.2655193\ttotal: 3m 32s\tremaining: 1m 55s\n",
      "647:\tlearn: 0.2650315\ttotal: 3m 32s\tremaining: 1m 55s\n",
      "648:\tlearn: 0.2646720\ttotal: 3m 32s\tremaining: 1m 55s\n",
      "649:\tlearn: 0.2642708\ttotal: 3m 33s\tremaining: 1m 54s\n",
      "650:\tlearn: 0.2638322\ttotal: 3m 33s\tremaining: 1m 54s\n",
      "651:\tlearn: 0.2632428\ttotal: 3m 33s\tremaining: 1m 54s\n",
      "652:\tlearn: 0.2629008\ttotal: 3m 33s\tremaining: 1m 53s\n",
      "653:\tlearn: 0.2625923\ttotal: 3m 34s\tremaining: 1m 53s\n",
      "654:\tlearn: 0.2621351\ttotal: 3m 34s\tremaining: 1m 53s\n",
      "655:\tlearn: 0.2615659\ttotal: 3m 34s\tremaining: 1m 52s\n",
      "656:\tlearn: 0.2612436\ttotal: 3m 35s\tremaining: 1m 52s\n",
      "657:\tlearn: 0.2608366\ttotal: 3m 35s\tremaining: 1m 52s\n",
      "658:\tlearn: 0.2603983\ttotal: 3m 35s\tremaining: 1m 51s\n",
      "659:\tlearn: 0.2601440\ttotal: 3m 36s\tremaining: 1m 51s\n",
      "660:\tlearn: 0.2596987\ttotal: 3m 36s\tremaining: 1m 51s\n",
      "661:\tlearn: 0.2593493\ttotal: 3m 36s\tremaining: 1m 50s\n",
      "662:\tlearn: 0.2589145\ttotal: 3m 37s\tremaining: 1m 50s\n",
      "663:\tlearn: 0.2584516\ttotal: 3m 37s\tremaining: 1m 50s\n",
      "664:\tlearn: 0.2581869\ttotal: 3m 37s\tremaining: 1m 49s\n",
      "665:\tlearn: 0.2580424\ttotal: 3m 38s\tremaining: 1m 49s\n",
      "666:\tlearn: 0.2573285\ttotal: 3m 38s\tremaining: 1m 49s\n",
      "667:\tlearn: 0.2566165\ttotal: 3m 38s\tremaining: 1m 48s\n",
      "668:\tlearn: 0.2558461\ttotal: 3m 39s\tremaining: 1m 48s\n",
      "669:\tlearn: 0.2555062\ttotal: 3m 39s\tremaining: 1m 48s\n",
      "670:\tlearn: 0.2546625\ttotal: 3m 39s\tremaining: 1m 47s\n",
      "671:\tlearn: 0.2543340\ttotal: 3m 39s\tremaining: 1m 47s\n",
      "672:\tlearn: 0.2537435\ttotal: 3m 40s\tremaining: 1m 47s\n",
      "673:\tlearn: 0.2534302\ttotal: 3m 40s\tremaining: 1m 46s\n",
      "674:\tlearn: 0.2529732\ttotal: 3m 40s\tremaining: 1m 46s\n",
      "675:\tlearn: 0.2526306\ttotal: 3m 41s\tremaining: 1m 46s\n",
      "676:\tlearn: 0.2522644\ttotal: 3m 41s\tremaining: 1m 45s\n",
      "677:\tlearn: 0.2519924\ttotal: 3m 41s\tremaining: 1m 45s\n",
      "678:\tlearn: 0.2516240\ttotal: 3m 42s\tremaining: 1m 45s\n",
      "679:\tlearn: 0.2514801\ttotal: 3m 42s\tremaining: 1m 44s\n",
      "680:\tlearn: 0.2508840\ttotal: 3m 42s\tremaining: 1m 44s\n",
      "681:\tlearn: 0.2504373\ttotal: 3m 43s\tremaining: 1m 44s\n",
      "682:\tlearn: 0.2500751\ttotal: 3m 43s\tremaining: 1m 43s\n",
      "683:\tlearn: 0.2494968\ttotal: 3m 43s\tremaining: 1m 43s\n",
      "684:\tlearn: 0.2490803\ttotal: 3m 44s\tremaining: 1m 43s\n",
      "685:\tlearn: 0.2486444\ttotal: 3m 44s\tremaining: 1m 42s\n",
      "686:\tlearn: 0.2484084\ttotal: 3m 44s\tremaining: 1m 42s\n",
      "687:\tlearn: 0.2479627\ttotal: 3m 45s\tremaining: 1m 42s\n",
      "688:\tlearn: 0.2475307\ttotal: 3m 45s\tremaining: 1m 41s\n",
      "689:\tlearn: 0.2471709\ttotal: 3m 45s\tremaining: 1m 41s\n",
      "690:\tlearn: 0.2467987\ttotal: 3m 46s\tremaining: 1m 41s\n",
      "691:\tlearn: 0.2463515\ttotal: 3m 46s\tremaining: 1m 40s\n",
      "692:\tlearn: 0.2458434\ttotal: 3m 46s\tremaining: 1m 40s\n",
      "693:\tlearn: 0.2455336\ttotal: 3m 47s\tremaining: 1m 40s\n",
      "694:\tlearn: 0.2452680\ttotal: 3m 47s\tremaining: 1m 39s\n",
      "695:\tlearn: 0.2446240\ttotal: 3m 47s\tremaining: 1m 39s\n",
      "696:\tlearn: 0.2444184\ttotal: 3m 47s\tremaining: 1m 39s\n",
      "697:\tlearn: 0.2441386\ttotal: 3m 48s\tremaining: 1m 38s\n",
      "698:\tlearn: 0.2434212\ttotal: 3m 48s\tremaining: 1m 38s\n",
      "699:\tlearn: 0.2429644\ttotal: 3m 48s\tremaining: 1m 38s\n",
      "700:\tlearn: 0.2427693\ttotal: 3m 49s\tremaining: 1m 37s\n",
      "701:\tlearn: 0.2423954\ttotal: 3m 49s\tremaining: 1m 37s\n",
      "702:\tlearn: 0.2419041\ttotal: 3m 49s\tremaining: 1m 37s\n",
      "703:\tlearn: 0.2417950\ttotal: 3m 50s\tremaining: 1m 36s\n",
      "704:\tlearn: 0.2414943\ttotal: 3m 50s\tremaining: 1m 36s\n",
      "705:\tlearn: 0.2413875\ttotal: 3m 50s\tremaining: 1m 36s\n",
      "706:\tlearn: 0.2405590\ttotal: 3m 51s\tremaining: 1m 35s\n",
      "707:\tlearn: 0.2400894\ttotal: 3m 51s\tremaining: 1m 35s\n",
      "708:\tlearn: 0.2396746\ttotal: 3m 51s\tremaining: 1m 35s\n",
      "709:\tlearn: 0.2394159\ttotal: 3m 51s\tremaining: 1m 34s\n",
      "710:\tlearn: 0.2390221\ttotal: 3m 52s\tremaining: 1m 34s\n",
      "711:\tlearn: 0.2385044\ttotal: 3m 52s\tremaining: 1m 34s\n",
      "712:\tlearn: 0.2381691\ttotal: 3m 52s\tremaining: 1m 33s\n",
      "713:\tlearn: 0.2376679\ttotal: 3m 53s\tremaining: 1m 33s\n",
      "714:\tlearn: 0.2372235\ttotal: 3m 53s\tremaining: 1m 33s\n",
      "715:\tlearn: 0.2369260\ttotal: 3m 53s\tremaining: 1m 32s\n",
      "716:\tlearn: 0.2368422\ttotal: 3m 54s\tremaining: 1m 32s\n",
      "717:\tlearn: 0.2363026\ttotal: 3m 54s\tremaining: 1m 32s\n",
      "718:\tlearn: 0.2358055\ttotal: 3m 54s\tremaining: 1m 31s\n",
      "719:\tlearn: 0.2353725\ttotal: 3m 55s\tremaining: 1m 31s\n",
      "720:\tlearn: 0.2351610\ttotal: 3m 55s\tremaining: 1m 31s\n",
      "721:\tlearn: 0.2346666\ttotal: 3m 55s\tremaining: 1m 30s\n",
      "722:\tlearn: 0.2343512\ttotal: 3m 55s\tremaining: 1m 30s\n",
      "723:\tlearn: 0.2340883\ttotal: 3m 56s\tremaining: 1m 30s\n",
      "724:\tlearn: 0.2339076\ttotal: 3m 56s\tremaining: 1m 29s\n",
      "725:\tlearn: 0.2334581\ttotal: 3m 56s\tremaining: 1m 29s\n",
      "726:\tlearn: 0.2330682\ttotal: 3m 57s\tremaining: 1m 29s\n",
      "727:\tlearn: 0.2328210\ttotal: 3m 57s\tremaining: 1m 28s\n",
      "728:\tlearn: 0.2326661\ttotal: 3m 57s\tremaining: 1m 28s\n",
      "729:\tlearn: 0.2323217\ttotal: 3m 58s\tremaining: 1m 28s\n",
      "730:\tlearn: 0.2321132\ttotal: 3m 58s\tremaining: 1m 27s\n",
      "731:\tlearn: 0.2317704\ttotal: 3m 58s\tremaining: 1m 27s\n",
      "732:\tlearn: 0.2312649\ttotal: 3m 59s\tremaining: 1m 27s\n",
      "733:\tlearn: 0.2308873\ttotal: 3m 59s\tremaining: 1m 26s\n",
      "734:\tlearn: 0.2305048\ttotal: 4m\tremaining: 1m 26s\n",
      "735:\tlearn: 0.2302918\ttotal: 4m\tremaining: 1m 26s\n",
      "736:\tlearn: 0.2298986\ttotal: 4m\tremaining: 1m 25s\n",
      "737:\tlearn: 0.2294360\ttotal: 4m 1s\tremaining: 1m 25s\n",
      "738:\tlearn: 0.2289019\ttotal: 4m 1s\tremaining: 1m 25s\n",
      "739:\tlearn: 0.2286343\ttotal: 4m 1s\tremaining: 1m 24s\n",
      "740:\tlearn: 0.2283170\ttotal: 4m 2s\tremaining: 1m 24s\n",
      "741:\tlearn: 0.2278974\ttotal: 4m 2s\tremaining: 1m 24s\n",
      "742:\tlearn: 0.2276540\ttotal: 4m 2s\tremaining: 1m 23s\n",
      "743:\tlearn: 0.2274529\ttotal: 4m 3s\tremaining: 1m 23s\n",
      "744:\tlearn: 0.2270501\ttotal: 4m 3s\tremaining: 1m 23s\n",
      "745:\tlearn: 0.2267828\ttotal: 4m 3s\tremaining: 1m 22s\n",
      "746:\tlearn: 0.2266217\ttotal: 4m 3s\tremaining: 1m 22s\n",
      "747:\tlearn: 0.2262091\ttotal: 4m 4s\tremaining: 1m 22s\n",
      "748:\tlearn: 0.2257777\ttotal: 4m 4s\tremaining: 1m 21s\n",
      "749:\tlearn: 0.2252973\ttotal: 4m 5s\tremaining: 1m 21s\n",
      "750:\tlearn: 0.2250186\ttotal: 4m 5s\tremaining: 1m 21s\n",
      "751:\tlearn: 0.2249159\ttotal: 4m 5s\tremaining: 1m 21s\n",
      "752:\tlearn: 0.2245442\ttotal: 4m 5s\tremaining: 1m 20s\n",
      "753:\tlearn: 0.2239165\ttotal: 4m 6s\tremaining: 1m 20s\n",
      "754:\tlearn: 0.2234937\ttotal: 4m 6s\tremaining: 1m 20s\n",
      "755:\tlearn: 0.2230839\ttotal: 4m 6s\tremaining: 1m 19s\n",
      "756:\tlearn: 0.2225826\ttotal: 4m 7s\tremaining: 1m 19s\n",
      "757:\tlearn: 0.2223101\ttotal: 4m 7s\tremaining: 1m 19s\n",
      "758:\tlearn: 0.2220292\ttotal: 4m 7s\tremaining: 1m 18s\n",
      "759:\tlearn: 0.2219655\ttotal: 4m 8s\tremaining: 1m 18s\n",
      "760:\tlearn: 0.2217107\ttotal: 4m 8s\tremaining: 1m 18s\n",
      "761:\tlearn: 0.2212966\ttotal: 4m 8s\tremaining: 1m 17s\n",
      "762:\tlearn: 0.2210603\ttotal: 4m 9s\tremaining: 1m 17s\n",
      "763:\tlearn: 0.2207002\ttotal: 4m 9s\tremaining: 1m 17s\n",
      "764:\tlearn: 0.2203783\ttotal: 4m 9s\tremaining: 1m 16s\n",
      "765:\tlearn: 0.2200804\ttotal: 4m 10s\tremaining: 1m 16s\n",
      "766:\tlearn: 0.2197840\ttotal: 4m 10s\tremaining: 1m 16s\n",
      "767:\tlearn: 0.2194071\ttotal: 4m 10s\tremaining: 1m 15s\n",
      "768:\tlearn: 0.2192978\ttotal: 4m 11s\tremaining: 1m 15s\n",
      "769:\tlearn: 0.2186926\ttotal: 4m 11s\tremaining: 1m 15s\n",
      "770:\tlearn: 0.2184006\ttotal: 4m 11s\tremaining: 1m 14s\n",
      "771:\tlearn: 0.2182454\ttotal: 4m 12s\tremaining: 1m 14s\n"
     ]
    },
    {
     "name": "stdout",
     "output_type": "stream",
     "text": [
      "772:\tlearn: 0.2179695\ttotal: 4m 12s\tremaining: 1m 14s\n",
      "773:\tlearn: 0.2178398\ttotal: 4m 12s\tremaining: 1m 13s\n",
      "774:\tlearn: 0.2175179\ttotal: 4m 12s\tremaining: 1m 13s\n",
      "775:\tlearn: 0.2170366\ttotal: 4m 13s\tremaining: 1m 13s\n",
      "776:\tlearn: 0.2165334\ttotal: 4m 13s\tremaining: 1m 12s\n",
      "777:\tlearn: 0.2161573\ttotal: 4m 13s\tremaining: 1m 12s\n",
      "778:\tlearn: 0.2158629\ttotal: 4m 14s\tremaining: 1m 12s\n",
      "779:\tlearn: 0.2156882\ttotal: 4m 14s\tremaining: 1m 11s\n",
      "780:\tlearn: 0.2152368\ttotal: 4m 14s\tremaining: 1m 11s\n",
      "781:\tlearn: 0.2149933\ttotal: 4m 15s\tremaining: 1m 11s\n",
      "782:\tlearn: 0.2147442\ttotal: 4m 15s\tremaining: 1m 10s\n",
      "783:\tlearn: 0.2143678\ttotal: 4m 15s\tremaining: 1m 10s\n",
      "784:\tlearn: 0.2140811\ttotal: 4m 16s\tremaining: 1m 10s\n",
      "785:\tlearn: 0.2134130\ttotal: 4m 16s\tremaining: 1m 9s\n",
      "786:\tlearn: 0.2131318\ttotal: 4m 16s\tremaining: 1m 9s\n",
      "787:\tlearn: 0.2127892\ttotal: 4m 17s\tremaining: 1m 9s\n",
      "788:\tlearn: 0.2125822\ttotal: 4m 17s\tremaining: 1m 8s\n",
      "789:\tlearn: 0.2122874\ttotal: 4m 17s\tremaining: 1m 8s\n",
      "790:\tlearn: 0.2119596\ttotal: 4m 17s\tremaining: 1m 8s\n",
      "791:\tlearn: 0.2116848\ttotal: 4m 18s\tremaining: 1m 7s\n",
      "792:\tlearn: 0.2114164\ttotal: 4m 18s\tremaining: 1m 7s\n",
      "793:\tlearn: 0.2111117\ttotal: 4m 18s\tremaining: 1m 7s\n",
      "794:\tlearn: 0.2105212\ttotal: 4m 19s\tremaining: 1m 6s\n",
      "795:\tlearn: 0.2102861\ttotal: 4m 19s\tremaining: 1m 6s\n",
      "796:\tlearn: 0.2101027\ttotal: 4m 19s\tremaining: 1m 6s\n",
      "797:\tlearn: 0.2098384\ttotal: 4m 20s\tremaining: 1m 5s\n",
      "798:\tlearn: 0.2095646\ttotal: 4m 20s\tremaining: 1m 5s\n",
      "799:\tlearn: 0.2090834\ttotal: 4m 20s\tremaining: 1m 5s\n",
      "800:\tlearn: 0.2088769\ttotal: 4m 21s\tremaining: 1m 4s\n",
      "801:\tlearn: 0.2085939\ttotal: 4m 21s\tremaining: 1m 4s\n",
      "802:\tlearn: 0.2082800\ttotal: 4m 21s\tremaining: 1m 4s\n",
      "803:\tlearn: 0.2079751\ttotal: 4m 22s\tremaining: 1m 3s\n",
      "804:\tlearn: 0.2076332\ttotal: 4m 22s\tremaining: 1m 3s\n",
      "805:\tlearn: 0.2073643\ttotal: 4m 22s\tremaining: 1m 3s\n",
      "806:\tlearn: 0.2070900\ttotal: 4m 23s\tremaining: 1m 2s\n",
      "807:\tlearn: 0.2066708\ttotal: 4m 23s\tremaining: 1m 2s\n",
      "808:\tlearn: 0.2064213\ttotal: 4m 23s\tremaining: 1m 2s\n",
      "809:\tlearn: 0.2059121\ttotal: 4m 23s\tremaining: 1m 1s\n",
      "810:\tlearn: 0.2056379\ttotal: 4m 24s\tremaining: 1m 1s\n",
      "811:\tlearn: 0.2053998\ttotal: 4m 24s\tremaining: 1m 1s\n",
      "812:\tlearn: 0.2050298\ttotal: 4m 24s\tremaining: 1m\n",
      "813:\tlearn: 0.2047804\ttotal: 4m 25s\tremaining: 1m\n",
      "814:\tlearn: 0.2044410\ttotal: 4m 25s\tremaining: 1m\n",
      "815:\tlearn: 0.2042748\ttotal: 4m 25s\tremaining: 59.9s\n",
      "816:\tlearn: 0.2039600\ttotal: 4m 26s\tremaining: 59.6s\n",
      "817:\tlearn: 0.2036186\ttotal: 4m 26s\tremaining: 59.3s\n",
      "818:\tlearn: 0.2032549\ttotal: 4m 26s\tremaining: 59s\n",
      "819:\tlearn: 0.2028160\ttotal: 4m 27s\tremaining: 58.7s\n",
      "820:\tlearn: 0.2024944\ttotal: 4m 27s\tremaining: 58.3s\n",
      "821:\tlearn: 0.2022650\ttotal: 4m 27s\tremaining: 58s\n",
      "822:\tlearn: 0.2019324\ttotal: 4m 28s\tremaining: 57.7s\n",
      "823:\tlearn: 0.2016332\ttotal: 4m 28s\tremaining: 57.3s\n",
      "824:\tlearn: 0.2011964\ttotal: 4m 28s\tremaining: 57s\n",
      "825:\tlearn: 0.2009181\ttotal: 4m 29s\tremaining: 56.7s\n",
      "826:\tlearn: 0.2005122\ttotal: 4m 29s\tremaining: 56.4s\n",
      "827:\tlearn: 0.2003139\ttotal: 4m 29s\tremaining: 56s\n",
      "828:\tlearn: 0.2000309\ttotal: 4m 30s\tremaining: 55.7s\n",
      "829:\tlearn: 0.1995331\ttotal: 4m 30s\tremaining: 55.4s\n",
      "830:\tlearn: 0.1991824\ttotal: 4m 30s\tremaining: 55s\n",
      "831:\tlearn: 0.1990090\ttotal: 4m 30s\tremaining: 54.7s\n",
      "832:\tlearn: 0.1985416\ttotal: 4m 31s\tremaining: 54.4s\n",
      "833:\tlearn: 0.1981650\ttotal: 4m 31s\tremaining: 54.1s\n",
      "834:\tlearn: 0.1978116\ttotal: 4m 31s\tremaining: 53.7s\n",
      "835:\tlearn: 0.1974499\ttotal: 4m 32s\tremaining: 53.4s\n",
      "836:\tlearn: 0.1972247\ttotal: 4m 32s\tremaining: 53.1s\n",
      "837:\tlearn: 0.1969808\ttotal: 4m 32s\tremaining: 52.7s\n",
      "838:\tlearn: 0.1966275\ttotal: 4m 33s\tremaining: 52.4s\n",
      "839:\tlearn: 0.1962852\ttotal: 4m 33s\tremaining: 52.1s\n",
      "840:\tlearn: 0.1958821\ttotal: 4m 33s\tremaining: 51.8s\n",
      "841:\tlearn: 0.1956475\ttotal: 4m 34s\tremaining: 51.5s\n",
      "842:\tlearn: 0.1954464\ttotal: 4m 34s\tremaining: 51.2s\n",
      "843:\tlearn: 0.1952900\ttotal: 4m 35s\tremaining: 50.9s\n",
      "844:\tlearn: 0.1951554\ttotal: 4m 35s\tremaining: 50.5s\n",
      "845:\tlearn: 0.1948308\ttotal: 4m 35s\tremaining: 50.2s\n",
      "846:\tlearn: 0.1945771\ttotal: 4m 36s\tremaining: 49.9s\n",
      "847:\tlearn: 0.1943228\ttotal: 4m 36s\tremaining: 49.6s\n",
      "848:\tlearn: 0.1940853\ttotal: 4m 36s\tremaining: 49.2s\n",
      "849:\tlearn: 0.1936683\ttotal: 4m 37s\tremaining: 48.9s\n",
      "850:\tlearn: 0.1933565\ttotal: 4m 37s\tremaining: 48.6s\n",
      "851:\tlearn: 0.1931443\ttotal: 4m 37s\tremaining: 48.2s\n",
      "852:\tlearn: 0.1927750\ttotal: 4m 38s\tremaining: 47.9s\n",
      "853:\tlearn: 0.1926408\ttotal: 4m 38s\tremaining: 47.6s\n",
      "854:\tlearn: 0.1923757\ttotal: 4m 38s\tremaining: 47.3s\n",
      "855:\tlearn: 0.1921006\ttotal: 4m 38s\tremaining: 46.9s\n",
      "856:\tlearn: 0.1917561\ttotal: 4m 39s\tremaining: 46.6s\n",
      "857:\tlearn: 0.1914859\ttotal: 4m 39s\tremaining: 46.3s\n",
      "858:\tlearn: 0.1912784\ttotal: 4m 39s\tremaining: 46s\n",
      "859:\tlearn: 0.1909839\ttotal: 4m 40s\tremaining: 45.6s\n",
      "860:\tlearn: 0.1905918\ttotal: 4m 40s\tremaining: 45.3s\n",
      "861:\tlearn: 0.1903359\ttotal: 4m 40s\tremaining: 45s\n",
      "862:\tlearn: 0.1899442\ttotal: 4m 41s\tremaining: 44.7s\n",
      "863:\tlearn: 0.1897748\ttotal: 4m 41s\tremaining: 44.3s\n",
      "864:\tlearn: 0.1895394\ttotal: 4m 41s\tremaining: 44s\n",
      "865:\tlearn: 0.1894980\ttotal: 4m 42s\tremaining: 43.7s\n",
      "866:\tlearn: 0.1891428\ttotal: 4m 42s\tremaining: 43.4s\n",
      "867:\tlearn: 0.1888110\ttotal: 4m 42s\tremaining: 43s\n",
      "868:\tlearn: 0.1885017\ttotal: 4m 43s\tremaining: 42.7s\n",
      "869:\tlearn: 0.1882289\ttotal: 4m 43s\tremaining: 42.4s\n",
      "870:\tlearn: 0.1877126\ttotal: 4m 43s\tremaining: 42s\n",
      "871:\tlearn: 0.1875071\ttotal: 4m 44s\tremaining: 41.7s\n",
      "872:\tlearn: 0.1873305\ttotal: 4m 44s\tremaining: 41.4s\n",
      "873:\tlearn: 0.1871486\ttotal: 4m 44s\tremaining: 41.1s\n",
      "874:\tlearn: 0.1868756\ttotal: 4m 45s\tremaining: 40.7s\n",
      "875:\tlearn: 0.1865510\ttotal: 4m 45s\tremaining: 40.4s\n",
      "876:\tlearn: 0.1862134\ttotal: 4m 45s\tremaining: 40.1s\n",
      "877:\tlearn: 0.1860044\ttotal: 4m 46s\tremaining: 39.8s\n",
      "878:\tlearn: 0.1858598\ttotal: 4m 46s\tremaining: 39.4s\n",
      "879:\tlearn: 0.1854978\ttotal: 4m 46s\tremaining: 39.1s\n",
      "880:\tlearn: 0.1853630\ttotal: 4m 47s\tremaining: 38.8s\n",
      "881:\tlearn: 0.1851178\ttotal: 4m 47s\tremaining: 38.5s\n",
      "882:\tlearn: 0.1848995\ttotal: 4m 47s\tremaining: 38.1s\n",
      "883:\tlearn: 0.1845320\ttotal: 4m 48s\tremaining: 37.8s\n",
      "884:\tlearn: 0.1842492\ttotal: 4m 48s\tremaining: 37.5s\n",
      "885:\tlearn: 0.1837918\ttotal: 4m 48s\tremaining: 37.2s\n",
      "886:\tlearn: 0.1836878\ttotal: 4m 49s\tremaining: 36.8s\n",
      "887:\tlearn: 0.1834154\ttotal: 4m 49s\tremaining: 36.5s\n",
      "888:\tlearn: 0.1831690\ttotal: 4m 49s\tremaining: 36.2s\n",
      "889:\tlearn: 0.1828016\ttotal: 4m 50s\tremaining: 35.9s\n",
      "890:\tlearn: 0.1826212\ttotal: 4m 50s\tremaining: 35.5s\n",
      "891:\tlearn: 0.1823137\ttotal: 4m 50s\tremaining: 35.2s\n",
      "892:\tlearn: 0.1819171\ttotal: 4m 51s\tremaining: 34.9s\n",
      "893:\tlearn: 0.1816168\ttotal: 4m 51s\tremaining: 34.6s\n",
      "894:\tlearn: 0.1813160\ttotal: 4m 51s\tremaining: 34.2s\n",
      "895:\tlearn: 0.1809644\ttotal: 4m 52s\tremaining: 33.9s\n",
      "896:\tlearn: 0.1806998\ttotal: 4m 52s\tremaining: 33.6s\n",
      "897:\tlearn: 0.1803523\ttotal: 4m 52s\tremaining: 33.2s\n",
      "898:\tlearn: 0.1801554\ttotal: 4m 52s\tremaining: 32.9s\n",
      "899:\tlearn: 0.1799289\ttotal: 4m 53s\tremaining: 32.6s\n",
      "900:\tlearn: 0.1796835\ttotal: 4m 53s\tremaining: 32.3s\n",
      "901:\tlearn: 0.1793032\ttotal: 4m 53s\tremaining: 31.9s\n",
      "902:\tlearn: 0.1790784\ttotal: 4m 54s\tremaining: 31.6s\n",
      "903:\tlearn: 0.1787787\ttotal: 4m 54s\tremaining: 31.3s\n",
      "904:\tlearn: 0.1784895\ttotal: 4m 54s\tremaining: 31s\n",
      "905:\tlearn: 0.1782536\ttotal: 4m 55s\tremaining: 30.6s\n",
      "906:\tlearn: 0.1779351\ttotal: 4m 55s\tremaining: 30.3s\n",
      "907:\tlearn: 0.1776094\ttotal: 4m 55s\tremaining: 30s\n",
      "908:\tlearn: 0.1774152\ttotal: 4m 56s\tremaining: 29.6s\n",
      "909:\tlearn: 0.1771846\ttotal: 4m 56s\tremaining: 29.3s\n",
      "910:\tlearn: 0.1768623\ttotal: 4m 56s\tremaining: 29s\n",
      "911:\tlearn: 0.1767480\ttotal: 4m 57s\tremaining: 28.7s\n",
      "912:\tlearn: 0.1766333\ttotal: 4m 57s\tremaining: 28.4s\n",
      "913:\tlearn: 0.1765507\ttotal: 4m 57s\tremaining: 28s\n",
      "914:\tlearn: 0.1763340\ttotal: 4m 58s\tremaining: 27.7s\n",
      "915:\tlearn: 0.1759065\ttotal: 4m 58s\tremaining: 27.4s\n",
      "916:\tlearn: 0.1756938\ttotal: 4m 58s\tremaining: 27.1s\n",
      "917:\tlearn: 0.1755859\ttotal: 4m 59s\tremaining: 26.7s\n",
      "918:\tlearn: 0.1752526\ttotal: 4m 59s\tremaining: 26.4s\n",
      "919:\tlearn: 0.1749846\ttotal: 4m 59s\tremaining: 26.1s\n",
      "920:\tlearn: 0.1746845\ttotal: 5m\tremaining: 25.7s\n",
      "921:\tlearn: 0.1744651\ttotal: 5m\tremaining: 25.4s\n",
      "922:\tlearn: 0.1741618\ttotal: 5m\tremaining: 25.1s\n",
      "923:\tlearn: 0.1740892\ttotal: 5m 1s\tremaining: 24.8s\n",
      "924:\tlearn: 0.1737903\ttotal: 5m 1s\tremaining: 24.4s\n",
      "925:\tlearn: 0.1735742\ttotal: 5m 1s\tremaining: 24.1s\n",
      "926:\tlearn: 0.1732762\ttotal: 5m 2s\tremaining: 23.8s\n",
      "927:\tlearn: 0.1730296\ttotal: 5m 2s\tremaining: 23.5s\n"
     ]
    },
    {
     "name": "stdout",
     "output_type": "stream",
     "text": [
      "928:\tlearn: 0.1728038\ttotal: 5m 2s\tremaining: 23.1s\n",
      "929:\tlearn: 0.1725952\ttotal: 5m 3s\tremaining: 22.8s\n",
      "930:\tlearn: 0.1724470\ttotal: 5m 3s\tremaining: 22.5s\n",
      "931:\tlearn: 0.1721828\ttotal: 5m 3s\tremaining: 22.2s\n",
      "932:\tlearn: 0.1719513\ttotal: 5m 4s\tremaining: 21.8s\n",
      "933:\tlearn: 0.1716768\ttotal: 5m 4s\tremaining: 21.5s\n",
      "934:\tlearn: 0.1715879\ttotal: 5m 4s\tremaining: 21.2s\n",
      "935:\tlearn: 0.1714067\ttotal: 5m 5s\tremaining: 20.9s\n",
      "936:\tlearn: 0.1711856\ttotal: 5m 5s\tremaining: 20.5s\n",
      "937:\tlearn: 0.1709959\ttotal: 5m 5s\tremaining: 20.2s\n",
      "938:\tlearn: 0.1707955\ttotal: 5m 5s\tremaining: 19.9s\n",
      "939:\tlearn: 0.1706031\ttotal: 5m 6s\tremaining: 19.6s\n",
      "940:\tlearn: 0.1704183\ttotal: 5m 6s\tremaining: 19.2s\n",
      "941:\tlearn: 0.1701837\ttotal: 5m 6s\tremaining: 18.9s\n",
      "942:\tlearn: 0.1700562\ttotal: 5m 7s\tremaining: 18.6s\n",
      "943:\tlearn: 0.1698339\ttotal: 5m 7s\tremaining: 18.2s\n",
      "944:\tlearn: 0.1696864\ttotal: 5m 7s\tremaining: 17.9s\n",
      "945:\tlearn: 0.1695018\ttotal: 5m 8s\tremaining: 17.6s\n",
      "946:\tlearn: 0.1692755\ttotal: 5m 8s\tremaining: 17.3s\n",
      "947:\tlearn: 0.1691294\ttotal: 5m 8s\tremaining: 16.9s\n",
      "948:\tlearn: 0.1688794\ttotal: 5m 9s\tremaining: 16.6s\n",
      "949:\tlearn: 0.1687728\ttotal: 5m 9s\tremaining: 16.3s\n",
      "950:\tlearn: 0.1684880\ttotal: 5m 9s\tremaining: 16s\n",
      "951:\tlearn: 0.1679419\ttotal: 5m 10s\tremaining: 15.6s\n",
      "952:\tlearn: 0.1676747\ttotal: 5m 10s\tremaining: 15.3s\n",
      "953:\tlearn: 0.1675732\ttotal: 5m 10s\tremaining: 15s\n",
      "954:\tlearn: 0.1672818\ttotal: 5m 11s\tremaining: 14.7s\n",
      "955:\tlearn: 0.1670643\ttotal: 5m 11s\tremaining: 14.3s\n",
      "956:\tlearn: 0.1668441\ttotal: 5m 11s\tremaining: 14s\n",
      "957:\tlearn: 0.1666806\ttotal: 5m 11s\tremaining: 13.7s\n",
      "958:\tlearn: 0.1663530\ttotal: 5m 12s\tremaining: 13.3s\n",
      "959:\tlearn: 0.1661831\ttotal: 5m 12s\tremaining: 13s\n",
      "960:\tlearn: 0.1657503\ttotal: 5m 12s\tremaining: 12.7s\n",
      "961:\tlearn: 0.1654628\ttotal: 5m 13s\tremaining: 12.4s\n",
      "962:\tlearn: 0.1652493\ttotal: 5m 13s\tremaining: 12s\n",
      "963:\tlearn: 0.1650757\ttotal: 5m 13s\tremaining: 11.7s\n",
      "964:\tlearn: 0.1648282\ttotal: 5m 14s\tremaining: 11.4s\n",
      "965:\tlearn: 0.1644806\ttotal: 5m 14s\tremaining: 11.1s\n",
      "966:\tlearn: 0.1641617\ttotal: 5m 14s\tremaining: 10.7s\n",
      "967:\tlearn: 0.1640235\ttotal: 5m 15s\tremaining: 10.4s\n",
      "968:\tlearn: 0.1638235\ttotal: 5m 15s\tremaining: 10.1s\n",
      "969:\tlearn: 0.1636240\ttotal: 5m 15s\tremaining: 9.76s\n",
      "970:\tlearn: 0.1635030\ttotal: 5m 16s\tremaining: 9.44s\n",
      "971:\tlearn: 0.1633326\ttotal: 5m 16s\tremaining: 9.11s\n",
      "972:\tlearn: 0.1632225\ttotal: 5m 16s\tremaining: 8.79s\n",
      "973:\tlearn: 0.1629215\ttotal: 5m 17s\tremaining: 8.47s\n",
      "974:\tlearn: 0.1625312\ttotal: 5m 17s\tremaining: 8.15s\n",
      "975:\tlearn: 0.1623624\ttotal: 5m 18s\tremaining: 7.82s\n",
      "976:\tlearn: 0.1620827\ttotal: 5m 18s\tremaining: 7.5s\n",
      "977:\tlearn: 0.1619709\ttotal: 5m 18s\tremaining: 7.17s\n",
      "978:\tlearn: 0.1618118\ttotal: 5m 19s\tremaining: 6.84s\n",
      "979:\tlearn: 0.1616404\ttotal: 5m 19s\tremaining: 6.52s\n",
      "980:\tlearn: 0.1613511\ttotal: 5m 19s\tremaining: 6.19s\n",
      "981:\tlearn: 0.1609912\ttotal: 5m 19s\tremaining: 5.87s\n",
      "982:\tlearn: 0.1607661\ttotal: 5m 20s\tremaining: 5.54s\n",
      "983:\tlearn: 0.1605386\ttotal: 5m 20s\tremaining: 5.21s\n",
      "984:\tlearn: 0.1603907\ttotal: 5m 21s\tremaining: 4.89s\n",
      "985:\tlearn: 0.1601231\ttotal: 5m 21s\tremaining: 4.56s\n",
      "986:\tlearn: 0.1599188\ttotal: 5m 21s\tremaining: 4.24s\n",
      "987:\tlearn: 0.1597028\ttotal: 5m 21s\tremaining: 3.91s\n",
      "988:\tlearn: 0.1594692\ttotal: 5m 22s\tremaining: 3.58s\n",
      "989:\tlearn: 0.1593658\ttotal: 5m 22s\tremaining: 3.26s\n",
      "990:\tlearn: 0.1591348\ttotal: 5m 23s\tremaining: 2.93s\n",
      "991:\tlearn: 0.1589527\ttotal: 5m 23s\tremaining: 2.61s\n",
      "992:\tlearn: 0.1587956\ttotal: 5m 23s\tremaining: 2.28s\n",
      "993:\tlearn: 0.1585031\ttotal: 5m 24s\tremaining: 1.96s\n",
      "994:\tlearn: 0.1581501\ttotal: 5m 24s\tremaining: 1.63s\n",
      "995:\tlearn: 0.1578778\ttotal: 5m 24s\tremaining: 1.3s\n",
      "996:\tlearn: 0.1576883\ttotal: 5m 24s\tremaining: 978ms\n",
      "997:\tlearn: 0.1575713\ttotal: 5m 25s\tremaining: 652ms\n",
      "998:\tlearn: 0.1573517\ttotal: 5m 25s\tremaining: 326ms\n",
      "999:\tlearn: 0.1572536\ttotal: 5m 25s\tremaining: 0us\n"
     ]
    },
    {
     "data": {
      "text/plain": [
       "<catboost.core.CatBoostClassifier at 0x134eb7c18>"
      ]
     },
     "execution_count": 173,
     "metadata": {},
     "output_type": "execute_result"
    }
   ],
   "source": [
    "from catboost import CatBoostClassifier\n",
    "\n",
    "cat_model = CatBoostClassifier(loss_function = 'MultiClass')\n",
    "cat_model.fit(psd_train_norm.reshape((n_ep_train, n_ch*n_f)), labels_train.argmax(1))"
   ]
  },
  {
   "cell_type": "code",
   "execution_count": 175,
   "metadata": {},
   "outputs": [
    {
     "data": {
      "text/plain": [
       "0.3728813559322034"
      ]
     },
     "execution_count": 175,
     "metadata": {},
     "output_type": "execute_result"
    }
   ],
   "source": [
    "cat_model.score(psd_test_norm.reshape(n_ep_test, n_ch*n_f), labels_test.argmax(1))"
   ]
  },
  {
   "cell_type": "code",
   "execution_count": 50,
   "metadata": {},
   "outputs": [
    {
     "data": {
      "text/plain": [
       "array([[0.],\n",
       "       [2.],\n",
       "       [1.],\n",
       "       [2.],\n",
       "       [2.],\n",
       "       [1.],\n",
       "       [0.],\n",
       "       [2.],\n",
       "       [2.],\n",
       "       [1.],\n",
       "       [2.],\n",
       "       [2.],\n",
       "       [0.],\n",
       "       [1.],\n",
       "       [1.],\n",
       "       [0.],\n",
       "       [2.],\n",
       "       [2.],\n",
       "       [1.],\n",
       "       [2.],\n",
       "       [1.],\n",
       "       [2.],\n",
       "       [1.],\n",
       "       [2.],\n",
       "       [0.],\n",
       "       [0.],\n",
       "       [0.],\n",
       "       [0.],\n",
       "       [2.],\n",
       "       [1.],\n",
       "       [2.],\n",
       "       [1.],\n",
       "       [2.],\n",
       "       [1.],\n",
       "       [0.],\n",
       "       [1.],\n",
       "       [0.],\n",
       "       [0.],\n",
       "       [1.],\n",
       "       [1.],\n",
       "       [2.],\n",
       "       [0.],\n",
       "       [2.],\n",
       "       [1.],\n",
       "       [2.],\n",
       "       [1.],\n",
       "       [2.],\n",
       "       [1.],\n",
       "       [0.],\n",
       "       [0.],\n",
       "       [1.],\n",
       "       [0.],\n",
       "       [0.],\n",
       "       [1.],\n",
       "       [2.],\n",
       "       [1.],\n",
       "       [0.],\n",
       "       [1.],\n",
       "       [0.]])"
      ]
     },
     "execution_count": 50,
     "metadata": {},
     "output_type": "execute_result"
    }
   ],
   "source": [
    "cat_model.predict(psd_test_norm.reshape(n_ep_test, n_ch*n_f))"
   ]
  },
  {
   "cell_type": "code",
   "execution_count": null,
   "metadata": {},
   "outputs": [],
   "source": []
  }
 ],
 "metadata": {
  "kernelspec": {
   "display_name": "Python 3",
   "language": "python",
   "name": "python3"
  },
  "language_info": {
   "codemirror_mode": {
    "name": "ipython",
    "version": 3
   },
   "file_extension": ".py",
   "mimetype": "text/x-python",
   "name": "python",
   "nbconvert_exporter": "python",
   "pygments_lexer": "ipython3",
   "version": "3.7.4"
  }
 },
 "nbformat": 4,
 "nbformat_minor": 2
}
